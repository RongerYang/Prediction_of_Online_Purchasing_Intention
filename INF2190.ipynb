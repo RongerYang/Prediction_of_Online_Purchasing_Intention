{
  "cells": [
    {
      "cell_type": "markdown",
      "metadata": {
        "id": "view-in-github",
        "colab_type": "text"
      },
      "source": [
        "<a href=\"https://colab.research.google.com/github/RongerYang/Prediction_of_Online_Purchasing_Intention/blob/main/INF2190.ipynb\" target=\"_parent\"><img src=\"https://colab.research.google.com/assets/colab-badge.svg\" alt=\"Open In Colab\"/></a>"
      ]
    },
    {
      "cell_type": "markdown",
      "metadata": {
        "id": "2vE5lxx08zvQ"
      },
      "source": [
        "# INF2190 - Project\n",
        "## Prediction of Online Purchasing Intention\n",
        "Jielin Jiang, 1008615278 <br>\n",
        "Toby Liang, 1003551364 <br>\n",
        "Tiancheng Sheng, 1007429819 <br>\n",
        "Ronger Yang, 1003010635 <br>"
      ]
    },
    {
      "cell_type": "code",
      "execution_count": null,
      "metadata": {
        "id": "hawkCEuVBbyh"
      },
      "outputs": [],
      "source": [
        "import pandas as pd \n",
        "import numpy as np\n",
        "\n",
        "import seaborn as sns                  \n",
        "import matplotlib.pyplot as plt        \n",
        "%matplotlib inline\n",
        "\n",
        "from sklearn.neighbors import KNeighborsClassifier #The algorithm\n",
        "from xgboost import XGBClassifier\n",
        "from sklearn.model_selection import train_test_split #Train and test split function\n",
        "from sklearn import metrics #To calculate model accuracy\n",
        "from sklearn.model_selection import cross_val_score\n",
        "from sklearn.model_selection import KFold\n",
        "from sklearn.model_selection import RandomizedSearchCV, GridSearchCV\n",
        "from sklearn.metrics import roc_auc_score\n",
        "from sklearn.model_selection import StratifiedKFold\n",
        "from sklearn.datasets import make_classification\n",
        "from sklearn.ensemble import RandomForestClassifier"
      ]
    },
    {
      "cell_type": "code",
      "execution_count": null,
      "metadata": {
        "colab": {
          "base_uri": "https://localhost:8080/",
          "height": 288
        },
        "id": "qEdO9mZMGs7M",
        "outputId": "24aecc32-d3be-4e89-b30a-f05342751a22"
      },
      "outputs": [
        {
          "output_type": "stream",
          "name": "stdout",
          "text": [
            "(12330, 18)\n"
          ]
        },
        {
          "output_type": "execute_result",
          "data": {
            "text/plain": [
              "   Administrative  Administrative_Duration  Informational  \\\n",
              "0               0                      0.0              0   \n",
              "1               0                      0.0              0   \n",
              "2               0                      0.0              0   \n",
              "3               0                      0.0              0   \n",
              "4               0                      0.0              0   \n",
              "\n",
              "   Informational_Duration  ProductRelated  ProductRelated_Duration  \\\n",
              "0                     0.0               1                 0.000000   \n",
              "1                     0.0               2                64.000000   \n",
              "2                     0.0               1                 0.000000   \n",
              "3                     0.0               2                 2.666667   \n",
              "4                     0.0              10               627.500000   \n",
              "\n",
              "   BounceRates  ExitRates  PageValues  SpecialDay Month  OperatingSystems  \\\n",
              "0         0.20       0.20         0.0         0.0   Feb                 1   \n",
              "1         0.00       0.10         0.0         0.0   Feb                 2   \n",
              "2         0.20       0.20         0.0         0.0   Feb                 4   \n",
              "3         0.05       0.14         0.0         0.0   Feb                 3   \n",
              "4         0.02       0.05         0.0         0.0   Feb                 3   \n",
              "\n",
              "   Browser  Region  TrafficType        VisitorType  Weekend  Revenue  \n",
              "0        1       1            1  Returning_Visitor    False    False  \n",
              "1        2       1            2  Returning_Visitor    False    False  \n",
              "2        1       9            3  Returning_Visitor    False    False  \n",
              "3        2       2            4  Returning_Visitor    False    False  \n",
              "4        3       1            4  Returning_Visitor     True    False  "
            ],
            "text/html": [
              "\n",
              "  <div id=\"df-c55bbf79-4b6c-472a-9bac-41052258fb5f\">\n",
              "    <div class=\"colab-df-container\">\n",
              "      <div>\n",
              "<style scoped>\n",
              "    .dataframe tbody tr th:only-of-type {\n",
              "        vertical-align: middle;\n",
              "    }\n",
              "\n",
              "    .dataframe tbody tr th {\n",
              "        vertical-align: top;\n",
              "    }\n",
              "\n",
              "    .dataframe thead th {\n",
              "        text-align: right;\n",
              "    }\n",
              "</style>\n",
              "<table border=\"1\" class=\"dataframe\">\n",
              "  <thead>\n",
              "    <tr style=\"text-align: right;\">\n",
              "      <th></th>\n",
              "      <th>Administrative</th>\n",
              "      <th>Administrative_Duration</th>\n",
              "      <th>Informational</th>\n",
              "      <th>Informational_Duration</th>\n",
              "      <th>ProductRelated</th>\n",
              "      <th>ProductRelated_Duration</th>\n",
              "      <th>BounceRates</th>\n",
              "      <th>ExitRates</th>\n",
              "      <th>PageValues</th>\n",
              "      <th>SpecialDay</th>\n",
              "      <th>Month</th>\n",
              "      <th>OperatingSystems</th>\n",
              "      <th>Browser</th>\n",
              "      <th>Region</th>\n",
              "      <th>TrafficType</th>\n",
              "      <th>VisitorType</th>\n",
              "      <th>Weekend</th>\n",
              "      <th>Revenue</th>\n",
              "    </tr>\n",
              "  </thead>\n",
              "  <tbody>\n",
              "    <tr>\n",
              "      <th>0</th>\n",
              "      <td>0</td>\n",
              "      <td>0.0</td>\n",
              "      <td>0</td>\n",
              "      <td>0.0</td>\n",
              "      <td>1</td>\n",
              "      <td>0.000000</td>\n",
              "      <td>0.20</td>\n",
              "      <td>0.20</td>\n",
              "      <td>0.0</td>\n",
              "      <td>0.0</td>\n",
              "      <td>Feb</td>\n",
              "      <td>1</td>\n",
              "      <td>1</td>\n",
              "      <td>1</td>\n",
              "      <td>1</td>\n",
              "      <td>Returning_Visitor</td>\n",
              "      <td>False</td>\n",
              "      <td>False</td>\n",
              "    </tr>\n",
              "    <tr>\n",
              "      <th>1</th>\n",
              "      <td>0</td>\n",
              "      <td>0.0</td>\n",
              "      <td>0</td>\n",
              "      <td>0.0</td>\n",
              "      <td>2</td>\n",
              "      <td>64.000000</td>\n",
              "      <td>0.00</td>\n",
              "      <td>0.10</td>\n",
              "      <td>0.0</td>\n",
              "      <td>0.0</td>\n",
              "      <td>Feb</td>\n",
              "      <td>2</td>\n",
              "      <td>2</td>\n",
              "      <td>1</td>\n",
              "      <td>2</td>\n",
              "      <td>Returning_Visitor</td>\n",
              "      <td>False</td>\n",
              "      <td>False</td>\n",
              "    </tr>\n",
              "    <tr>\n",
              "      <th>2</th>\n",
              "      <td>0</td>\n",
              "      <td>0.0</td>\n",
              "      <td>0</td>\n",
              "      <td>0.0</td>\n",
              "      <td>1</td>\n",
              "      <td>0.000000</td>\n",
              "      <td>0.20</td>\n",
              "      <td>0.20</td>\n",
              "      <td>0.0</td>\n",
              "      <td>0.0</td>\n",
              "      <td>Feb</td>\n",
              "      <td>4</td>\n",
              "      <td>1</td>\n",
              "      <td>9</td>\n",
              "      <td>3</td>\n",
              "      <td>Returning_Visitor</td>\n",
              "      <td>False</td>\n",
              "      <td>False</td>\n",
              "    </tr>\n",
              "    <tr>\n",
              "      <th>3</th>\n",
              "      <td>0</td>\n",
              "      <td>0.0</td>\n",
              "      <td>0</td>\n",
              "      <td>0.0</td>\n",
              "      <td>2</td>\n",
              "      <td>2.666667</td>\n",
              "      <td>0.05</td>\n",
              "      <td>0.14</td>\n",
              "      <td>0.0</td>\n",
              "      <td>0.0</td>\n",
              "      <td>Feb</td>\n",
              "      <td>3</td>\n",
              "      <td>2</td>\n",
              "      <td>2</td>\n",
              "      <td>4</td>\n",
              "      <td>Returning_Visitor</td>\n",
              "      <td>False</td>\n",
              "      <td>False</td>\n",
              "    </tr>\n",
              "    <tr>\n",
              "      <th>4</th>\n",
              "      <td>0</td>\n",
              "      <td>0.0</td>\n",
              "      <td>0</td>\n",
              "      <td>0.0</td>\n",
              "      <td>10</td>\n",
              "      <td>627.500000</td>\n",
              "      <td>0.02</td>\n",
              "      <td>0.05</td>\n",
              "      <td>0.0</td>\n",
              "      <td>0.0</td>\n",
              "      <td>Feb</td>\n",
              "      <td>3</td>\n",
              "      <td>3</td>\n",
              "      <td>1</td>\n",
              "      <td>4</td>\n",
              "      <td>Returning_Visitor</td>\n",
              "      <td>True</td>\n",
              "      <td>False</td>\n",
              "    </tr>\n",
              "  </tbody>\n",
              "</table>\n",
              "</div>\n",
              "      <button class=\"colab-df-convert\" onclick=\"convertToInteractive('df-c55bbf79-4b6c-472a-9bac-41052258fb5f')\"\n",
              "              title=\"Convert this dataframe to an interactive table.\"\n",
              "              style=\"display:none;\">\n",
              "        \n",
              "  <svg xmlns=\"http://www.w3.org/2000/svg\" height=\"24px\"viewBox=\"0 0 24 24\"\n",
              "       width=\"24px\">\n",
              "    <path d=\"M0 0h24v24H0V0z\" fill=\"none\"/>\n",
              "    <path d=\"M18.56 5.44l.94 2.06.94-2.06 2.06-.94-2.06-.94-.94-2.06-.94 2.06-2.06.94zm-11 1L8.5 8.5l.94-2.06 2.06-.94-2.06-.94L8.5 2.5l-.94 2.06-2.06.94zm10 10l.94 2.06.94-2.06 2.06-.94-2.06-.94-.94-2.06-.94 2.06-2.06.94z\"/><path d=\"M17.41 7.96l-1.37-1.37c-.4-.4-.92-.59-1.43-.59-.52 0-1.04.2-1.43.59L10.3 9.45l-7.72 7.72c-.78.78-.78 2.05 0 2.83L4 21.41c.39.39.9.59 1.41.59.51 0 1.02-.2 1.41-.59l7.78-7.78 2.81-2.81c.8-.78.8-2.07 0-2.86zM5.41 20L4 18.59l7.72-7.72 1.47 1.35L5.41 20z\"/>\n",
              "  </svg>\n",
              "      </button>\n",
              "      \n",
              "  <style>\n",
              "    .colab-df-container {\n",
              "      display:flex;\n",
              "      flex-wrap:wrap;\n",
              "      gap: 12px;\n",
              "    }\n",
              "\n",
              "    .colab-df-convert {\n",
              "      background-color: #E8F0FE;\n",
              "      border: none;\n",
              "      border-radius: 50%;\n",
              "      cursor: pointer;\n",
              "      display: none;\n",
              "      fill: #1967D2;\n",
              "      height: 32px;\n",
              "      padding: 0 0 0 0;\n",
              "      width: 32px;\n",
              "    }\n",
              "\n",
              "    .colab-df-convert:hover {\n",
              "      background-color: #E2EBFA;\n",
              "      box-shadow: 0px 1px 2px rgba(60, 64, 67, 0.3), 0px 1px 3px 1px rgba(60, 64, 67, 0.15);\n",
              "      fill: #174EA6;\n",
              "    }\n",
              "\n",
              "    [theme=dark] .colab-df-convert {\n",
              "      background-color: #3B4455;\n",
              "      fill: #D2E3FC;\n",
              "    }\n",
              "\n",
              "    [theme=dark] .colab-df-convert:hover {\n",
              "      background-color: #434B5C;\n",
              "      box-shadow: 0px 1px 3px 1px rgba(0, 0, 0, 0.15);\n",
              "      filter: drop-shadow(0px 1px 2px rgba(0, 0, 0, 0.3));\n",
              "      fill: #FFFFFF;\n",
              "    }\n",
              "  </style>\n",
              "\n",
              "      <script>\n",
              "        const buttonEl =\n",
              "          document.querySelector('#df-c55bbf79-4b6c-472a-9bac-41052258fb5f button.colab-df-convert');\n",
              "        buttonEl.style.display =\n",
              "          google.colab.kernel.accessAllowed ? 'block' : 'none';\n",
              "\n",
              "        async function convertToInteractive(key) {\n",
              "          const element = document.querySelector('#df-c55bbf79-4b6c-472a-9bac-41052258fb5f');\n",
              "          const dataTable =\n",
              "            await google.colab.kernel.invokeFunction('convertToInteractive',\n",
              "                                                     [key], {});\n",
              "          if (!dataTable) return;\n",
              "\n",
              "          const docLinkHtml = 'Like what you see? Visit the ' +\n",
              "            '<a target=\"_blank\" href=https://colab.research.google.com/notebooks/data_table.ipynb>data table notebook</a>'\n",
              "            + ' to learn more about interactive tables.';\n",
              "          element.innerHTML = '';\n",
              "          dataTable['output_type'] = 'display_data';\n",
              "          await google.colab.output.renderOutput(dataTable, element);\n",
              "          const docLink = document.createElement('div');\n",
              "          docLink.innerHTML = docLinkHtml;\n",
              "          element.appendChild(docLink);\n",
              "        }\n",
              "      </script>\n",
              "    </div>\n",
              "  </div>\n",
              "  "
            ]
          },
          "metadata": {},
          "execution_count": 6
        }
      ],
      "source": [
        "dataset = pd.read_csv(\"https://archive.ics.uci.edu/ml/machine-learning-databases/00468/online_shoppers_intention.csv\")\n",
        "print(dataset.shape)\n",
        "dataset.head()"
      ]
    },
    {
      "cell_type": "code",
      "execution_count": null,
      "metadata": {
        "colab": {
          "base_uri": "https://localhost:8080/"
        },
        "id": "0ULf5D0mIbzH",
        "outputId": "f5e4230e-8207-4246-dc2d-b774fdeb70e7"
      },
      "outputs": [
        {
          "output_type": "stream",
          "name": "stdout",
          "text": [
            "<class 'pandas.core.frame.DataFrame'>\n",
            "RangeIndex: 12330 entries, 0 to 12329\n",
            "Data columns (total 18 columns):\n",
            " #   Column                   Non-Null Count  Dtype  \n",
            "---  ------                   --------------  -----  \n",
            " 0   Administrative           12330 non-null  int64  \n",
            " 1   Administrative_Duration  12330 non-null  float64\n",
            " 2   Informational            12330 non-null  int64  \n",
            " 3   Informational_Duration   12330 non-null  float64\n",
            " 4   ProductRelated           12330 non-null  int64  \n",
            " 5   ProductRelated_Duration  12330 non-null  float64\n",
            " 6   BounceRates              12330 non-null  float64\n",
            " 7   ExitRates                12330 non-null  float64\n",
            " 8   PageValues               12330 non-null  float64\n",
            " 9   SpecialDay               12330 non-null  float64\n",
            " 10  Month                    12330 non-null  object \n",
            " 11  OperatingSystems         12330 non-null  int64  \n",
            " 12  Browser                  12330 non-null  int64  \n",
            " 13  Region                   12330 non-null  int64  \n",
            " 14  TrafficType              12330 non-null  int64  \n",
            " 15  VisitorType              12330 non-null  object \n",
            " 16  Weekend                  12330 non-null  bool   \n",
            " 17  Revenue                  12330 non-null  bool   \n",
            "dtypes: bool(2), float64(7), int64(7), object(2)\n",
            "memory usage: 1.5+ MB\n"
          ]
        }
      ],
      "source": [
        "# dataset['Month'] = dataset['Month'].astype('category')\n",
        "# dataset['VisitorType'] = dataset['VisitorType'].astype('category')\n",
        "# dataset['Weekend'] = dataset['Weekend'].astype('category')\n",
        "# dataset['Revenue'] = dataset['Revenue'].astype('category')\n",
        "dataset.info()"
      ]
    },
    {
      "cell_type": "markdown",
      "source": [
        "One-hot Encoding"
      ],
      "metadata": {
        "id": "Oav8GQCXwsp-"
      }
    },
    {
      "cell_type": "code",
      "execution_count": null,
      "metadata": {
        "colab": {
          "base_uri": "https://localhost:8080/"
        },
        "id": "iWX6YmD5nGbp",
        "outputId": "28ace268-e184-48fc-f3bd-0ab289ba98e1"
      },
      "outputs": [
        {
          "output_type": "stream",
          "name": "stdout",
          "text": [
            "<class 'pandas.core.frame.DataFrame'>\n",
            "RangeIndex: 12330 entries, 0 to 12329\n",
            "Data columns (total 26 columns):\n",
            " #   Column                         Non-Null Count  Dtype  \n",
            "---  ------                         --------------  -----  \n",
            " 0   Administrative                 12330 non-null  int64  \n",
            " 1   Administrative_Duration        12330 non-null  float64\n",
            " 2   Informational                  12330 non-null  int64  \n",
            " 3   Informational_Duration         12330 non-null  float64\n",
            " 4   ProductRelated                 12330 non-null  int64  \n",
            " 5   ProductRelated_Duration        12330 non-null  float64\n",
            " 6   BounceRates                    12330 non-null  float64\n",
            " 7   ExitRates                      12330 non-null  float64\n",
            " 8   PageValues                     12330 non-null  float64\n",
            " 9   SpecialDay                     12330 non-null  float64\n",
            " 10  TrafficType                    12330 non-null  int64  \n",
            " 11  Weekend                        12330 non-null  bool   \n",
            " 12  Revenue                        12330 non-null  bool   \n",
            " 13  Month_Aug                      12330 non-null  uint8  \n",
            " 14  Month_Dec                      12330 non-null  uint8  \n",
            " 15  Month_Feb                      12330 non-null  uint8  \n",
            " 16  Month_Jul                      12330 non-null  uint8  \n",
            " 17  Month_June                     12330 non-null  uint8  \n",
            " 18  Month_Mar                      12330 non-null  uint8  \n",
            " 19  Month_May                      12330 non-null  uint8  \n",
            " 20  Month_Nov                      12330 non-null  uint8  \n",
            " 21  Month_Oct                      12330 non-null  uint8  \n",
            " 22  Month_Sep                      12330 non-null  uint8  \n",
            " 23  VisitorType_New_Visitor        12330 non-null  uint8  \n",
            " 24  VisitorType_Other              12330 non-null  uint8  \n",
            " 25  VisitorType_Returning_Visitor  12330 non-null  uint8  \n",
            "dtypes: bool(2), float64(7), int64(4), uint8(13)\n",
            "memory usage: 1.2 MB\n"
          ]
        }
      ],
      "source": [
        "dummy_df = pd.get_dummies(dataset)\n",
        "dummy_df.info()"
      ]
    },
    {
      "cell_type": "markdown",
      "metadata": {
        "id": "y2cXJOZUKrkW"
      },
      "source": [
        "# EDA\n"
      ]
    },
    {
      "cell_type": "code",
      "execution_count": null,
      "metadata": {
        "id": "wsBoVGSgJ4N4"
      },
      "outputs": [],
      "source": [
        "sns.set_theme(style=\"darkgrid\")"
      ]
    },
    {
      "cell_type": "markdown",
      "metadata": {
        "id": "S3D8o4tH_bcb"
      },
      "source": [
        "### Distribution of "
      ]
    },
    {
      "cell_type": "code",
      "execution_count": 51,
      "metadata": {
        "colab": {
          "base_uri": "https://localhost:8080/",
          "height": 297
        },
        "id": "zD0zWwhIJ4Uw",
        "outputId": "bffe6f83-ba57-45aa-fbe0-05e7d8ca538a"
      },
      "outputs": [
        {
          "output_type": "display_data",
          "data": {
            "text/plain": [
              "<Figure size 432x288 with 1 Axes>"
            ],
            "image/png": "[encoded data removed]"
          },
          "metadata": {
            "needs_background": "light"
          }
        }
      ],
      "source": [
        "# colors = sns.color_palette('pastel')[0:5]\n",
        "plt.figure()\n",
        "sns.countplot(data=dataset, x='Revenue')\n",
        "plt.title('Revenue', fontsize=15, fontweight='bold')\n",
        "plt.show()"
      ]
    },
    {
      "cell_type": "code",
      "execution_count": 52,
      "metadata": {
        "id": "MdAaw7v5J4Ys"
      },
      "outputs": [],
      "source": [
        "operating_system = {1 : \"IOS\", 2 : \"Android Mobile\", 3 : \"Windows\", 4 : \"Linux\", \n",
        "                    5 : \"MS-DOS\", 6 : \"Fedora\", 7 : \"Ubuntu\", 8: \"Solaris\"}\n",
        "\n",
        "browser = {1 : \"Firefox\", 2 : \"Google Chrome\", 3 : \"Microsoft Edge\", 4 : \"Apple Safari\", \n",
        "           5 : \"Opera\", 6 : \"Brave\", 7 : \"UCBrowser\", 8: \"DuckDuckgo\",\n",
        "           9 : \"Chromium\", 10 : \"Epic\", 11 : \"Internet Explorer\", 12: \"Tor Browser\",\n",
        "           13 : \"Maxthon\"}\n",
        "\n",
        "region = {1 : \"China\", 2 : \"Indonesia\", 3 : \"India\", 4 : \"United States\", \n",
        "          5 : \"Brazil\", 6 : \"Nigeria\", 7 : \"Japan\", 8: \"Russia\",\n",
        "          9 : \"Bangladesh\"}\n",
        "\n",
        "dataset.OperatingSystems = dataset.OperatingSystems.map(operating_system)\n",
        "dataset.Browser = dataset.Browser.map(browser)\n",
        "dataset.Region = dataset.Region.map(region)"
      ]
    },
    {
      "cell_type": "code",
      "execution_count": null,
      "metadata": {
        "colab": {
          "base_uri": "https://localhost:8080/",
          "height": 645
        },
        "id": "NXiWEFJAJ4cR",
        "outputId": "bff2f9a4-f209-47e6-f6cf-7d6c46c5f8d1"
      },
      "outputs": [
        {
          "output_type": "error",
          "ename": "IndexError",
          "evalue": "ignored",
          "traceback": [
            "\u001b[0;31m---------------------------------------------------------------------------\u001b[0m",
            "\u001b[0;31mIndexError\u001b[0m                                Traceback (most recent call last)",
            "\u001b[0;32m<ipython-input-11-96978ee84d74>\u001b[0m in \u001b[0;36m<module>\u001b[0;34m()\u001b[0m\n\u001b[1;32m      3\u001b[0m \u001b[0;34m\u001b[0m\u001b[0m\n\u001b[1;32m      4\u001b[0m \u001b[0mplt\u001b[0m\u001b[0;34m.\u001b[0m\u001b[0msubplot\u001b[0m\u001b[0;34m(\u001b[0m\u001b[0;36m331\u001b[0m\u001b[0;34m)\u001b[0m\u001b[0;34m\u001b[0m\u001b[0;34m\u001b[0m\u001b[0m\n\u001b[0;32m----> 5\u001b[0;31m \u001b[0mdataset\u001b[0m\u001b[0;34m.\u001b[0m\u001b[0mOperatingSystems\u001b[0m\u001b[0;34m.\u001b[0m\u001b[0mvalue_counts\u001b[0m\u001b[0;34m(\u001b[0m\u001b[0;34m)\u001b[0m\u001b[0;34m.\u001b[0m\u001b[0mplot\u001b[0m\u001b[0;34m.\u001b[0m\u001b[0mbar\u001b[0m\u001b[0;34m(\u001b[0m\u001b[0mtitle\u001b[0m\u001b[0;34m=\u001b[0m\u001b[0;34m'OperatingSystems'\u001b[0m\u001b[0;34m)\u001b[0m\u001b[0;34m\u001b[0m\u001b[0;34m\u001b[0m\u001b[0m\n\u001b[0m\u001b[1;32m      6\u001b[0m \u001b[0;34m\u001b[0m\u001b[0m\n\u001b[1;32m      7\u001b[0m \u001b[0mplt\u001b[0m\u001b[0;34m.\u001b[0m\u001b[0msubplot\u001b[0m\u001b[0;34m(\u001b[0m\u001b[0;36m332\u001b[0m\u001b[0;34m)\u001b[0m\u001b[0;34m\u001b[0m\u001b[0;34m\u001b[0m\u001b[0m\n",
            "\u001b[0;32m/usr/local/lib/python3.7/dist-packages/pandas/plotting/_core.py\u001b[0m in \u001b[0;36mbar\u001b[0;34m(self, x, y, **kwargs)\u001b[0m\n\u001b[1;32m   1128\u001b[0m         \u001b[0mother\u001b[0m \u001b[0maxis\u001b[0m \u001b[0mrepresents\u001b[0m \u001b[0ma\u001b[0m \u001b[0mmeasured\u001b[0m \u001b[0mvalue\u001b[0m\u001b[0;34m.\u001b[0m\u001b[0;34m\u001b[0m\u001b[0;34m\u001b[0m\u001b[0m\n\u001b[1;32m   1129\u001b[0m         \"\"\"\n\u001b[0;32m-> 1130\u001b[0;31m         \u001b[0;32mreturn\u001b[0m \u001b[0mself\u001b[0m\u001b[0;34m(\u001b[0m\u001b[0mkind\u001b[0m\u001b[0;34m=\u001b[0m\u001b[0;34m\"bar\"\u001b[0m\u001b[0;34m,\u001b[0m \u001b[0mx\u001b[0m\u001b[0;34m=\u001b[0m\u001b[0mx\u001b[0m\u001b[0;34m,\u001b[0m \u001b[0my\u001b[0m\u001b[0;34m=\u001b[0m\u001b[0my\u001b[0m\u001b[0;34m,\u001b[0m \u001b[0;34m**\u001b[0m\u001b[0mkwargs\u001b[0m\u001b[0;34m)\u001b[0m\u001b[0;34m\u001b[0m\u001b[0;34m\u001b[0m\u001b[0m\n\u001b[0m\u001b[1;32m   1131\u001b[0m \u001b[0;34m\u001b[0m\u001b[0m\n\u001b[1;32m   1132\u001b[0m     @Appender(\n",
            "\u001b[0;32m/usr/local/lib/python3.7/dist-packages/pandas/plotting/_core.py\u001b[0m in \u001b[0;36m__call__\u001b[0;34m(self, *args, **kwargs)\u001b[0m\n\u001b[1;32m    970\u001b[0m                     \u001b[0mdata\u001b[0m\u001b[0;34m.\u001b[0m\u001b[0mcolumns\u001b[0m \u001b[0;34m=\u001b[0m \u001b[0mlabel_name\u001b[0m\u001b[0;34m\u001b[0m\u001b[0;34m\u001b[0m\u001b[0m\n\u001b[1;32m    971\u001b[0m \u001b[0;34m\u001b[0m\u001b[0m\n\u001b[0;32m--> 972\u001b[0;31m         \u001b[0;32mreturn\u001b[0m \u001b[0mplot_backend\u001b[0m\u001b[0;34m.\u001b[0m\u001b[0mplot\u001b[0m\u001b[0;34m(\u001b[0m\u001b[0mdata\u001b[0m\u001b[0;34m,\u001b[0m \u001b[0mkind\u001b[0m\u001b[0;34m=\u001b[0m\u001b[0mkind\u001b[0m\u001b[0;34m,\u001b[0m \u001b[0;34m**\u001b[0m\u001b[0mkwargs\u001b[0m\u001b[0;34m)\u001b[0m\u001b[0;34m\u001b[0m\u001b[0;34m\u001b[0m\u001b[0m\n\u001b[0m\u001b[1;32m    973\u001b[0m \u001b[0;34m\u001b[0m\u001b[0m\n\u001b[1;32m    974\u001b[0m     \u001b[0m__call__\u001b[0m\u001b[0;34m.\u001b[0m\u001b[0m__doc__\u001b[0m \u001b[0;34m=\u001b[0m \u001b[0m__doc__\u001b[0m\u001b[0;34m\u001b[0m\u001b[0;34m\u001b[0m\u001b[0m\n",
            "\u001b[0;32m/usr/local/lib/python3.7/dist-packages/pandas/plotting/_matplotlib/__init__.py\u001b[0m in \u001b[0;36mplot\u001b[0;34m(data, kind, **kwargs)\u001b[0m\n\u001b[1;32m     69\u001b[0m             \u001b[0mkwargs\u001b[0m\u001b[0;34m[\u001b[0m\u001b[0;34m\"ax\"\u001b[0m\u001b[0;34m]\u001b[0m \u001b[0;34m=\u001b[0m \u001b[0mgetattr\u001b[0m\u001b[0;34m(\u001b[0m\u001b[0max\u001b[0m\u001b[0;34m,\u001b[0m \u001b[0;34m\"left_ax\"\u001b[0m\u001b[0;34m,\u001b[0m \u001b[0max\u001b[0m\u001b[0;34m)\u001b[0m\u001b[0;34m\u001b[0m\u001b[0;34m\u001b[0m\u001b[0m\n\u001b[1;32m     70\u001b[0m     \u001b[0mplot_obj\u001b[0m \u001b[0;34m=\u001b[0m \u001b[0mPLOT_CLASSES\u001b[0m\u001b[0;34m[\u001b[0m\u001b[0mkind\u001b[0m\u001b[0;34m]\u001b[0m\u001b[0;34m(\u001b[0m\u001b[0mdata\u001b[0m\u001b[0;34m,\u001b[0m \u001b[0;34m**\u001b[0m\u001b[0mkwargs\u001b[0m\u001b[0;34m)\u001b[0m\u001b[0;34m\u001b[0m\u001b[0;34m\u001b[0m\u001b[0m\n\u001b[0;32m---> 71\u001b[0;31m     \u001b[0mplot_obj\u001b[0m\u001b[0;34m.\u001b[0m\u001b[0mgenerate\u001b[0m\u001b[0;34m(\u001b[0m\u001b[0;34m)\u001b[0m\u001b[0;34m\u001b[0m\u001b[0;34m\u001b[0m\u001b[0m\n\u001b[0m\u001b[1;32m     72\u001b[0m     \u001b[0mplot_obj\u001b[0m\u001b[0;34m.\u001b[0m\u001b[0mdraw\u001b[0m\u001b[0;34m(\u001b[0m\u001b[0;34m)\u001b[0m\u001b[0;34m\u001b[0m\u001b[0;34m\u001b[0m\u001b[0m\n\u001b[1;32m     73\u001b[0m     \u001b[0;32mreturn\u001b[0m \u001b[0mplot_obj\u001b[0m\u001b[0;34m.\u001b[0m\u001b[0mresult\u001b[0m\u001b[0;34m\u001b[0m\u001b[0;34m\u001b[0m\u001b[0m\n",
            "\u001b[0;32m/usr/local/lib/python3.7/dist-packages/pandas/plotting/_matplotlib/core.py\u001b[0m in \u001b[0;36mgenerate\u001b[0;34m(self)\u001b[0m\n\u001b[1;32m    293\u001b[0m         \u001b[0;32mfor\u001b[0m \u001b[0max\u001b[0m \u001b[0;32min\u001b[0m \u001b[0mself\u001b[0m\u001b[0;34m.\u001b[0m\u001b[0maxes\u001b[0m\u001b[0;34m:\u001b[0m\u001b[0;34m\u001b[0m\u001b[0;34m\u001b[0m\u001b[0m\n\u001b[1;32m    294\u001b[0m             \u001b[0mself\u001b[0m\u001b[0;34m.\u001b[0m\u001b[0m_post_plot_logic_common\u001b[0m\u001b[0;34m(\u001b[0m\u001b[0max\u001b[0m\u001b[0;34m,\u001b[0m \u001b[0mself\u001b[0m\u001b[0;34m.\u001b[0m\u001b[0mdata\u001b[0m\u001b[0;34m)\u001b[0m\u001b[0;34m\u001b[0m\u001b[0;34m\u001b[0m\u001b[0m\n\u001b[0;32m--> 295\u001b[0;31m             \u001b[0mself\u001b[0m\u001b[0;34m.\u001b[0m\u001b[0m_post_plot_logic\u001b[0m\u001b[0;34m(\u001b[0m\u001b[0max\u001b[0m\u001b[0;34m,\u001b[0m \u001b[0mself\u001b[0m\u001b[0;34m.\u001b[0m\u001b[0mdata\u001b[0m\u001b[0;34m)\u001b[0m\u001b[0;34m\u001b[0m\u001b[0;34m\u001b[0m\u001b[0m\n\u001b[0m\u001b[1;32m    296\u001b[0m \u001b[0;34m\u001b[0m\u001b[0m\n\u001b[1;32m    297\u001b[0m     \u001b[0;32mdef\u001b[0m \u001b[0m_args_adjust\u001b[0m\u001b[0;34m(\u001b[0m\u001b[0mself\u001b[0m\u001b[0;34m)\u001b[0m\u001b[0;34m:\u001b[0m\u001b[0;34m\u001b[0m\u001b[0;34m\u001b[0m\u001b[0m\n",
            "\u001b[0;32m/usr/local/lib/python3.7/dist-packages/pandas/plotting/_matplotlib/core.py\u001b[0m in \u001b[0;36m_post_plot_logic\u001b[0;34m(self, ax, data)\u001b[0m\n\u001b[1;32m   1526\u001b[0m         \u001b[0mname\u001b[0m \u001b[0;34m=\u001b[0m \u001b[0mself\u001b[0m\u001b[0;34m.\u001b[0m\u001b[0m_get_index_name\u001b[0m\u001b[0;34m(\u001b[0m\u001b[0;34m)\u001b[0m\u001b[0;34m\u001b[0m\u001b[0;34m\u001b[0m\u001b[0m\n\u001b[1;32m   1527\u001b[0m \u001b[0;34m\u001b[0m\u001b[0m\n\u001b[0;32m-> 1528\u001b[0;31m         \u001b[0ms_edge\u001b[0m \u001b[0;34m=\u001b[0m \u001b[0mself\u001b[0m\u001b[0;34m.\u001b[0m\u001b[0max_pos\u001b[0m\u001b[0;34m[\u001b[0m\u001b[0;36m0\u001b[0m\u001b[0;34m]\u001b[0m \u001b[0;34m-\u001b[0m \u001b[0;36m0.25\u001b[0m \u001b[0;34m+\u001b[0m \u001b[0mself\u001b[0m\u001b[0;34m.\u001b[0m\u001b[0mlim_offset\u001b[0m\u001b[0;34m\u001b[0m\u001b[0;34m\u001b[0m\u001b[0m\n\u001b[0m\u001b[1;32m   1529\u001b[0m         \u001b[0me_edge\u001b[0m \u001b[0;34m=\u001b[0m \u001b[0mself\u001b[0m\u001b[0;34m.\u001b[0m\u001b[0max_pos\u001b[0m\u001b[0;34m[\u001b[0m\u001b[0;34m-\u001b[0m\u001b[0;36m1\u001b[0m\u001b[0;34m]\u001b[0m \u001b[0;34m+\u001b[0m \u001b[0;36m0.25\u001b[0m \u001b[0;34m+\u001b[0m \u001b[0mself\u001b[0m\u001b[0;34m.\u001b[0m\u001b[0mbar_width\u001b[0m \u001b[0;34m+\u001b[0m \u001b[0mself\u001b[0m\u001b[0;34m.\u001b[0m\u001b[0mlim_offset\u001b[0m\u001b[0;34m\u001b[0m\u001b[0;34m\u001b[0m\u001b[0m\n\u001b[1;32m   1530\u001b[0m \u001b[0;34m\u001b[0m\u001b[0m\n",
            "\u001b[0;31mIndexError\u001b[0m: index 0 is out of bounds for axis 0 with size 0"
          ]
        },
        {
          "output_type": "display_data",
          "data": {
            "text/plain": [
              "<Figure size 1152x1008 with 1 Axes>"
            ],
            "image/png": "[encoded data removed]"
          },
          "metadata": {}
        }
      ],
      "source": [
        "fig = plt.figure(figsize=(16, 14))\n",
        "fig.subplots_adjust(hspace=0.8)\n",
        "\n",
        "plt.subplot(331) \n",
        "dataset.OperatingSystems.value_counts().plot.bar(title='OperatingSystems')\n",
        "\n",
        "plt.subplot(332) \n",
        "dataset.Browser.value_counts().plot.bar(title='Browser')\n",
        "\n",
        "plt.subplot(333)\n",
        "dataset.Region.value_counts().plot.bar(title='Region') \n",
        "\n",
        "plt.subplot(334)\n",
        "dataset['TrafficType'].value_counts(normalize=True).plot.bar(title='TrafficType')\n",
        "\n",
        "plt.subplot(335) \n",
        "dataset['Month'].value_counts(normalize=True).plot.bar(title= 'Months')\n",
        "\n",
        "plt.subplot(336) \n",
        "dataset['VisitorType'].value_counts(normalize=True).plot.bar(title= 'VisitorType')\n",
        "\n",
        "plt.subplot(337) \n",
        "dataset['Weekend'].value_counts(normalize=True).plot.bar(title= 'Weekend')\n",
        "plt.show()"
      ]
    },
    {
      "cell_type": "code",
      "execution_count": null,
      "metadata": {
        "colab": {
          "base_uri": "https://localhost:8080/",
          "height": 624
        },
        "id": "9kF_o5NT7pz0",
        "outputId": "da3dd7e8-457c-4c10-c451-3ac5b1c9811c"
      },
      "outputs": [
        {
          "output_type": "display_data",
          "data": {
            "text/plain": [
              "<Figure size 1800x648 with 2 Axes>"
            ],
            "image/png": "[encoded data removed]"
          },
          "metadata": {}
        }
      ],
      "source": [
        "# Correlation Matrix\n",
        "corr = dataset.corr()\n",
        "g = sns.heatmap(corr, \n",
        "                vmax=.3, center=0,\n",
        "                square=True, linewidths=.5, \n",
        "                cbar_kws={\"shrink\": .5}, annot=True, \n",
        "                fmt='.2f', cmap='coolwarm')\n",
        "g.figure.set_size_inches(25,9)\n",
        "plt.show()"
      ]
    },
    {
      "cell_type": "markdown",
      "metadata": {
        "id": "FQFTXT48qFOG"
      },
      "source": [
        "# Train-Test Split & Data Balancing"
      ]
    },
    {
      "cell_type": "code",
      "execution_count": null,
      "metadata": {
        "colab": {
          "base_uri": "https://localhost:8080/"
        },
        "id": "p78PVsZAOJ0B",
        "outputId": "032f11ed-13ac-4b11-b45e-5fc3952ac2f7"
      },
      "outputs": [
        {
          "output_type": "stream",
          "name": "stdout",
          "text": [
            "Training target statistics: Counter({False: 8307, True: 1557})\n",
            "Testing target statistics: Counter({False: 2115, True: 351})\n"
          ]
        }
      ],
      "source": [
        "X = dummy_df.drop('Revenue', axis=1)\n",
        "\n",
        "# separate target values\n",
        "y = dummy_df.Revenue\n",
        "\n",
        "# The full dataset is randomly divided into the \"train\" and \"test\" sets\n",
        "X_train, X_test, y_train, y_test = train_test_split(X, y, test_size = 0.2, random_state = 1) #80% training and 20% test\n",
        "\n",
        "from collections import Counter\n",
        "print(f\"Training target statistics: {Counter(y_train)}\")\n",
        "print(f\"Testing target statistics: {Counter(y_test)}\")\n",
        "\n"
      ]
    },
    {
      "cell_type": "code",
      "execution_count": 12,
      "metadata": {
        "id": "SlhP5zgtF9mq",
        "colab": {
          "base_uri": "https://localhost:8080/"
        },
        "outputId": "174b450d-d4dd-4715-fb3f-05609c2f94ea"
      },
      "outputs": [
        {
          "output_type": "stream",
          "name": "stdout",
          "text": [
            "After OverSampling, the shape of train_X: (20844, 28)\n",
            "After OverSampling, the shape of train_y: (20844,) \n",
            "\n",
            "After OverSampling, counts of label '1': 10422\n",
            "After OverSampling, counts of label '0': 10422\n"
          ]
        }
      ],
      "source": [
        "# Not suitable for k-fold cv train-test split, Only suitable for single fold\n",
        "\n",
        "from imblearn.over_sampling import SMOTE\n",
        "smote = SMOTE(random_state = 0)\n",
        "X_res, y_res = smote.fit_resample(X,y)\n",
        "\n",
        "print('After OverSampling, the shape of train_X: {}'.format(X_res.shape))\n",
        "print('After OverSampling, the shape of train_y: {} \\n'.format(y_res.shape))\n",
        "\n",
        "print(\"After OverSampling, counts of label '1': {}\".format(sum(y_res == 1)))\n",
        "print(\"After OverSampling, counts of label '0': {}\".format(sum(y_res == 0)))"
      ]
    },
    {
      "cell_type": "code",
      "execution_count": 30,
      "metadata": {
        "id": "qkmdRZ_2F9rZ",
        "colab": {
          "base_uri": "https://localhost:8080/"
        },
        "outputId": "39c070d0-dec5-46c4-da3e-8e1dd41b9ccf"
      },
      "outputs": [
        {
          "output_type": "stream",
          "name": "stdout",
          "text": [
            "Training target statistics: Counter({True: 8350, False: 8325})\n",
            "Testing target statistics: Counter({False: 2097, True: 2072})\n"
          ]
        }
      ],
      "source": [
        "X_train_res, X_test_res, y_train_res, y_test_res = train_test_split(X_res, y_res, test_size =0.2)\n",
        "\n",
        "print(f\"Training target statistics: {Counter(y_train_res)}\")\n",
        "print(f\"Testing target statistics: {Counter(y_test_res)}\")"
      ]
    },
    {
      "cell_type": "markdown",
      "metadata": {
        "id": "iYiLkYE5p9ki"
      },
      "source": [
        "## KNN"
      ]
    },
    {
      "cell_type": "markdown",
      "source": [
        "### KNN with k-fold CV"
      ],
      "metadata": {
        "id": "tAoew17yAjf_"
      }
    },
    {
      "cell_type": "code",
      "execution_count": 42,
      "metadata": {
        "id": "ndpewdufrF0g",
        "colab": {
          "base_uri": "https://localhost:8080/"
        },
        "outputId": "42247269-0ab5-4762-80c4-1d6f841c75f2"
      },
      "outputs": [
        {
          "output_type": "stream",
          "name": "stdout",
          "text": [
            ">Train set: Flase=4932, True=4932, Test set: Flase=1233, True=1233\n",
            ">Train set: Flase=4932, True=4932, Test set: Flase=1233, True=1233\n",
            ">Train set: Flase=4932, True=4932, Test set: Flase=1233, True=1233\n",
            ">Train set: Flase=4932, True=4932, Test set: Flase=1233, True=1233\n",
            ">Train set: Flase=4932, True=4932, Test set: Flase=1233, True=1233\n"
          ]
        }
      ],
      "source": [
        "# Balancing dataset\n",
        "X, y = make_classification(n_samples=12330, n_classes=2, weights=[0.50, 0.50], flip_y=0, random_state=0)\n",
        "kfold = StratifiedKFold(n_splits=5, shuffle=True, random_state=0)\n",
        "# enumerate the splits and summarize the distributions\n",
        "for train_ix, test_ix in kfold.split(X, y):\n",
        "  train_X, test_X = X[train_ix], X[test_ix]\n",
        "  train_y, test_y = y[train_ix], y[test_ix]\n",
        "\n",
        "  train_0, train_1 = len(train_y[train_y==0]), len(train_y[train_y==1])\n",
        "  test_0, test_1 = len(test_y[test_y==0]), len(test_y[test_y==1])\n",
        "  print('>Train set: Flase=%d, True=%d, Test set: Flase=%d, True=%d' % (train_0, train_1, test_0, test_1))\n"
      ]
    },
    {
      "cell_type": "code",
      "source": [
        "\n",
        "error = []\n",
        "\n",
        "#Calculating error for K values between 1 and 20\n",
        "for i in range(1, 21):\n",
        "  e = []\n",
        "  for train_ix, test_ix in kfold.split(X, y):\n",
        "    train_X, test_X = X[train_ix], X[test_ix]\n",
        "    train_y, test_y = y[train_ix], y[test_ix]\n",
        "\n",
        "    knn = KNeighborsClassifier(metric = 'euclidean', n_neighbors=i)\n",
        "    knn.fit(train_X, train_y)\n",
        "    pred_i = knn.predict(test_X)\n",
        "    e.append(np.mean(pred_i != test_y))\n",
        "\n",
        "  error.append(sum(e) / len(e))\n",
        "\n",
        "plt.figure(figsize=(10, 5))\n",
        "plt.plot(range(1, 21), error, color='red', linestyle='dashed', marker='o', markerfacecolor='blue', markersize=10)\n",
        "plt.title('Error rate for a range of k values')\n",
        "plt.xticks(np.arange(0, 21, 1.0))\n",
        "plt.xlabel('k Value')\n",
        "plt.ylabel('Error')"
      ],
      "metadata": {
        "colab": {
          "base_uri": "https://localhost:8080/",
          "height": 368
        },
        "id": "aqUItshZ7dHS",
        "outputId": "f2b43d95-a806-4d50-b249-08cc875b41c9"
      },
      "execution_count": 43,
      "outputs": [
        {
          "output_type": "execute_result",
          "data": {
            "text/plain": [
              "Text(0, 0.5, 'Error')"
            ]
          },
          "metadata": {},
          "execution_count": 43
        },
        {
          "output_type": "display_data",
          "data": {
            "text/plain": [
              "<Figure size 720x360 with 1 Axes>"
            ],
            "image/png": "[encoded data removed]"
          },
          "metadata": {
            "needs_background": "light"
          }
        }
      ]
    },
    {
      "cell_type": "code",
      "source": [
        "accuracy_knn_kfold = []\n",
        "precision_knn_kfold = []\n",
        "f1score_knn_kfold = []\n",
        "\n",
        "min_neighbours = error.index(min(error), 0, len(error)) + 1\n",
        "\n",
        "for train_x, test_x in kfold.split(X, y):\n",
        "  train_X, test_X = X[train_x], X[test_x]\n",
        "  train_y, test_y = y[train_x], y[test_x]\n",
        "\n",
        "  knn = KNeighborsClassifier(metric = 'euclidean', n_neighbors=min_neighbours)\n",
        "  knn.fit(train_X, train_y)\n",
        "  y_pred = knn.predict(test_X)\n",
        "  accuracy_knn_kfold.append(metrics.accuracy_score(test_y, y_pred))\n",
        "  precision_knn_kfold.append(metrics.precision_score(test_y, y_pred))\n",
        "  f1score_knn_kfold.append(metrics.f1_score(test_y, y_pred))\n",
        "\n",
        "accuracy_knn_kfoldmean = np.mean(accuracy_knn_kfold) * 100\n",
        "print(\"Accuracy for K-NN with K-fold CV: %.3f\" % (accuracy_knn_kfoldmean))\n",
        "precision_knn_kfoldmean = np.mean(precision_knn_kfold) * 100\n",
        "print(\"Precision for K-NN with K-fold CV: %.3f\" % (precision_knn_kfoldmean))\n",
        "f1score_knn_kfoldmean = np.mean(f1score_knn_kfold) * 100\n",
        "print(\"F1-score for K-NN with K-fold CV: %.3f\" % (f1score_knn_kfoldmean))\n"
      ],
      "metadata": {
        "colab": {
          "base_uri": "https://localhost:8080/"
        },
        "id": "5AA-ihBIAvGI",
        "outputId": "825eeeb3-a626-4712-8d5d-2c4bceef882d"
      },
      "execution_count": 44,
      "outputs": [
        {
          "output_type": "stream",
          "name": "stdout",
          "text": [
            "Accuracy for K-NN with K-fold CV: 88.873\n",
            "Precision for K-NN with K-fold CV: 89.169\n",
            "F1-score for K-NN with K-fold CV: 88.831\n"
          ]
        }
      ]
    },
    {
      "cell_type": "markdown",
      "source": [
        "### Single KNN"
      ],
      "metadata": {
        "id": "MvY_wqRtAv2j"
      }
    },
    {
      "cell_type": "code",
      "execution_count": 17,
      "metadata": {
        "colab": {
          "base_uri": "https://localhost:8080/",
          "height": 368
        },
        "id": "wcQxiIQnp4J2",
        "outputId": "a27e19d8-8fa9-4639-c060-45a04228303e"
      },
      "outputs": [
        {
          "output_type": "execute_result",
          "data": {
            "text/plain": [
              "Text(0, 0.5, 'Error')"
            ]
          },
          "metadata": {},
          "execution_count": 17
        },
        {
          "output_type": "display_data",
          "data": {
            "text/plain": [
              "<Figure size 720x360 with 1 Axes>"
            ],
            "image/png": "[encoded data removed]"
          },
          "metadata": {
            "needs_background": "light"
          }
        }
      ],
      "source": [
        "\n",
        "error = []\n",
        "\n",
        "#Calculating error for K values between 1 and 20\n",
        "for i in range(1, 21):\n",
        "    knn = KNeighborsClassifier(metric = 'euclidean', n_neighbors=i)\n",
        "    knn.fit(X_train_res, y_train_res)\n",
        "    pred_i = knn.predict(X_test_res)\n",
        "    error.append(np.mean(pred_i != y_test_res))\n",
        "\n",
        "plt.figure(figsize=(10, 5))\n",
        "plt.plot(range(1, 21), error, color='red', linestyle='dashed', marker='o', markerfacecolor='blue', markersize=10)\n",
        "plt.title('Error rate for a range of k values')\n",
        "plt.xticks(np.arange(0, 21, 1.0))\n",
        "plt.xlabel('k Value')\n",
        "plt.ylabel('Error')"
      ]
    },
    {
      "cell_type": "code",
      "execution_count": 18,
      "metadata": {
        "colab": {
          "base_uri": "https://localhost:8080/"
        },
        "id": "LhVKLk25J4s-",
        "outputId": "0fefa135-e8a5-4d6d-f2d3-41c5ad180684"
      },
      "outputs": [
        {
          "output_type": "execute_result",
          "data": {
            "text/plain": [
              "0.9018949388342529"
            ]
          },
          "metadata": {},
          "execution_count": 18
        }
      ],
      "source": [
        "# KNN Algorithm\n",
        "from sklearn.neighbors import KNeighborsClassifier\n",
        "model = KNeighborsClassifier(n_neighbors=4, metric='manhattan')\n",
        "\n",
        "# train KNN model\n",
        "model.fit(X_train_res,y_train_res)\n",
        "y_pred = model.predict(X_test_res)\n",
        "kn_train = model.score(X_train_res, y_train_res)\n",
        "kn_test = model.score(X_test_res, y_test_res)\n",
        "kn_test"
      ]
    },
    {
      "cell_type": "code",
      "source": [
        "accuracy_knn = 100 * metrics.accuracy_score(y_test_res, y_pred)\n",
        "print(\"Accuracy for XGBClassifier: %.3f\" % (accuracy_knn))\n",
        "precision_knn = 100 * metrics.precision_score(y_test_res, y_pred)\n",
        "print(\"Precision for XGBClassifier: %.3f\" % (precision_knn))\n",
        "f1score_knn = 100 * metrics.f1_score(y_test_res, y_pred)\n",
        "print(\"F1-score for XGBClassifier: %.3f\" % (f1score_knn))"
      ],
      "metadata": {
        "colab": {
          "base_uri": "https://localhost:8080/"
        },
        "id": "VFTCkPK3lNUf",
        "outputId": "238e5297-12b2-4e74-8e93-ca3a28e411e7"
      },
      "execution_count": 19,
      "outputs": [
        {
          "output_type": "stream",
          "name": "stdout",
          "text": [
            "Accuracy for XGBClassifier: 90.189\n",
            "Precision for XGBClassifier: 88.423\n",
            "F1-score for XGBClassifier: 90.565\n"
          ]
        }
      ]
    },
    {
      "cell_type": "code",
      "source": [
        "cnf_matrix = metrics.confusion_matrix(y_test_res, y_pred)\n",
        "class_names=[0,1] # name  of classes\n",
        "fig, ax = plt.subplots()\n",
        "tick_marks = np.arange(len(class_names))\n",
        "plt.xticks(tick_marks, class_names)\n",
        "plt.yticks(tick_marks, class_names)\n",
        "# create heatmap\n",
        "sns.heatmap(pd.DataFrame(cnf_matrix), annot=True, cmap=\"YlGnBu\" ,fmt='g')\n",
        "ax.xaxis.set_label_position(\"top\")\n",
        "plt.tight_layout()\n",
        "plt.title('Confusion matrix Using KNN Model', y=1.1, fontweight='bold')\n",
        "plt.ylabel('Actual label')\n",
        "plt.xlabel('Predicted label')"
      ],
      "metadata": {
        "colab": {
          "base_uri": "https://localhost:8080/",
          "height": 343
        },
        "id": "N8s6p2a3l7kz",
        "outputId": "b83429b5-15ab-4eaa-ad8e-92f0023a48f0"
      },
      "execution_count": 21,
      "outputs": [
        {
          "output_type": "execute_result",
          "data": {
            "text/plain": [
              "Text(0.5, 257.44, 'Predicted label')"
            ]
          },
          "metadata": {},
          "execution_count": 21
        },
        {
          "output_type": "display_data",
          "data": {
            "text/plain": [
              "<Figure size 432x288 with 2 Axes>"
            ],
            "image/png": "[encoded data removed]"
          },
          "metadata": {
            "needs_background": "light"
          }
        }
      ]
    },
    {
      "cell_type": "markdown",
      "source": [
        "# SVC"
      ],
      "metadata": {
        "id": "DT8FxHP8lO_Y"
      }
    },
    {
      "cell_type": "markdown",
      "source": [
        "### SVC with K-fold CV"
      ],
      "metadata": {
        "id": "b9UTuaOqdpFT"
      }
    },
    {
      "cell_type": "code",
      "source": [
        "accuracy_svc_kfold = []\n",
        "precision_svc_kfold = []\n",
        "f1score_svc_kfold = []\n",
        "\n",
        "X, y = make_classification(n_samples=12330, n_classes=2, weights=[0.50, 0.50], flip_y=0, random_state=0)\n",
        "kfold = StratifiedKFold(n_splits=5, shuffle=True, random_state=0)\n",
        "\n",
        "for train_x, test_x in kfold.split(X, y):\n",
        "  train_X, test_X = X[train_x], X[test_x]\n",
        "  train_y, test_y = y[train_x], y[test_x]\n",
        "  svc = SVC()\n",
        "  svc.fit(train_X, train_y)\n",
        "  y_pred = svc.predict(test_X)\n",
        "\n",
        "  accuracy_svc_kfold.append(metrics.accuracy_score(test_y, y_pred))\n",
        "  precision_svc_kfold.append(metrics.precision_score(test_y, y_pred))\n",
        "  f1score_svc_kfold.append(metrics.f1_score(test_y, y_pred))\n",
        "\n",
        "accuracy_svc_kfoldmean = np.mean(accuracy_svc_kfold) * 100\n",
        "print(\"Accuracy for SVC with K-fold CV: %.3f\" % (accuracy_svc_kfoldmean))\n",
        "precision_svc_kfoldmean = np.mean(precision_svc_kfold) * 100\n",
        "print(\"Precision for SVC with K-fold CV: %.3f\" % (precision_svc_kfoldmean))\n",
        "f1score_svc_kfoldmean = np.mean(f1score_svc_kfold) * 100\n",
        "print(\"F1-score for SVC with K-fold CV: %.3f\" % (f1score_svc_kfoldmean))\n",
        "\n"
      ],
      "metadata": {
        "colab": {
          "base_uri": "https://localhost:8080/"
        },
        "id": "9_Pt-keadr7d",
        "outputId": "34a6bc2e-2a50-4cf0-d41c-4efc36701ed2"
      },
      "execution_count": 47,
      "outputs": [
        {
          "output_type": "stream",
          "name": "stdout",
          "text": [
            "Accuracy for SVC with K-fold CV: 90.073\n",
            "Precision for SVC with K-fold CV: 90.576\n",
            "F1-score for SVC with K-fold CV: 90.011\n"
          ]
        }
      ]
    },
    {
      "cell_type": "markdown",
      "source": [
        "### Single SVC"
      ],
      "metadata": {
        "id": "sqyO2IssdmVv"
      }
    },
    {
      "cell_type": "code",
      "execution_count": 48,
      "metadata": {
        "colab": {
          "base_uri": "https://localhost:8080/"
        },
        "id": "uINOnBfxKHgy",
        "outputId": "9e2b4dcf-8352-4f98-920a-f18de04e0495"
      },
      "outputs": [
        {
          "output_type": "execute_result",
          "data": {
            "text/plain": [
              "0.7287119213240585"
            ]
          },
          "metadata": {},
          "execution_count": 48
        }
      ],
      "source": [
        "# SVC\n",
        "from sklearn.svm import SVC\n",
        "svc = SVC()\n",
        "svc.fit(X_train_res, y_train_res)\n",
        "y_pred = svc.predict(X_test_res)\n",
        "sv_train = svc.score(X_train_res, y_train_res)\n",
        "sv_test = svc.score(X_test_res, y_test_res)\n",
        "sv_test"
      ]
    },
    {
      "cell_type": "code",
      "execution_count": 38,
      "metadata": {
        "id": "H1AvxKlQK_4h",
        "colab": {
          "base_uri": "https://localhost:8080/"
        },
        "outputId": "122d0d13-d1b8-4944-a6a7-d76b856858c4"
      },
      "outputs": [
        {
          "output_type": "stream",
          "name": "stdout",
          "text": [
            "Accuracy for SVC: 72.871\n",
            "Precision for SVC: 72.100\n",
            "F1-score for SVC: 73.078\n"
          ]
        }
      ],
      "source": [
        "accuracy_svc = 100 * metrics.accuracy_score(y_test_res, y_pred)\n",
        "print(\"Accuracy for SVC: %.3f\" % (accuracy_svc))\n",
        "precision_svc = 100 * metrics.precision_score(y_test_res, y_pred)\n",
        "print(\"Precision for SVC: %.3f\" % (precision_svc))\n",
        "f1score_svc = 100 * metrics.f1_score(y_test_res, y_pred)\n",
        "print(\"F1-score for SVC: %.3f\" % (f1score_svc))"
      ]
    },
    {
      "cell_type": "code",
      "source": [
        "cnf_matrix = metrics.confusion_matrix(y_test_res, y_pred)\n",
        "class_names=[0,1] # name  of classes\n",
        "fig, ax = plt.subplots()\n",
        "tick_marks = np.arange(len(class_names))\n",
        "plt.xticks(tick_marks, class_names)\n",
        "plt.yticks(tick_marks, class_names)\n",
        "# create heatmap\n",
        "sns.heatmap(pd.DataFrame(cnf_matrix), annot=True, cmap=\"YlGnBu\" ,fmt='g')\n",
        "ax.xaxis.set_label_position(\"top\")\n",
        "plt.tight_layout()\n",
        "plt.title('Confusion matrix Using SVC Model', y=1.1, fontweight='bold')\n",
        "plt.ylabel('Actual label')\n",
        "plt.xlabel('Predicted label')"
      ],
      "metadata": {
        "colab": {
          "base_uri": "https://localhost:8080/",
          "height": 343
        },
        "id": "dLGpUcoWuOd5",
        "outputId": "de963c76-ac6e-4abd-85ab-b58bae1261ab"
      },
      "execution_count": 39,
      "outputs": [
        {
          "output_type": "execute_result",
          "data": {
            "text/plain": [
              "Text(0.5, 257.44, 'Predicted label')"
            ]
          },
          "metadata": {},
          "execution_count": 39
        },
        {
          "output_type": "display_data",
          "data": {
            "text/plain": [
              "<Figure size 432x288 with 2 Axes>"
            ],
            "image/png": "[encoded data removed]"
          },
          "metadata": {
            "needs_background": "light"
          }
        }
      ]
    },
    {
      "cell_type": "markdown",
      "metadata": {
        "id": "lPE1hgxlLBbN"
      },
      "source": [
        "## Random Forest"
      ]
    },
    {
      "cell_type": "code",
      "source": [
        "param_rf = {\n",
        "    'bootstrap': [True],\n",
        "    'max_depth': [80, 90, 100, 110],\n",
        "    'max_features': [2, 3],\n",
        "    'min_samples_leaf': [3, 4, 5],\n",
        "    'min_samples_split': [8, 10, 12],\n",
        "    'n_estimators': [100, 200, 300, 1000]\n",
        "}\n",
        "\n",
        "rf = RandomForestRegressor()\n",
        "grid_search = GridSearchCV(estimator = rf, param_grid = param_rf, \n",
        "                          cv = 3, n_jobs = -1, verbose = 2)\n",
        "\n",
        "print(grid_search.best_estimator_)"
      ],
      "metadata": {
        "id": "2dCMljhWWGqn"
      },
      "execution_count": null,
      "outputs": []
    },
    {
      "cell_type": "code",
      "execution_count": null,
      "metadata": {
        "id": "NI_wtffULUgw"
      },
      "outputs": [],
      "source": [
        "clf_rf = RandomForestClassifier() # TODO\n",
        "clf_rf.fit(X_train, y_train)\n",
        "y_pred_rf = clf_rf.predict(X_test)\n",
        "\n",
        "rf_train = clf_rf.score(X_train, y_train)\n",
        "rf_test = clf_rf.score(X_test, y_test)"
      ]
    },
    {
      "cell_type": "code",
      "source": [
        "accuracy_rf = 100 * metrics.accuracy_score(y_test, y_pred_rf)\n",
        "print(\"Accuracy for Random Forest: %.3f\" % (accuracy_rf))\n",
        "precision_rf = 100 * metrics.precision_score(y_test, y_pred_rf)\n",
        "print(\"Precision for Random Forest: %.3f\" % (precision_rf))\n",
        "f1score_rf = 100 * metrics.f1_score(y_test, y_pred_rf)\n",
        "print(\"F1-score for Random Forest: %.3f\" % (f1score_rf))"
      ],
      "metadata": {
        "id": "TfPrR9coXOJC"
      },
      "execution_count": null,
      "outputs": []
    },
    {
      "cell_type": "markdown",
      "metadata": {
        "id": "QfUn7hRoLFId"
      },
      "source": [
        "## Gradient Boosting Decision Tree"
      ]
    },
    {
      "cell_type": "code",
      "execution_count": null,
      "metadata": {
        "colab": {
          "base_uri": "https://localhost:8080/"
        },
        "id": "LNu83b_BK5bS",
        "outputId": "cf74861d-76f5-4138-a23a-fe11ad29cc1d"
      },
      "outputs": [
        {
          "output_type": "stream",
          "name": "stdout",
          "text": [
            "Fitting 3 folds for each of 324 candidates, totalling 972 fits\n",
            "[CV 1/3] END learning_rate=0.02, max_depth=3, min_child_weight=1, n_estimators=500, subsample=0.6;, score=0.925 total time=   3.8s\n",
            "[CV 2/3] END learning_rate=0.02, max_depth=3, min_child_weight=1, n_estimators=500, subsample=0.6;, score=0.938 total time=   3.8s\n",
            "[CV 3/3] END learning_rate=0.02, max_depth=3, min_child_weight=1, n_estimators=500, subsample=0.6;, score=0.931 total time=   3.8s\n",
            "[CV 1/3] END learning_rate=0.02, max_depth=3, min_child_weight=1, n_estimators=500, subsample=0.8;, score=0.926 total time=   3.5s\n",
            "[CV 2/3] END learning_rate=0.02, max_depth=3, min_child_weight=1, n_estimators=500, subsample=0.8;, score=0.938 total time=   3.4s\n",
            "[CV 3/3] END learning_rate=0.02, max_depth=3, min_child_weight=1, n_estimators=500, subsample=0.8;, score=0.931 total time=   3.4s\n",
            "[CV 1/3] END learning_rate=0.02, max_depth=3, min_child_weight=1, n_estimators=500, subsample=1.0;, score=0.926 total time=   2.9s\n",
            "[CV 2/3] END learning_rate=0.02, max_depth=3, min_child_weight=1, n_estimators=500, subsample=1.0;, score=0.938 total time=   2.9s\n",
            "[CV 3/3] END learning_rate=0.02, max_depth=3, min_child_weight=1, n_estimators=500, subsample=1.0;, score=0.931 total time=   2.9s\n",
            "[CV 1/3] END learning_rate=0.02, max_depth=3, min_child_weight=1, n_estimators=1000, subsample=0.6;, score=0.925 total time=   7.4s\n",
            "[CV 2/3] END learning_rate=0.02, max_depth=3, min_child_weight=1, n_estimators=1000, subsample=0.6;, score=0.936 total time=   7.3s\n",
            "[CV 3/3] END learning_rate=0.02, max_depth=3, min_child_weight=1, n_estimators=1000, subsample=0.6;, score=0.930 total time=   7.3s\n",
            "[CV 1/3] END learning_rate=0.02, max_depth=3, min_child_weight=1, n_estimators=1000, subsample=0.8;, score=0.927 total time=   6.6s\n",
            "[CV 2/3] END learning_rate=0.02, max_depth=3, min_child_weight=1, n_estimators=1000, subsample=0.8;, score=0.936 total time=   6.6s\n",
            "[CV 3/3] END learning_rate=0.02, max_depth=3, min_child_weight=1, n_estimators=1000, subsample=0.8;, score=0.930 total time=   6.5s\n",
            "[CV 1/3] END learning_rate=0.02, max_depth=3, min_child_weight=1, n_estimators=1000, subsample=1.0;, score=0.926 total time=   6.5s\n",
            "[CV 2/3] END learning_rate=0.02, max_depth=3, min_child_weight=1, n_estimators=1000, subsample=1.0;, score=0.936 total time=   5.7s\n",
            "[CV 3/3] END learning_rate=0.02, max_depth=3, min_child_weight=1, n_estimators=1000, subsample=1.0;, score=0.930 total time=   5.7s\n",
            "[CV 1/3] END learning_rate=0.02, max_depth=3, min_child_weight=1, n_estimators=1500, subsample=0.6;, score=0.924 total time=  11.1s\n",
            "[CV 2/3] END learning_rate=0.02, max_depth=3, min_child_weight=1, n_estimators=1500, subsample=0.6;, score=0.933 total time=  11.1s\n",
            "[CV 3/3] END learning_rate=0.02, max_depth=3, min_child_weight=1, n_estimators=1500, subsample=0.6;, score=0.928 total time=  11.7s\n",
            "[CV 1/3] END learning_rate=0.02, max_depth=3, min_child_weight=1, n_estimators=1500, subsample=0.8;, score=0.925 total time=   9.9s\n",
            "[CV 2/3] END learning_rate=0.02, max_depth=3, min_child_weight=1, n_estimators=1500, subsample=0.8;, score=0.934 total time=   9.9s\n",
            "[CV 3/3] END learning_rate=0.02, max_depth=3, min_child_weight=1, n_estimators=1500, subsample=0.8;, score=0.928 total time=   9.9s\n",
            "[CV 1/3] END learning_rate=0.02, max_depth=3, min_child_weight=1, n_estimators=1500, subsample=1.0;, score=0.923 total time=   8.4s\n",
            "[CV 2/3] END learning_rate=0.02, max_depth=3, min_child_weight=1, n_estimators=1500, subsample=1.0;, score=0.934 total time=   8.4s\n",
            "[CV 3/3] END learning_rate=0.02, max_depth=3, min_child_weight=1, n_estimators=1500, subsample=1.0;, score=0.929 total time=   8.5s\n",
            "[CV 1/3] END learning_rate=0.02, max_depth=3, min_child_weight=1, n_estimators=2000, subsample=0.6;, score=0.922 total time=  14.6s\n",
            "[CV 2/3] END learning_rate=0.02, max_depth=3, min_child_weight=1, n_estimators=2000, subsample=0.6;, score=0.931 total time=  14.6s\n",
            "[CV 3/3] END learning_rate=0.02, max_depth=3, min_child_weight=1, n_estimators=2000, subsample=0.6;, score=0.926 total time=  14.6s\n",
            "[CV 1/3] END learning_rate=0.02, max_depth=3, min_child_weight=1, n_estimators=2000, subsample=0.8;, score=0.924 total time=  13.1s\n",
            "[CV 2/3] END learning_rate=0.02, max_depth=3, min_child_weight=1, n_estimators=2000, subsample=0.8;, score=0.931 total time=  13.0s\n",
            "[CV 3/3] END learning_rate=0.02, max_depth=3, min_child_weight=1, n_estimators=2000, subsample=0.8;, score=0.926 total time=  13.1s\n",
            "[CV 1/3] END learning_rate=0.02, max_depth=3, min_child_weight=1, n_estimators=2000, subsample=1.0;, score=0.922 total time=  11.7s\n",
            "[CV 2/3] END learning_rate=0.02, max_depth=3, min_child_weight=1, n_estimators=2000, subsample=1.0;, score=0.932 total time=  12.1s\n",
            "[CV 3/3] END learning_rate=0.02, max_depth=3, min_child_weight=1, n_estimators=2000, subsample=1.0;, score=0.928 total time=  11.2s\n",
            "[CV 1/3] END learning_rate=0.02, max_depth=3, min_child_weight=5, n_estimators=500, subsample=0.6;, score=0.924 total time=   3.7s\n",
            "[CV 2/3] END learning_rate=0.02, max_depth=3, min_child_weight=5, n_estimators=500, subsample=0.6;, score=0.938 total time=   3.6s\n",
            "[CV 3/3] END learning_rate=0.02, max_depth=3, min_child_weight=5, n_estimators=500, subsample=0.6;, score=0.932 total time=   3.7s\n",
            "[CV 1/3] END learning_rate=0.02, max_depth=3, min_child_weight=5, n_estimators=500, subsample=0.8;, score=0.926 total time=   3.3s\n",
            "[CV 2/3] END learning_rate=0.02, max_depth=3, min_child_weight=5, n_estimators=500, subsample=0.8;, score=0.938 total time=   3.3s\n",
            "[CV 3/3] END learning_rate=0.02, max_depth=3, min_child_weight=5, n_estimators=500, subsample=0.8;, score=0.931 total time=   3.3s\n",
            "[CV 1/3] END learning_rate=0.02, max_depth=3, min_child_weight=5, n_estimators=500, subsample=1.0;, score=0.924 total time=   2.9s\n",
            "[CV 2/3] END learning_rate=0.02, max_depth=3, min_child_weight=5, n_estimators=500, subsample=1.0;, score=0.938 total time=   2.9s\n",
            "[CV 3/3] END learning_rate=0.02, max_depth=3, min_child_weight=5, n_estimators=500, subsample=1.0;, score=0.932 total time=   2.9s\n",
            "[CV 1/3] END learning_rate=0.02, max_depth=3, min_child_weight=5, n_estimators=1000, subsample=0.6;, score=0.924 total time=   7.3s\n",
            "[CV 2/3] END learning_rate=0.02, max_depth=3, min_child_weight=5, n_estimators=1000, subsample=0.6;, score=0.936 total time=   7.2s\n",
            "[CV 3/3] END learning_rate=0.02, max_depth=3, min_child_weight=5, n_estimators=1000, subsample=0.6;, score=0.930 total time=   7.3s\n",
            "[CV 1/3] END learning_rate=0.02, max_depth=3, min_child_weight=5, n_estimators=1000, subsample=0.8;, score=0.926 total time=   6.6s\n",
            "[CV 2/3] END learning_rate=0.02, max_depth=3, min_child_weight=5, n_estimators=1000, subsample=0.8;, score=0.936 total time=   6.6s\n",
            "[CV 3/3] END learning_rate=0.02, max_depth=3, min_child_weight=5, n_estimators=1000, subsample=0.8;, score=0.930 total time=   6.5s\n",
            "[CV 1/3] END learning_rate=0.02, max_depth=3, min_child_weight=5, n_estimators=1000, subsample=1.0;, score=0.925 total time=   5.6s\n",
            "[CV 2/3] END learning_rate=0.02, max_depth=3, min_child_weight=5, n_estimators=1000, subsample=1.0;, score=0.936 total time=   5.6s\n",
            "[CV 3/3] END learning_rate=0.02, max_depth=3, min_child_weight=5, n_estimators=1000, subsample=1.0;, score=0.931 total time=   5.6s\n",
            "[CV 1/3] END learning_rate=0.02, max_depth=3, min_child_weight=5, n_estimators=1500, subsample=0.6;, score=0.924 total time=  10.8s\n",
            "[CV 2/3] END learning_rate=0.02, max_depth=3, min_child_weight=5, n_estimators=1500, subsample=0.6;, score=0.933 total time=  10.9s\n",
            "[CV 3/3] END learning_rate=0.02, max_depth=3, min_child_weight=5, n_estimators=1500, subsample=0.6;, score=0.928 total time=  10.9s\n",
            "[CV 1/3] END learning_rate=0.02, max_depth=3, min_child_weight=5, n_estimators=1500, subsample=0.8;, score=0.925 total time=   9.8s\n",
            "[CV 2/3] END learning_rate=0.02, max_depth=3, min_child_weight=5, n_estimators=1500, subsample=0.8;, score=0.934 total time=   9.8s\n",
            "[CV 3/3] END learning_rate=0.02, max_depth=3, min_child_weight=5, n_estimators=1500, subsample=0.8;, score=0.928 total time=   9.7s\n",
            "[CV 1/3] END learning_rate=0.02, max_depth=3, min_child_weight=5, n_estimators=1500, subsample=1.0;, score=0.925 total time=   8.4s\n",
            "[CV 2/3] END learning_rate=0.02, max_depth=3, min_child_weight=5, n_estimators=1500, subsample=1.0;, score=0.935 total time=   8.4s\n",
            "[CV 3/3] END learning_rate=0.02, max_depth=3, min_child_weight=5, n_estimators=1500, subsample=1.0;, score=0.929 total time=   8.4s\n",
            "[CV 1/3] END learning_rate=0.02, max_depth=3, min_child_weight=5, n_estimators=2000, subsample=0.6;, score=0.922 total time=  14.5s\n",
            "[CV 2/3] END learning_rate=0.02, max_depth=3, min_child_weight=5, n_estimators=2000, subsample=0.6;, score=0.931 total time=  14.5s\n",
            "[CV 3/3] END learning_rate=0.02, max_depth=3, min_child_weight=5, n_estimators=2000, subsample=0.6;, score=0.927 total time=  14.6s\n",
            "[CV 1/3] END learning_rate=0.02, max_depth=3, min_child_weight=5, n_estimators=2000, subsample=0.8;, score=0.923 total time=  13.1s\n",
            "[CV 2/3] END learning_rate=0.02, max_depth=3, min_child_weight=5, n_estimators=2000, subsample=0.8;, score=0.931 total time=  13.1s\n",
            "[CV 3/3] END learning_rate=0.02, max_depth=3, min_child_weight=5, n_estimators=2000, subsample=0.8;, score=0.926 total time=  12.9s\n",
            "[CV 1/3] END learning_rate=0.02, max_depth=3, min_child_weight=5, n_estimators=2000, subsample=1.0;, score=0.923 total time=  11.2s\n",
            "[CV 2/3] END learning_rate=0.02, max_depth=3, min_child_weight=5, n_estimators=2000, subsample=1.0;, score=0.933 total time=  11.3s\n",
            "[CV 3/3] END learning_rate=0.02, max_depth=3, min_child_weight=5, n_estimators=2000, subsample=1.0;, score=0.926 total time=  11.1s\n",
            "[CV 1/3] END learning_rate=0.02, max_depth=3, min_child_weight=10, n_estimators=500, subsample=0.6;, score=0.924 total time=   3.7s\n",
            "[CV 2/3] END learning_rate=0.02, max_depth=3, min_child_weight=10, n_estimators=500, subsample=0.6;, score=0.938 total time=   3.7s\n",
            "[CV 3/3] END learning_rate=0.02, max_depth=3, min_child_weight=10, n_estimators=500, subsample=0.6;, score=0.931 total time=   3.7s\n",
            "[CV 1/3] END learning_rate=0.02, max_depth=3, min_child_weight=10, n_estimators=500, subsample=0.8;, score=0.925 total time=   3.3s\n",
            "[CV 2/3] END learning_rate=0.02, max_depth=3, min_child_weight=10, n_estimators=500, subsample=0.8;, score=0.938 total time=   3.3s\n",
            "[CV 3/3] END learning_rate=0.02, max_depth=3, min_child_weight=10, n_estimators=500, subsample=0.8;, score=0.931 total time=   3.3s\n",
            "[CV 1/3] END learning_rate=0.02, max_depth=3, min_child_weight=10, n_estimators=500, subsample=1.0;, score=0.926 total time=   2.8s\n",
            "[CV 2/3] END learning_rate=0.02, max_depth=3, min_child_weight=10, n_estimators=500, subsample=1.0;, score=0.938 total time=   2.9s\n",
            "[CV 3/3] END learning_rate=0.02, max_depth=3, min_child_weight=10, n_estimators=500, subsample=1.0;, score=0.932 total time=   2.8s\n",
            "[CV 1/3] END learning_rate=0.02, max_depth=3, min_child_weight=10, n_estimators=1000, subsample=0.6;, score=0.923 total time=   7.2s\n",
            "[CV 2/3] END learning_rate=0.02, max_depth=3, min_child_weight=10, n_estimators=1000, subsample=0.6;, score=0.936 total time=   7.2s\n",
            "[CV 3/3] END learning_rate=0.02, max_depth=3, min_child_weight=10, n_estimators=1000, subsample=0.6;, score=0.930 total time=   7.2s\n",
            "[CV 1/3] END learning_rate=0.02, max_depth=3, min_child_weight=10, n_estimators=1000, subsample=0.8;, score=0.924 total time=   6.5s\n",
            "[CV 2/3] END learning_rate=0.02, max_depth=3, min_child_weight=10, n_estimators=1000, subsample=0.8;, score=0.936 total time=   6.5s\n",
            "[CV 3/3] END learning_rate=0.02, max_depth=3, min_child_weight=10, n_estimators=1000, subsample=0.8;, score=0.930 total time=   6.5s\n",
            "[CV 1/3] END learning_rate=0.02, max_depth=3, min_child_weight=10, n_estimators=1000, subsample=1.0;, score=0.926 total time=   5.6s\n",
            "[CV 2/3] END learning_rate=0.02, max_depth=3, min_child_weight=10, n_estimators=1000, subsample=1.0;, score=0.936 total time=   5.6s\n",
            "[CV 3/3] END learning_rate=0.02, max_depth=3, min_child_weight=10, n_estimators=1000, subsample=1.0;, score=0.933 total time=   5.6s\n",
            "[CV 1/3] END learning_rate=0.02, max_depth=3, min_child_weight=10, n_estimators=1500, subsample=0.6;, score=0.922 total time=  10.8s\n",
            "[CV 2/3] END learning_rate=0.02, max_depth=3, min_child_weight=10, n_estimators=1500, subsample=0.6;, score=0.933 total time=  10.8s\n",
            "[CV 3/3] END learning_rate=0.02, max_depth=3, min_child_weight=10, n_estimators=1500, subsample=0.6;, score=0.929 total time=  10.8s\n",
            "[CV 1/3] END learning_rate=0.02, max_depth=3, min_child_weight=10, n_estimators=1500, subsample=0.8;, score=0.923 total time=   9.7s\n",
            "[CV 2/3] END learning_rate=0.02, max_depth=3, min_child_weight=10, n_estimators=1500, subsample=0.8;, score=0.934 total time=   9.7s\n",
            "[CV 3/3] END learning_rate=0.02, max_depth=3, min_child_weight=10, n_estimators=1500, subsample=0.8;, score=0.929 total time=   9.8s\n",
            "[CV 1/3] END learning_rate=0.02, max_depth=3, min_child_weight=10, n_estimators=1500, subsample=1.0;, score=0.924 total time=   8.5s\n",
            "[CV 2/3] END learning_rate=0.02, max_depth=3, min_child_weight=10, n_estimators=1500, subsample=1.0;, score=0.935 total time=   8.4s\n",
            "[CV 3/3] END learning_rate=0.02, max_depth=3, min_child_weight=10, n_estimators=1500, subsample=1.0;, score=0.931 total time=   8.3s\n",
            "[CV 1/3] END learning_rate=0.02, max_depth=3, min_child_weight=10, n_estimators=2000, subsample=0.6;, score=0.921 total time=  14.4s\n",
            "[CV 2/3] END learning_rate=0.02, max_depth=3, min_child_weight=10, n_estimators=2000, subsample=0.6;, score=0.931 total time=  14.4s\n",
            "[CV 3/3] END learning_rate=0.02, max_depth=3, min_child_weight=10, n_estimators=2000, subsample=0.6;, score=0.928 total time=  14.4s\n",
            "[CV 1/3] END learning_rate=0.02, max_depth=3, min_child_weight=10, n_estimators=2000, subsample=0.8;, score=0.923 total time=  13.0s\n",
            "[CV 2/3] END learning_rate=0.02, max_depth=3, min_child_weight=10, n_estimators=2000, subsample=0.8;, score=0.931 total time=  13.0s\n",
            "[CV 3/3] END learning_rate=0.02, max_depth=3, min_child_weight=10, n_estimators=2000, subsample=0.8;, score=0.927 total time=  12.9s\n",
            "[CV 1/3] END learning_rate=0.02, max_depth=3, min_child_weight=10, n_estimators=2000, subsample=1.0;, score=0.924 total time=  11.2s\n",
            "[CV 2/3] END learning_rate=0.02, max_depth=3, min_child_weight=10, n_estimators=2000, subsample=1.0;, score=0.933 total time=  11.2s\n",
            "[CV 3/3] END learning_rate=0.02, max_depth=3, min_child_weight=10, n_estimators=2000, subsample=1.0;, score=0.929 total time=  11.2s\n",
            "[CV 1/3] END learning_rate=0.02, max_depth=8, min_child_weight=1, n_estimators=500, subsample=0.6;, score=0.923 total time=  10.1s\n",
            "[CV 2/3] END learning_rate=0.02, max_depth=8, min_child_weight=1, n_estimators=500, subsample=0.6;, score=0.932 total time=  10.0s\n",
            "[CV 3/3] END learning_rate=0.02, max_depth=8, min_child_weight=1, n_estimators=500, subsample=0.6;, score=0.925 total time=   9.5s\n",
            "[CV 1/3] END learning_rate=0.02, max_depth=8, min_child_weight=1, n_estimators=500, subsample=0.8;, score=0.923 total time=   8.9s\n",
            "[CV 2/3] END learning_rate=0.02, max_depth=8, min_child_weight=1, n_estimators=500, subsample=0.8;, score=0.932 total time=   8.8s\n",
            "[CV 3/3] END learning_rate=0.02, max_depth=8, min_child_weight=1, n_estimators=500, subsample=0.8;, score=0.926 total time=   8.9s\n",
            "[CV 1/3] END learning_rate=0.02, max_depth=8, min_child_weight=1, n_estimators=500, subsample=1.0;, score=0.921 total time=   7.9s\n",
            "[CV 2/3] END learning_rate=0.02, max_depth=8, min_child_weight=1, n_estimators=500, subsample=1.0;, score=0.930 total time=   7.9s\n",
            "[CV 3/3] END learning_rate=0.02, max_depth=8, min_child_weight=1, n_estimators=500, subsample=1.0;, score=0.924 total time=   8.0s\n",
            "[CV 1/3] END learning_rate=0.02, max_depth=8, min_child_weight=1, n_estimators=1000, subsample=0.6;, score=0.917 total time=  18.7s\n",
            "[CV 2/3] END learning_rate=0.02, max_depth=8, min_child_weight=1, n_estimators=1000, subsample=0.6;, score=0.926 total time=  18.7s\n",
            "[CV 3/3] END learning_rate=0.02, max_depth=8, min_child_weight=1, n_estimators=1000, subsample=0.6;, score=0.919 total time=  18.8s\n",
            "[CV 1/3] END learning_rate=0.02, max_depth=8, min_child_weight=1, n_estimators=1000, subsample=0.8;, score=0.918 total time=  17.3s\n",
            "[CV 2/3] END learning_rate=0.02, max_depth=8, min_child_weight=1, n_estimators=1000, subsample=0.8;, score=0.928 total time=  17.3s\n",
            "[CV 3/3] END learning_rate=0.02, max_depth=8, min_child_weight=1, n_estimators=1000, subsample=0.8;, score=0.921 total time=  17.4s\n",
            "[CV 1/3] END learning_rate=0.02, max_depth=8, min_child_weight=1, n_estimators=1000, subsample=1.0;, score=0.916 total time=  15.2s\n",
            "[CV 2/3] END learning_rate=0.02, max_depth=8, min_child_weight=1, n_estimators=1000, subsample=1.0;, score=0.927 total time=  15.1s\n",
            "[CV 3/3] END learning_rate=0.02, max_depth=8, min_child_weight=1, n_estimators=1000, subsample=1.0;, score=0.920 total time=  15.3s\n",
            "[CV 1/3] END learning_rate=0.02, max_depth=8, min_child_weight=1, n_estimators=1500, subsample=0.6;, score=0.915 total time=  27.7s\n",
            "[CV 2/3] END learning_rate=0.02, max_depth=8, min_child_weight=1, n_estimators=1500, subsample=0.6;, score=0.923 total time=  27.9s\n",
            "[CV 3/3] END learning_rate=0.02, max_depth=8, min_child_weight=1, n_estimators=1500, subsample=0.6;, score=0.916 total time=  27.8s\n",
            "[CV 1/3] END learning_rate=0.02, max_depth=8, min_child_weight=1, n_estimators=1500, subsample=0.8;, score=0.915 total time=  25.7s\n",
            "[CV 2/3] END learning_rate=0.02, max_depth=8, min_child_weight=1, n_estimators=1500, subsample=0.8;, score=0.925 total time=  25.9s\n",
            "[CV 3/3] END learning_rate=0.02, max_depth=8, min_child_weight=1, n_estimators=1500, subsample=0.8;, score=0.919 total time=  25.8s\n",
            "[CV 1/3] END learning_rate=0.02, max_depth=8, min_child_weight=1, n_estimators=1500, subsample=1.0;, score=0.913 total time=  22.3s\n",
            "[CV 2/3] END learning_rate=0.02, max_depth=8, min_child_weight=1, n_estimators=1500, subsample=1.0;, score=0.925 total time=  22.4s\n",
            "[CV 3/3] END learning_rate=0.02, max_depth=8, min_child_weight=1, n_estimators=1500, subsample=1.0;, score=0.918 total time=  22.5s\n",
            "[CV 1/3] END learning_rate=0.02, max_depth=8, min_child_weight=1, n_estimators=2000, subsample=0.6;, score=0.913 total time=  36.5s\n",
            "[CV 2/3] END learning_rate=0.02, max_depth=8, min_child_weight=1, n_estimators=2000, subsample=0.6;, score=0.921 total time=  37.0s\n",
            "[CV 3/3] END learning_rate=0.02, max_depth=8, min_child_weight=1, n_estimators=2000, subsample=0.6;, score=0.915 total time=  36.8s\n",
            "[CV 1/3] END learning_rate=0.02, max_depth=8, min_child_weight=1, n_estimators=2000, subsample=0.8;, score=0.913 total time=  34.1s\n",
            "[CV 2/3] END learning_rate=0.02, max_depth=8, min_child_weight=1, n_estimators=2000, subsample=0.8;, score=0.923 total time=  35.5s\n",
            "[CV 3/3] END learning_rate=0.02, max_depth=8, min_child_weight=1, n_estimators=2000, subsample=0.8;, score=0.917 total time=  34.1s\n",
            "[CV 1/3] END learning_rate=0.02, max_depth=8, min_child_weight=1, n_estimators=2000, subsample=1.0;, score=0.911 total time=  29.6s\n",
            "[CV 2/3] END learning_rate=0.02, max_depth=8, min_child_weight=1, n_estimators=2000, subsample=1.0;, score=0.923 total time=  29.7s\n",
            "[CV 3/3] END learning_rate=0.02, max_depth=8, min_child_weight=1, n_estimators=2000, subsample=1.0;, score=0.916 total time=  29.9s\n",
            "[CV 1/3] END learning_rate=0.02, max_depth=8, min_child_weight=5, n_estimators=500, subsample=0.6;, score=0.925 total time=   8.4s\n",
            "[CV 2/3] END learning_rate=0.02, max_depth=8, min_child_weight=5, n_estimators=500, subsample=0.6;, score=0.933 total time=   8.4s\n",
            "[CV 3/3] END learning_rate=0.02, max_depth=8, min_child_weight=5, n_estimators=500, subsample=0.6;, score=0.928 total time=   8.4s\n",
            "[CV 1/3] END learning_rate=0.02, max_depth=8, min_child_weight=5, n_estimators=500, subsample=0.8;, score=0.924 total time=   8.2s\n",
            "[CV 2/3] END learning_rate=0.02, max_depth=8, min_child_weight=5, n_estimators=500, subsample=0.8;, score=0.933 total time=   8.2s\n",
            "[CV 3/3] END learning_rate=0.02, max_depth=8, min_child_weight=5, n_estimators=500, subsample=0.8;, score=0.927 total time=   8.1s\n",
            "[CV 1/3] END learning_rate=0.02, max_depth=8, min_child_weight=5, n_estimators=500, subsample=1.0;, score=0.922 total time=   7.4s\n",
            "[CV 2/3] END learning_rate=0.02, max_depth=8, min_child_weight=5, n_estimators=500, subsample=1.0;, score=0.932 total time=   7.5s\n",
            "[CV 3/3] END learning_rate=0.02, max_depth=8, min_child_weight=5, n_estimators=500, subsample=1.0;, score=0.927 total time=   7.4s\n",
            "[CV 1/3] END learning_rate=0.02, max_depth=8, min_child_weight=5, n_estimators=1000, subsample=0.6;, score=0.921 total time=  16.6s\n",
            "[CV 2/3] END learning_rate=0.02, max_depth=8, min_child_weight=5, n_estimators=1000, subsample=0.6;, score=0.927 total time=  16.7s\n",
            "[CV 3/3] END learning_rate=0.02, max_depth=8, min_child_weight=5, n_estimators=1000, subsample=0.6;, score=0.922 total time=  16.7s\n",
            "[CV 1/3] END learning_rate=0.02, max_depth=8, min_child_weight=5, n_estimators=1000, subsample=0.8;, score=0.919 total time=  16.0s\n",
            "[CV 2/3] END learning_rate=0.02, max_depth=8, min_child_weight=5, n_estimators=1000, subsample=0.8;, score=0.928 total time=  16.1s\n",
            "[CV 3/3] END learning_rate=0.02, max_depth=8, min_child_weight=5, n_estimators=1000, subsample=0.8;, score=0.922 total time=  16.1s\n",
            "[CV 1/3] END learning_rate=0.02, max_depth=8, min_child_weight=5, n_estimators=1000, subsample=1.0;, score=0.918 total time=  14.2s\n",
            "[CV 2/3] END learning_rate=0.02, max_depth=8, min_child_weight=5, n_estimators=1000, subsample=1.0;, score=0.929 total time=  14.2s\n",
            "[CV 3/3] END learning_rate=0.02, max_depth=8, min_child_weight=5, n_estimators=1000, subsample=1.0;, score=0.924 total time=  14.1s\n",
            "[CV 1/3] END learning_rate=0.02, max_depth=8, min_child_weight=5, n_estimators=1500, subsample=0.6;, score=0.918 total time=  24.6s\n",
            "[CV 2/3] END learning_rate=0.02, max_depth=8, min_child_weight=5, n_estimators=1500, subsample=0.6;, score=0.924 total time=  24.9s\n",
            "[CV 3/3] END learning_rate=0.02, max_depth=8, min_child_weight=5, n_estimators=1500, subsample=0.6;, score=0.919 total time=  24.8s\n",
            "[CV 1/3] END learning_rate=0.02, max_depth=8, min_child_weight=5, n_estimators=1500, subsample=0.8;, score=0.916 total time=  23.9s\n",
            "[CV 2/3] END learning_rate=0.02, max_depth=8, min_child_weight=5, n_estimators=1500, subsample=0.8;, score=0.924 total time=  24.0s\n",
            "[CV 3/3] END learning_rate=0.02, max_depth=8, min_child_weight=5, n_estimators=1500, subsample=0.8;, score=0.918 total time=  23.9s\n",
            "[CV 1/3] END learning_rate=0.02, max_depth=8, min_child_weight=5, n_estimators=1500, subsample=1.0;, score=0.916 total time=  20.9s\n",
            "[CV 2/3] END learning_rate=0.02, max_depth=8, min_child_weight=5, n_estimators=1500, subsample=1.0;, score=0.926 total time=  20.9s\n",
            "[CV 3/3] END learning_rate=0.02, max_depth=8, min_child_weight=5, n_estimators=1500, subsample=1.0;, score=0.921 total time=  21.0s\n",
            "[CV 1/3] END learning_rate=0.02, max_depth=8, min_child_weight=5, n_estimators=2000, subsample=0.6;, score=0.915 total time=  32.6s\n",
            "[CV 2/3] END learning_rate=0.02, max_depth=8, min_child_weight=5, n_estimators=2000, subsample=0.6;, score=0.921 total time=  32.9s\n",
            "[CV 3/3] END learning_rate=0.02, max_depth=8, min_child_weight=5, n_estimators=2000, subsample=0.6;, score=0.917 total time=  32.8s\n",
            "[CV 1/3] END learning_rate=0.02, max_depth=8, min_child_weight=5, n_estimators=2000, subsample=0.8;, score=0.914 total time=  31.6s\n",
            "[CV 2/3] END learning_rate=0.02, max_depth=8, min_child_weight=5, n_estimators=2000, subsample=0.8;, score=0.922 total time=  31.8s\n",
            "[CV 3/3] END learning_rate=0.02, max_depth=8, min_child_weight=5, n_estimators=2000, subsample=0.8;, score=0.915 total time=  31.8s\n",
            "[CV 1/3] END learning_rate=0.02, max_depth=8, min_child_weight=5, n_estimators=2000, subsample=1.0;, score=0.913 total time=  27.7s\n",
            "[CV 2/3] END learning_rate=0.02, max_depth=8, min_child_weight=5, n_estimators=2000, subsample=1.0;, score=0.924 total time=  27.6s\n",
            "[CV 3/3] END learning_rate=0.02, max_depth=8, min_child_weight=5, n_estimators=2000, subsample=1.0;, score=0.918 total time=  27.7s\n",
            "[CV 1/3] END learning_rate=0.02, max_depth=8, min_child_weight=10, n_estimators=500, subsample=0.6;, score=0.924 total time=   7.6s\n",
            "[CV 2/3] END learning_rate=0.02, max_depth=8, min_child_weight=10, n_estimators=500, subsample=0.6;, score=0.934 total time=   7.7s\n",
            "[CV 3/3] END learning_rate=0.02, max_depth=8, min_child_weight=10, n_estimators=500, subsample=0.6;, score=0.931 total time=   7.6s\n",
            "[CV 1/3] END learning_rate=0.02, max_depth=8, min_child_weight=10, n_estimators=500, subsample=0.8;, score=0.925 total time=   7.7s\n",
            "[CV 2/3] END learning_rate=0.02, max_depth=8, min_child_weight=10, n_estimators=500, subsample=0.8;, score=0.933 total time=   7.8s\n",
            "[CV 3/3] END learning_rate=0.02, max_depth=8, min_child_weight=10, n_estimators=500, subsample=0.8;, score=0.929 total time=   7.7s\n",
            "[CV 1/3] END learning_rate=0.02, max_depth=8, min_child_weight=10, n_estimators=500, subsample=1.0;, score=0.924 total time=   7.1s\n",
            "[CV 2/3] END learning_rate=0.02, max_depth=8, min_child_weight=10, n_estimators=500, subsample=1.0;, score=0.933 total time=   7.2s\n",
            "[CV 3/3] END learning_rate=0.02, max_depth=8, min_child_weight=10, n_estimators=500, subsample=1.0;, score=0.929 total time=   7.1s\n",
            "[CV 1/3] END learning_rate=0.02, max_depth=8, min_child_weight=10, n_estimators=1000, subsample=0.6;, score=0.921 total time=  15.1s\n",
            "[CV 2/3] END learning_rate=0.02, max_depth=8, min_child_weight=10, n_estimators=1000, subsample=0.6;, score=0.930 total time=  15.2s\n",
            "[CV 3/3] END learning_rate=0.02, max_depth=8, min_child_weight=10, n_estimators=1000, subsample=0.6;, score=0.926 total time=  15.1s\n",
            "[CV 1/3] END learning_rate=0.02, max_depth=8, min_child_weight=10, n_estimators=1000, subsample=0.8;, score=0.921 total time=  15.2s\n",
            "[CV 2/3] END learning_rate=0.02, max_depth=8, min_child_weight=10, n_estimators=1000, subsample=0.8;, score=0.929 total time=  15.3s\n",
            "[CV 3/3] END learning_rate=0.02, max_depth=8, min_child_weight=10, n_estimators=1000, subsample=0.8;, score=0.925 total time=  15.2s\n",
            "[CV 1/3] END learning_rate=0.02, max_depth=8, min_child_weight=10, n_estimators=1000, subsample=1.0;, score=0.921 total time=  13.8s\n",
            "[CV 2/3] END learning_rate=0.02, max_depth=8, min_child_weight=10, n_estimators=1000, subsample=1.0;, score=0.928 total time=  13.8s\n",
            "[CV 3/3] END learning_rate=0.02, max_depth=8, min_child_weight=10, n_estimators=1000, subsample=1.0;, score=0.925 total time=  13.7s\n",
            "[CV 1/3] END learning_rate=0.02, max_depth=8, min_child_weight=10, n_estimators=1500, subsample=0.6;, score=0.919 total time=  22.3s\n",
            "[CV 2/3] END learning_rate=0.02, max_depth=8, min_child_weight=10, n_estimators=1500, subsample=0.6;, score=0.926 total time=  22.6s\n",
            "[CV 3/3] END learning_rate=0.02, max_depth=8, min_child_weight=10, n_estimators=1500, subsample=0.6;, score=0.924 total time=  22.5s\n",
            "[CV 1/3] END learning_rate=0.02, max_depth=8, min_child_weight=10, n_estimators=1500, subsample=0.8;, score=0.918 total time=  22.6s\n",
            "[CV 2/3] END learning_rate=0.02, max_depth=8, min_child_weight=10, n_estimators=1500, subsample=0.8;, score=0.925 total time=  22.8s\n",
            "[CV 3/3] END learning_rate=0.02, max_depth=8, min_child_weight=10, n_estimators=1500, subsample=0.8;, score=0.922 total time=  22.8s\n",
            "[CV 1/3] END learning_rate=0.02, max_depth=8, min_child_weight=10, n_estimators=1500, subsample=1.0;, score=0.918 total time=  20.5s\n",
            "[CV 2/3] END learning_rate=0.02, max_depth=8, min_child_weight=10, n_estimators=1500, subsample=1.0;, score=0.925 total time=  20.5s\n",
            "[CV 3/3] END learning_rate=0.02, max_depth=8, min_child_weight=10, n_estimators=1500, subsample=1.0;, score=0.922 total time=  20.4s\n",
            "[CV 1/3] END learning_rate=0.02, max_depth=8, min_child_weight=10, n_estimators=2000, subsample=0.6;, score=0.918 total time=  29.4s\n",
            "[CV 2/3] END learning_rate=0.02, max_depth=8, min_child_weight=10, n_estimators=2000, subsample=0.6;, score=0.923 total time=  29.8s\n",
            "[CV 3/3] END learning_rate=0.02, max_depth=8, min_child_weight=10, n_estimators=2000, subsample=0.6;, score=0.921 total time=  29.6s\n",
            "[CV 1/3] END learning_rate=0.02, max_depth=8, min_child_weight=10, n_estimators=2000, subsample=0.8;, score=0.916 total time=  29.9s\n",
            "[CV 2/3] END learning_rate=0.02, max_depth=8, min_child_weight=10, n_estimators=2000, subsample=0.8;, score=0.922 total time=  30.2s\n",
            "[CV 3/3] END learning_rate=0.02, max_depth=8, min_child_weight=10, n_estimators=2000, subsample=0.8;, score=0.919 total time=  30.0s\n",
            "[CV 1/3] END learning_rate=0.02, max_depth=8, min_child_weight=10, n_estimators=2000, subsample=1.0;, score=0.917 total time=  27.3s\n",
            "[CV 2/3] END learning_rate=0.02, max_depth=8, min_child_weight=10, n_estimators=2000, subsample=1.0;, score=0.922 total time=  27.2s\n",
            "[CV 3/3] END learning_rate=0.02, max_depth=8, min_child_weight=10, n_estimators=2000, subsample=1.0;, score=0.920 total time=  27.3s\n",
            "[CV 1/3] END learning_rate=0.02, max_depth=12, min_child_weight=1, n_estimators=500, subsample=0.6;, score=0.921 total time=  12.7s\n",
            "[CV 2/3] END learning_rate=0.02, max_depth=12, min_child_weight=1, n_estimators=500, subsample=0.6;, score=0.931 total time=  12.9s\n",
            "[CV 3/3] END learning_rate=0.02, max_depth=12, min_child_weight=1, n_estimators=500, subsample=0.6;, score=0.922 total time=  12.7s\n",
            "[CV 1/3] END learning_rate=0.02, max_depth=12, min_child_weight=1, n_estimators=500, subsample=0.8;, score=0.921 total time=  12.8s\n",
            "[CV 2/3] END learning_rate=0.02, max_depth=12, min_child_weight=1, n_estimators=500, subsample=0.8;, score=0.931 total time=  12.9s\n",
            "[CV 3/3] END learning_rate=0.02, max_depth=12, min_child_weight=1, n_estimators=500, subsample=0.8;, score=0.922 total time=  12.9s\n",
            "[CV 1/3] END learning_rate=0.02, max_depth=12, min_child_weight=1, n_estimators=500, subsample=1.0;, score=0.919 total time=  12.5s\n",
            "[CV 2/3] END learning_rate=0.02, max_depth=12, min_child_weight=1, n_estimators=500, subsample=1.0;, score=0.927 total time=  12.3s\n",
            "[CV 3/3] END learning_rate=0.02, max_depth=12, min_child_weight=1, n_estimators=500, subsample=1.0;, score=0.921 total time=  12.4s\n",
            "[CV 1/3] END learning_rate=0.02, max_depth=12, min_child_weight=1, n_estimators=1000, subsample=0.6;, score=0.916 total time=  24.7s\n",
            "[CV 2/3] END learning_rate=0.02, max_depth=12, min_child_weight=1, n_estimators=1000, subsample=0.6;, score=0.926 total time=  25.0s\n",
            "[CV 3/3] END learning_rate=0.02, max_depth=12, min_child_weight=1, n_estimators=1000, subsample=0.6;, score=0.918 total time=  24.8s\n",
            "[CV 1/3] END learning_rate=0.02, max_depth=12, min_child_weight=1, n_estimators=1000, subsample=0.8;, score=0.917 total time=  24.8s\n",
            "[CV 2/3] END learning_rate=0.02, max_depth=12, min_child_weight=1, n_estimators=1000, subsample=0.8;, score=0.927 total time=  25.1s\n",
            "[CV 3/3] END learning_rate=0.02, max_depth=12, min_child_weight=1, n_estimators=1000, subsample=0.8;, score=0.919 total time=  25.0s\n",
            "[CV 1/3] END learning_rate=0.02, max_depth=12, min_child_weight=1, n_estimators=1000, subsample=1.0;, score=0.916 total time=  23.5s\n",
            "[CV 2/3] END learning_rate=0.02, max_depth=12, min_child_weight=1, n_estimators=1000, subsample=1.0;, score=0.924 total time=  23.7s\n",
            "[CV 3/3] END learning_rate=0.02, max_depth=12, min_child_weight=1, n_estimators=1000, subsample=1.0;, score=0.919 total time=  23.4s\n",
            "[CV 1/3] END learning_rate=0.02, max_depth=12, min_child_weight=1, n_estimators=1500, subsample=0.6;, score=0.913 total time=  35.7s\n",
            "[CV 2/3] END learning_rate=0.02, max_depth=12, min_child_weight=1, n_estimators=1500, subsample=0.6;, score=0.923 total time=  36.2s\n",
            "[CV 3/3] END learning_rate=0.02, max_depth=12, min_child_weight=1, n_estimators=1500, subsample=0.6;, score=0.916 total time=  36.0s\n",
            "[CV 1/3] END learning_rate=0.02, max_depth=12, min_child_weight=1, n_estimators=1500, subsample=0.8;, score=0.914 total time=  36.0s\n",
            "[CV 2/3] END learning_rate=0.02, max_depth=12, min_child_weight=1, n_estimators=1500, subsample=0.8;, score=0.925 total time=  36.5s\n",
            "[CV 3/3] END learning_rate=0.02, max_depth=12, min_child_weight=1, n_estimators=1500, subsample=0.8;, score=0.917 total time=  36.2s\n",
            "[CV 1/3] END learning_rate=0.02, max_depth=12, min_child_weight=1, n_estimators=1500, subsample=1.0;, score=0.914 total time=  34.0s\n",
            "[CV 2/3] END learning_rate=0.02, max_depth=12, min_child_weight=1, n_estimators=1500, subsample=1.0;, score=0.923 total time=  34.5s\n",
            "[CV 3/3] END learning_rate=0.02, max_depth=12, min_child_weight=1, n_estimators=1500, subsample=1.0;, score=0.917 total time=  34.1s\n",
            "[CV 1/3] END learning_rate=0.02, max_depth=12, min_child_weight=1, n_estimators=2000, subsample=0.6;, score=0.911 total time=  45.8s\n",
            "[CV 2/3] END learning_rate=0.02, max_depth=12, min_child_weight=1, n_estimators=2000, subsample=0.6;, score=0.922 total time=  46.4s\n",
            "[CV 3/3] END learning_rate=0.02, max_depth=12, min_child_weight=1, n_estimators=2000, subsample=0.6;, score=0.914 total time=  46.1s\n",
            "[CV 1/3] END learning_rate=0.02, max_depth=12, min_child_weight=1, n_estimators=2000, subsample=0.8;, score=0.913 total time=  46.3s\n",
            "[CV 2/3] END learning_rate=0.02, max_depth=12, min_child_weight=1, n_estimators=2000, subsample=0.8;, score=0.923 total time=  46.9s\n",
            "[CV 3/3] END learning_rate=0.02, max_depth=12, min_child_weight=1, n_estimators=2000, subsample=0.8;, score=0.916 total time=  46.5s\n",
            "[CV 1/3] END learning_rate=0.02, max_depth=12, min_child_weight=1, n_estimators=2000, subsample=1.0;, score=0.913 total time=  44.2s\n",
            "[CV 2/3] END learning_rate=0.02, max_depth=12, min_child_weight=1, n_estimators=2000, subsample=1.0;, score=0.922 total time=  44.6s\n",
            "[CV 3/3] END learning_rate=0.02, max_depth=12, min_child_weight=1, n_estimators=2000, subsample=1.0;, score=0.916 total time=  44.2s\n",
            "[CV 1/3] END learning_rate=0.02, max_depth=12, min_child_weight=5, n_estimators=500, subsample=0.6;, score=0.924 total time=  10.1s\n",
            "[CV 2/3] END learning_rate=0.02, max_depth=12, min_child_weight=5, n_estimators=500, subsample=0.6;, score=0.931 total time=  10.2s\n",
            "[CV 3/3] END learning_rate=0.02, max_depth=12, min_child_weight=5, n_estimators=500, subsample=0.6;, score=0.926 total time=  10.2s\n",
            "[CV 1/3] END learning_rate=0.02, max_depth=12, min_child_weight=5, n_estimators=500, subsample=0.8;, score=0.922 total time=  10.7s\n",
            "[CV 2/3] END learning_rate=0.02, max_depth=12, min_child_weight=5, n_estimators=500, subsample=0.8;, score=0.932 total time=  10.9s\n",
            "[CV 3/3] END learning_rate=0.02, max_depth=12, min_child_weight=5, n_estimators=500, subsample=0.8;, score=0.924 total time=  10.8s\n",
            "[CV 1/3] END learning_rate=0.02, max_depth=12, min_child_weight=5, n_estimators=500, subsample=1.0;, score=0.920 total time=  10.4s\n",
            "[CV 2/3] END learning_rate=0.02, max_depth=12, min_child_weight=5, n_estimators=500, subsample=1.0;, score=0.932 total time=  10.6s\n",
            "[CV 3/3] END learning_rate=0.02, max_depth=12, min_child_weight=5, n_estimators=500, subsample=1.0;, score=0.924 total time=  10.4s\n",
            "[CV 1/3] END learning_rate=0.02, max_depth=12, min_child_weight=5, n_estimators=1000, subsample=0.6;, score=0.920 total time=  20.0s\n",
            "[CV 2/3] END learning_rate=0.02, max_depth=12, min_child_weight=5, n_estimators=1000, subsample=0.6;, score=0.926 total time=  20.3s\n",
            "[CV 3/3] END learning_rate=0.02, max_depth=12, min_child_weight=5, n_estimators=1000, subsample=0.6;, score=0.920 total time=  20.1s\n",
            "[CV 1/3] END learning_rate=0.02, max_depth=12, min_child_weight=5, n_estimators=1000, subsample=0.8;, score=0.918 total time=  21.2s\n",
            "[CV 2/3] END learning_rate=0.02, max_depth=12, min_child_weight=5, n_estimators=1000, subsample=0.8;, score=0.926 total time=  21.6s\n",
            "[CV 3/3] END learning_rate=0.02, max_depth=12, min_child_weight=5, n_estimators=1000, subsample=0.8;, score=0.918 total time=  21.5s\n",
            "[CV 1/3] END learning_rate=0.02, max_depth=12, min_child_weight=5, n_estimators=1000, subsample=1.0;, score=0.916 total time=  20.3s\n",
            "[CV 2/3] END learning_rate=0.02, max_depth=12, min_child_weight=5, n_estimators=1000, subsample=1.0;, score=0.927 total time=  20.7s\n",
            "[CV 3/3] END learning_rate=0.02, max_depth=12, min_child_weight=5, n_estimators=1000, subsample=1.0;, score=0.920 total time=  20.6s\n",
            "[CV 1/3] END learning_rate=0.02, max_depth=12, min_child_weight=5, n_estimators=1500, subsample=0.6;, score=0.917 total time=  29.3s\n",
            "[CV 2/3] END learning_rate=0.02, max_depth=12, min_child_weight=5, n_estimators=1500, subsample=0.6;, score=0.922 total time=  29.7s\n",
            "[CV 3/3] END learning_rate=0.02, max_depth=12, min_child_weight=5, n_estimators=1500, subsample=0.6;, score=0.917 total time=  29.4s\n",
            "[CV 1/3] END learning_rate=0.02, max_depth=12, min_child_weight=5, n_estimators=1500, subsample=0.8;, score=0.915 total time=  31.1s\n",
            "[CV 2/3] END learning_rate=0.02, max_depth=12, min_child_weight=5, n_estimators=1500, subsample=0.8;, score=0.923 total time=  31.7s\n",
            "[CV 3/3] END learning_rate=0.02, max_depth=12, min_child_weight=5, n_estimators=1500, subsample=0.8;, score=0.915 total time=  31.4s\n",
            "[CV 1/3] END learning_rate=0.02, max_depth=12, min_child_weight=5, n_estimators=1500, subsample=1.0;, score=0.913 total time=  30.0s\n",
            "[CV 2/3] END learning_rate=0.02, max_depth=12, min_child_weight=5, n_estimators=1500, subsample=1.0;, score=0.923 total time=  30.7s\n",
            "[CV 3/3] END learning_rate=0.02, max_depth=12, min_child_weight=5, n_estimators=1500, subsample=1.0;, score=0.917 total time=  30.5s\n",
            "[CV 1/3] END learning_rate=0.02, max_depth=12, min_child_weight=5, n_estimators=2000, subsample=0.6;, score=0.915 total time=  38.0s\n",
            "[CV 2/3] END learning_rate=0.02, max_depth=12, min_child_weight=5, n_estimators=2000, subsample=0.6;, score=0.920 total time=  38.5s\n",
            "[CV 3/3] END learning_rate=0.02, max_depth=12, min_child_weight=5, n_estimators=2000, subsample=0.6;, score=0.916 total time=  38.3s\n",
            "[CV 1/3] END learning_rate=0.02, max_depth=12, min_child_weight=5, n_estimators=2000, subsample=0.8;, score=0.913 total time=  40.3s\n",
            "[CV 2/3] END learning_rate=0.02, max_depth=12, min_child_weight=5, n_estimators=2000, subsample=0.8;, score=0.921 total time=  41.1s\n",
            "[CV 3/3] END learning_rate=0.02, max_depth=12, min_child_weight=5, n_estimators=2000, subsample=0.8;, score=0.913 total time=  40.7s\n",
            "[CV 1/3] END learning_rate=0.02, max_depth=12, min_child_weight=5, n_estimators=2000, subsample=1.0;, score=0.911 total time=  39.5s\n",
            "[CV 2/3] END learning_rate=0.02, max_depth=12, min_child_weight=5, n_estimators=2000, subsample=1.0;, score=0.921 total time=  40.4s\n",
            "[CV 3/3] END learning_rate=0.02, max_depth=12, min_child_weight=5, n_estimators=2000, subsample=1.0;, score=0.915 total time=  40.0s\n",
            "[CV 1/3] END learning_rate=0.02, max_depth=12, min_child_weight=10, n_estimators=500, subsample=0.6;, score=0.923 total time=   8.3s\n",
            "[CV 2/3] END learning_rate=0.02, max_depth=12, min_child_weight=10, n_estimators=500, subsample=0.6;, score=0.934 total time=   8.5s\n",
            "[CV 3/3] END learning_rate=0.02, max_depth=12, min_child_weight=10, n_estimators=500, subsample=0.6;, score=0.930 total time=   8.4s\n",
            "[CV 1/3] END learning_rate=0.02, max_depth=12, min_child_weight=10, n_estimators=500, subsample=0.8;, score=0.924 total time=   9.2s\n",
            "[CV 2/3] END learning_rate=0.02, max_depth=12, min_child_weight=10, n_estimators=500, subsample=0.8;, score=0.932 total time=   9.5s\n",
            "[CV 3/3] END learning_rate=0.02, max_depth=12, min_child_weight=10, n_estimators=500, subsample=0.8;, score=0.929 total time=   9.4s\n",
            "[CV 1/3] END learning_rate=0.02, max_depth=12, min_child_weight=10, n_estimators=500, subsample=1.0;, score=0.923 total time=   9.4s\n",
            "[CV 2/3] END learning_rate=0.02, max_depth=12, min_child_weight=10, n_estimators=500, subsample=1.0;, score=0.932 total time=   9.6s\n",
            "[CV 3/3] END learning_rate=0.02, max_depth=12, min_child_weight=10, n_estimators=500, subsample=1.0;, score=0.927 total time=   9.5s\n",
            "[CV 1/3] END learning_rate=0.02, max_depth=12, min_child_weight=10, n_estimators=1000, subsample=0.6;, score=0.920 total time=  16.4s\n",
            "[CV 2/3] END learning_rate=0.02, max_depth=12, min_child_weight=10, n_estimators=1000, subsample=0.6;, score=0.929 total time=  16.8s\n",
            "[CV 3/3] END learning_rate=0.02, max_depth=12, min_child_weight=10, n_estimators=1000, subsample=0.6;, score=0.926 total time=  16.5s\n",
            "[CV 1/3] END learning_rate=0.02, max_depth=12, min_child_weight=10, n_estimators=1000, subsample=0.8;, score=0.920 total time=  18.4s\n",
            "[CV 2/3] END learning_rate=0.02, max_depth=12, min_child_weight=10, n_estimators=1000, subsample=0.8;, score=0.928 total time=  18.8s\n",
            "[CV 3/3] END learning_rate=0.02, max_depth=12, min_child_weight=10, n_estimators=1000, subsample=0.8;, score=0.924 total time=  18.5s\n",
            "[CV 1/3] END learning_rate=0.02, max_depth=12, min_child_weight=10, n_estimators=1000, subsample=1.0;, score=0.919 total time=  19.0s\n",
            "[CV 2/3] END learning_rate=0.02, max_depth=12, min_child_weight=10, n_estimators=1000, subsample=1.0;, score=0.926 total time=  19.2s\n",
            "[CV 3/3] END learning_rate=0.02, max_depth=12, min_child_weight=10, n_estimators=1000, subsample=1.0;, score=0.923 total time=  19.1s\n",
            "[CV 1/3] END learning_rate=0.02, max_depth=12, min_child_weight=10, n_estimators=1500, subsample=0.6;, score=0.919 total time=  24.2s\n",
            "[CV 2/3] END learning_rate=0.02, max_depth=12, min_child_weight=10, n_estimators=1500, subsample=0.6;, score=0.925 total time=  24.8s\n",
            "[CV 3/3] END learning_rate=0.02, max_depth=12, min_child_weight=10, n_estimators=1500, subsample=0.6;, score=0.924 total time=  24.4s\n",
            "[CV 1/3] END learning_rate=0.02, max_depth=12, min_child_weight=10, n_estimators=1500, subsample=0.8;, score=0.917 total time=  27.1s\n",
            "[CV 2/3] END learning_rate=0.02, max_depth=12, min_child_weight=10, n_estimators=1500, subsample=0.8;, score=0.924 total time=  27.7s\n",
            "[CV 3/3] END learning_rate=0.02, max_depth=12, min_child_weight=10, n_estimators=1500, subsample=0.8;, score=0.921 total time=  27.2s\n",
            "[CV 1/3] END learning_rate=0.02, max_depth=12, min_child_weight=10, n_estimators=1500, subsample=1.0;, score=0.916 total time=  28.4s\n",
            "[CV 2/3] END learning_rate=0.02, max_depth=12, min_child_weight=10, n_estimators=1500, subsample=1.0;, score=0.922 total time=  28.7s\n",
            "[CV 3/3] END learning_rate=0.02, max_depth=12, min_child_weight=10, n_estimators=1500, subsample=1.0;, score=0.919 total time=  28.3s\n",
            "[CV 1/3] END learning_rate=0.02, max_depth=12, min_child_weight=10, n_estimators=2000, subsample=0.6;, score=0.917 total time=  31.5s\n",
            "[CV 2/3] END learning_rate=0.02, max_depth=12, min_child_weight=10, n_estimators=2000, subsample=0.6;, score=0.922 total time=  32.4s\n",
            "[CV 3/3] END learning_rate=0.02, max_depth=12, min_child_weight=10, n_estimators=2000, subsample=0.6;, score=0.921 total time=  31.9s\n",
            "[CV 1/3] END learning_rate=0.02, max_depth=12, min_child_weight=10, n_estimators=2000, subsample=0.8;, score=0.915 total time=  35.4s\n",
            "[CV 2/3] END learning_rate=0.02, max_depth=12, min_child_weight=10, n_estimators=2000, subsample=0.8;, score=0.921 total time=  36.2s\n",
            "[CV 3/3] END learning_rate=0.02, max_depth=12, min_child_weight=10, n_estimators=2000, subsample=0.8;, score=0.918 total time=  35.6s\n",
            "[CV 1/3] END learning_rate=0.02, max_depth=12, min_child_weight=10, n_estimators=2000, subsample=1.0;, score=0.913 total time=  37.5s\n",
            "[CV 2/3] END learning_rate=0.02, max_depth=12, min_child_weight=10, n_estimators=2000, subsample=1.0;, score=0.920 total time=  38.2s\n",
            "[CV 3/3] END learning_rate=0.02, max_depth=12, min_child_weight=10, n_estimators=2000, subsample=1.0;, score=0.917 total time=  37.4s\n",
            "[CV 1/3] END learning_rate=0.1, max_depth=3, min_child_weight=1, n_estimators=500, subsample=0.6;, score=0.916 total time=   3.6s\n",
            "[CV 2/3] END learning_rate=0.1, max_depth=3, min_child_weight=1, n_estimators=500, subsample=0.6;, score=0.928 total time=   3.7s\n",
            "[CV 3/3] END learning_rate=0.1, max_depth=3, min_child_weight=1, n_estimators=500, subsample=0.6;, score=0.921 total time=   3.7s\n",
            "[CV 1/3] END learning_rate=0.1, max_depth=3, min_child_weight=1, n_estimators=500, subsample=0.8;, score=0.922 total time=   3.3s\n",
            "[CV 2/3] END learning_rate=0.1, max_depth=3, min_child_weight=1, n_estimators=500, subsample=0.8;, score=0.929 total time=   3.3s\n",
            "[CV 3/3] END learning_rate=0.1, max_depth=3, min_child_weight=1, n_estimators=500, subsample=0.8;, score=0.924 total time=   3.3s\n",
            "[CV 1/3] END learning_rate=0.1, max_depth=3, min_child_weight=1, n_estimators=500, subsample=1.0;, score=0.922 total time=   2.8s\n",
            "[CV 2/3] END learning_rate=0.1, max_depth=3, min_child_weight=1, n_estimators=500, subsample=1.0;, score=0.930 total time=   2.8s\n",
            "[CV 3/3] END learning_rate=0.1, max_depth=3, min_child_weight=1, n_estimators=500, subsample=1.0;, score=0.926 total time=   2.8s\n",
            "[CV 1/3] END learning_rate=0.1, max_depth=3, min_child_weight=1, n_estimators=1000, subsample=0.6;, score=0.908 total time=   7.3s\n",
            "[CV 2/3] END learning_rate=0.1, max_depth=3, min_child_weight=1, n_estimators=1000, subsample=0.6;, score=0.921 total time=   7.3s\n",
            "[CV 3/3] END learning_rate=0.1, max_depth=3, min_child_weight=1, n_estimators=1000, subsample=0.6;, score=0.913 total time=   7.3s\n",
            "[CV 1/3] END learning_rate=0.1, max_depth=3, min_child_weight=1, n_estimators=1000, subsample=0.8;, score=0.915 total time=   6.5s\n",
            "[CV 2/3] END learning_rate=0.1, max_depth=3, min_child_weight=1, n_estimators=1000, subsample=0.8;, score=0.921 total time=   6.5s\n",
            "[CV 3/3] END learning_rate=0.1, max_depth=3, min_child_weight=1, n_estimators=1000, subsample=0.8;, score=0.917 total time=   6.5s\n",
            "[CV 1/3] END learning_rate=0.1, max_depth=3, min_child_weight=1, n_estimators=1000, subsample=1.0;, score=0.916 total time=   5.6s\n",
            "[CV 2/3] END learning_rate=0.1, max_depth=3, min_child_weight=1, n_estimators=1000, subsample=1.0;, score=0.923 total time=   5.6s\n",
            "[CV 3/3] END learning_rate=0.1, max_depth=3, min_child_weight=1, n_estimators=1000, subsample=1.0;, score=0.919 total time=   5.6s\n",
            "[CV 1/3] END learning_rate=0.1, max_depth=3, min_child_weight=1, n_estimators=1500, subsample=0.6;, score=0.905 total time=  10.9s\n",
            "[CV 2/3] END learning_rate=0.1, max_depth=3, min_child_weight=1, n_estimators=1500, subsample=0.6;, score=0.917 total time=  10.9s\n",
            "[CV 3/3] END learning_rate=0.1, max_depth=3, min_child_weight=1, n_estimators=1500, subsample=0.6;, score=0.909 total time=  10.9s\n",
            "[CV 1/3] END learning_rate=0.1, max_depth=3, min_child_weight=1, n_estimators=1500, subsample=0.8;, score=0.911 total time=   9.8s\n",
            "[CV 2/3] END learning_rate=0.1, max_depth=3, min_child_weight=1, n_estimators=1500, subsample=0.8;, score=0.918 total time=   9.7s\n",
            "[CV 3/3] END learning_rate=0.1, max_depth=3, min_child_weight=1, n_estimators=1500, subsample=0.8;, score=0.914 total time=   9.7s\n",
            "[CV 1/3] END learning_rate=0.1, max_depth=3, min_child_weight=1, n_estimators=1500, subsample=1.0;, score=0.913 total time=   8.4s\n",
            "[CV 2/3] END learning_rate=0.1, max_depth=3, min_child_weight=1, n_estimators=1500, subsample=1.0;, score=0.918 total time=   8.3s\n",
            "[CV 3/3] END learning_rate=0.1, max_depth=3, min_child_weight=1, n_estimators=1500, subsample=1.0;, score=0.914 total time=   8.3s\n",
            "[CV 1/3] END learning_rate=0.1, max_depth=3, min_child_weight=1, n_estimators=2000, subsample=0.6;, score=0.902 total time=  14.5s\n",
            "[CV 2/3] END learning_rate=0.1, max_depth=3, min_child_weight=1, n_estimators=2000, subsample=0.6;, score=0.917 total time=  14.5s\n",
            "[CV 3/3] END learning_rate=0.1, max_depth=3, min_child_weight=1, n_estimators=2000, subsample=0.6;, score=0.906 total time=  14.5s\n",
            "[CV 1/3] END learning_rate=0.1, max_depth=3, min_child_weight=1, n_estimators=2000, subsample=0.8;, score=0.907 total time=  13.0s\n",
            "[CV 2/3] END learning_rate=0.1, max_depth=3, min_child_weight=1, n_estimators=2000, subsample=0.8;, score=0.916 total time=  13.0s\n",
            "[CV 3/3] END learning_rate=0.1, max_depth=3, min_child_weight=1, n_estimators=2000, subsample=0.8;, score=0.910 total time=  13.0s\n",
            "[CV 1/3] END learning_rate=0.1, max_depth=3, min_child_weight=1, n_estimators=2000, subsample=1.0;, score=0.910 total time=  11.2s\n",
            "[CV 2/3] END learning_rate=0.1, max_depth=3, min_child_weight=1, n_estimators=2000, subsample=1.0;, score=0.915 total time=  11.2s\n",
            "[CV 3/3] END learning_rate=0.1, max_depth=3, min_child_weight=1, n_estimators=2000, subsample=1.0;, score=0.910 total time=  11.2s\n",
            "[CV 1/3] END learning_rate=0.1, max_depth=3, min_child_weight=5, n_estimators=500, subsample=0.6;, score=0.919 total time=   3.6s\n",
            "[CV 2/3] END learning_rate=0.1, max_depth=3, min_child_weight=5, n_estimators=500, subsample=0.6;, score=0.928 total time=   3.7s\n",
            "[CV 3/3] END learning_rate=0.1, max_depth=3, min_child_weight=5, n_estimators=500, subsample=0.6;, score=0.924 total time=   3.7s\n",
            "[CV 1/3] END learning_rate=0.1, max_depth=3, min_child_weight=5, n_estimators=500, subsample=0.8;, score=0.921 total time=   3.3s\n",
            "[CV 2/3] END learning_rate=0.1, max_depth=3, min_child_weight=5, n_estimators=500, subsample=0.8;, score=0.930 total time=   3.3s\n",
            "[CV 3/3] END learning_rate=0.1, max_depth=3, min_child_weight=5, n_estimators=500, subsample=0.8;, score=0.923 total time=   3.3s\n",
            "[CV 1/3] END learning_rate=0.1, max_depth=3, min_child_weight=5, n_estimators=500, subsample=1.0;, score=0.921 total time=   2.8s\n",
            "[CV 2/3] END learning_rate=0.1, max_depth=3, min_child_weight=5, n_estimators=500, subsample=1.0;, score=0.931 total time=   2.8s\n",
            "[CV 3/3] END learning_rate=0.1, max_depth=3, min_child_weight=5, n_estimators=500, subsample=1.0;, score=0.926 total time=   2.8s\n",
            "[CV 1/3] END learning_rate=0.1, max_depth=3, min_child_weight=5, n_estimators=1000, subsample=0.6;, score=0.913 total time=   7.3s\n",
            "[CV 2/3] END learning_rate=0.1, max_depth=3, min_child_weight=5, n_estimators=1000, subsample=0.6;, score=0.922 total time=   7.3s\n",
            "[CV 3/3] END learning_rate=0.1, max_depth=3, min_child_weight=5, n_estimators=1000, subsample=0.6;, score=0.917 total time=   7.3s\n",
            "[CV 1/3] END learning_rate=0.1, max_depth=3, min_child_weight=5, n_estimators=1000, subsample=0.8;, score=0.913 total time=   6.5s\n",
            "[CV 2/3] END learning_rate=0.1, max_depth=3, min_child_weight=5, n_estimators=1000, subsample=0.8;, score=0.922 total time=   6.5s\n",
            "[CV 3/3] END learning_rate=0.1, max_depth=3, min_child_weight=5, n_estimators=1000, subsample=0.8;, score=0.917 total time=   6.5s\n",
            "[CV 1/3] END learning_rate=0.1, max_depth=3, min_child_weight=5, n_estimators=1000, subsample=1.0;, score=0.914 total time=   5.6s\n",
            "[CV 2/3] END learning_rate=0.1, max_depth=3, min_child_weight=5, n_estimators=1000, subsample=1.0;, score=0.924 total time=   5.6s\n",
            "[CV 3/3] END learning_rate=0.1, max_depth=3, min_child_weight=5, n_estimators=1000, subsample=1.0;, score=0.917 total time=   5.6s\n",
            "[CV 1/3] END learning_rate=0.1, max_depth=3, min_child_weight=5, n_estimators=1500, subsample=0.6;, score=0.909 total time=  10.9s\n",
            "[CV 2/3] END learning_rate=0.1, max_depth=3, min_child_weight=5, n_estimators=1500, subsample=0.6;, score=0.919 total time=  10.9s\n",
            "[CV 3/3] END learning_rate=0.1, max_depth=3, min_child_weight=5, n_estimators=1500, subsample=0.6;, score=0.912 total time=  10.8s\n",
            "[CV 1/3] END learning_rate=0.1, max_depth=3, min_child_weight=5, n_estimators=1500, subsample=0.8;, score=0.909 total time=   9.6s\n",
            "[CV 2/3] END learning_rate=0.1, max_depth=3, min_child_weight=5, n_estimators=1500, subsample=0.8;, score=0.918 total time=   9.7s\n",
            "[CV 3/3] END learning_rate=0.1, max_depth=3, min_child_weight=5, n_estimators=1500, subsample=0.8;, score=0.911 total time=   9.7s\n",
            "[CV 1/3] END learning_rate=0.1, max_depth=3, min_child_weight=5, n_estimators=1500, subsample=1.0;, score=0.910 total time=   8.3s\n",
            "[CV 2/3] END learning_rate=0.1, max_depth=3, min_child_weight=5, n_estimators=1500, subsample=1.0;, score=0.919 total time=   8.4s\n",
            "[CV 3/3] END learning_rate=0.1, max_depth=3, min_child_weight=5, n_estimators=1500, subsample=1.0;, score=0.911 total time=   8.3s\n",
            "[CV 1/3] END learning_rate=0.1, max_depth=3, min_child_weight=5, n_estimators=2000, subsample=0.6;, score=0.906 total time=  14.4s\n",
            "[CV 2/3] END learning_rate=0.1, max_depth=3, min_child_weight=5, n_estimators=2000, subsample=0.6;, score=0.916 total time=  14.4s\n",
            "[CV 3/3] END learning_rate=0.1, max_depth=3, min_child_weight=5, n_estimators=2000, subsample=0.6;, score=0.910 total time=  14.5s\n",
            "[CV 1/3] END learning_rate=0.1, max_depth=3, min_child_weight=5, n_estimators=2000, subsample=0.8;, score=0.906 total time=  12.9s\n",
            "[CV 2/3] END learning_rate=0.1, max_depth=3, min_child_weight=5, n_estimators=2000, subsample=0.8;, score=0.915 total time=  12.8s\n",
            "[CV 3/3] END learning_rate=0.1, max_depth=3, min_child_weight=5, n_estimators=2000, subsample=0.8;, score=0.908 total time=  12.9s\n",
            "[CV 1/3] END learning_rate=0.1, max_depth=3, min_child_weight=5, n_estimators=2000, subsample=1.0;, score=0.907 total time=  11.0s\n",
            "[CV 2/3] END learning_rate=0.1, max_depth=3, min_child_weight=5, n_estimators=2000, subsample=1.0;, score=0.917 total time=  11.1s\n",
            "[CV 3/3] END learning_rate=0.1, max_depth=3, min_child_weight=5, n_estimators=2000, subsample=1.0;, score=0.908 total time=  11.1s\n",
            "[CV 1/3] END learning_rate=0.1, max_depth=3, min_child_weight=10, n_estimators=500, subsample=0.6;, score=0.917 total time=   3.6s\n",
            "[CV 2/3] END learning_rate=0.1, max_depth=3, min_child_weight=10, n_estimators=500, subsample=0.6;, score=0.928 total time=   3.6s\n",
            "[CV 3/3] END learning_rate=0.1, max_depth=3, min_child_weight=10, n_estimators=500, subsample=0.6;, score=0.926 total time=   3.6s\n",
            "[CV 1/3] END learning_rate=0.1, max_depth=3, min_child_weight=10, n_estimators=500, subsample=0.8;, score=0.921 total time=   3.2s\n",
            "[CV 2/3] END learning_rate=0.1, max_depth=3, min_child_weight=10, n_estimators=500, subsample=0.8;, score=0.928 total time=   3.2s\n",
            "[CV 3/3] END learning_rate=0.1, max_depth=3, min_child_weight=10, n_estimators=500, subsample=0.8;, score=0.926 total time=   3.3s\n",
            "[CV 1/3] END learning_rate=0.1, max_depth=3, min_child_weight=10, n_estimators=500, subsample=1.0;, score=0.922 total time=   2.8s\n",
            "[CV 2/3] END learning_rate=0.1, max_depth=3, min_child_weight=10, n_estimators=500, subsample=1.0;, score=0.930 total time=   2.8s\n",
            "[CV 3/3] END learning_rate=0.1, max_depth=3, min_child_weight=10, n_estimators=500, subsample=1.0;, score=0.927 total time=   2.8s\n",
            "[CV 1/3] END learning_rate=0.1, max_depth=3, min_child_weight=10, n_estimators=1000, subsample=0.6;, score=0.912 total time=   7.2s\n",
            "[CV 2/3] END learning_rate=0.1, max_depth=3, min_child_weight=10, n_estimators=1000, subsample=0.6;, score=0.921 total time=   7.2s\n",
            "[CV 3/3] END learning_rate=0.1, max_depth=3, min_child_weight=10, n_estimators=1000, subsample=0.6;, score=0.922 total time=   7.2s\n",
            "[CV 1/3] END learning_rate=0.1, max_depth=3, min_child_weight=10, n_estimators=1000, subsample=0.8;, score=0.916 total time=   6.4s\n",
            "[CV 2/3] END learning_rate=0.1, max_depth=3, min_child_weight=10, n_estimators=1000, subsample=0.8;, score=0.923 total time=   6.4s\n",
            "[CV 3/3] END learning_rate=0.1, max_depth=3, min_child_weight=10, n_estimators=1000, subsample=0.8;, score=0.921 total time=   6.5s\n",
            "[CV 1/3] END learning_rate=0.1, max_depth=3, min_child_weight=10, n_estimators=1000, subsample=1.0;, score=0.919 total time=   5.5s\n",
            "[CV 2/3] END learning_rate=0.1, max_depth=3, min_child_weight=10, n_estimators=1000, subsample=1.0;, score=0.923 total time=   5.6s\n",
            "[CV 3/3] END learning_rate=0.1, max_depth=3, min_child_weight=10, n_estimators=1000, subsample=1.0;, score=0.921 total time=   5.5s\n",
            "[CV 1/3] END learning_rate=0.1, max_depth=3, min_child_weight=10, n_estimators=1500, subsample=0.6;, score=0.911 total time=  10.7s\n",
            "[CV 2/3] END learning_rate=0.1, max_depth=3, min_child_weight=10, n_estimators=1500, subsample=0.6;, score=0.915 total time=  10.8s\n",
            "[CV 3/3] END learning_rate=0.1, max_depth=3, min_child_weight=10, n_estimators=1500, subsample=0.6;, score=0.919 total time=  10.8s\n",
            "[CV 1/3] END learning_rate=0.1, max_depth=3, min_child_weight=10, n_estimators=1500, subsample=0.8;, score=0.912 total time=   9.7s\n",
            "[CV 2/3] END learning_rate=0.1, max_depth=3, min_child_weight=10, n_estimators=1500, subsample=0.8;, score=0.920 total time=   9.7s\n",
            "[CV 3/3] END learning_rate=0.1, max_depth=3, min_child_weight=10, n_estimators=1500, subsample=0.8;, score=0.917 total time=   9.6s\n",
            "[CV 1/3] END learning_rate=0.1, max_depth=3, min_child_weight=10, n_estimators=1500, subsample=1.0;, score=0.914 total time=   8.3s\n",
            "[CV 2/3] END learning_rate=0.1, max_depth=3, min_child_weight=10, n_estimators=1500, subsample=1.0;, score=0.919 total time=   8.3s\n",
            "[CV 3/3] END learning_rate=0.1, max_depth=3, min_child_weight=10, n_estimators=1500, subsample=1.0;, score=0.916 total time=   8.3s\n",
            "[CV 1/3] END learning_rate=0.1, max_depth=3, min_child_weight=10, n_estimators=2000, subsample=0.6;, score=0.907 total time=  14.4s\n",
            "[CV 2/3] END learning_rate=0.1, max_depth=3, min_child_weight=10, n_estimators=2000, subsample=0.6;, score=0.913 total time=  14.4s\n",
            "[CV 3/3] END learning_rate=0.1, max_depth=3, min_child_weight=10, n_estimators=2000, subsample=0.6;, score=0.916 total time=  14.4s\n",
            "[CV 1/3] END learning_rate=0.1, max_depth=3, min_child_weight=10, n_estimators=2000, subsample=0.8;, score=0.908 total time=  12.9s\n",
            "[CV 2/3] END learning_rate=0.1, max_depth=3, min_child_weight=10, n_estimators=2000, subsample=0.8;, score=0.917 total time=  12.9s\n",
            "[CV 3/3] END learning_rate=0.1, max_depth=3, min_child_weight=10, n_estimators=2000, subsample=0.8;, score=0.914 total time=  12.8s\n",
            "[CV 1/3] END learning_rate=0.1, max_depth=3, min_child_weight=10, n_estimators=2000, subsample=1.0;, score=0.912 total time=  11.1s\n",
            "[CV 2/3] END learning_rate=0.1, max_depth=3, min_child_weight=10, n_estimators=2000, subsample=1.0;, score=0.917 total time=  11.0s\n",
            "[CV 3/3] END learning_rate=0.1, max_depth=3, min_child_weight=10, n_estimators=2000, subsample=1.0;, score=0.913 total time=  11.0s\n",
            "[CV 1/3] END learning_rate=0.1, max_depth=8, min_child_weight=1, n_estimators=500, subsample=0.6;, score=0.909 total time=   9.0s\n",
            "[CV 2/3] END learning_rate=0.1, max_depth=8, min_child_weight=1, n_estimators=500, subsample=0.6;, score=0.916 total time=   9.0s\n",
            "[CV 3/3] END learning_rate=0.1, max_depth=8, min_child_weight=1, n_estimators=500, subsample=0.6;, score=0.913 total time=   9.0s\n",
            "[CV 1/3] END learning_rate=0.1, max_depth=8, min_child_weight=1, n_estimators=500, subsample=0.8;, score=0.910 total time=   8.4s\n",
            "[CV 2/3] END learning_rate=0.1, max_depth=8, min_child_weight=1, n_estimators=500, subsample=0.8;, score=0.919 total time=   8.4s\n",
            "[CV 3/3] END learning_rate=0.1, max_depth=8, min_child_weight=1, n_estimators=500, subsample=0.8;, score=0.913 total time=   8.4s\n",
            "[CV 1/3] END learning_rate=0.1, max_depth=8, min_child_weight=1, n_estimators=500, subsample=1.0;, score=0.911 total time=   7.3s\n",
            "[CV 2/3] END learning_rate=0.1, max_depth=8, min_child_weight=1, n_estimators=500, subsample=1.0;, score=0.922 total time=   7.3s\n",
            "[CV 3/3] END learning_rate=0.1, max_depth=8, min_child_weight=1, n_estimators=500, subsample=1.0;, score=0.914 total time=   7.3s\n",
            "[CV 1/3] END learning_rate=0.1, max_depth=8, min_child_weight=1, n_estimators=1000, subsample=0.6;, score=0.905 total time=  16.8s\n",
            "[CV 2/3] END learning_rate=0.1, max_depth=8, min_child_weight=1, n_estimators=1000, subsample=0.6;, score=0.914 total time=  16.9s\n",
            "[CV 3/3] END learning_rate=0.1, max_depth=8, min_child_weight=1, n_estimators=1000, subsample=0.6;, score=0.910 total time=  16.9s\n",
            "[CV 1/3] END learning_rate=0.1, max_depth=8, min_child_weight=1, n_estimators=1000, subsample=0.8;, score=0.907 total time=  16.0s\n",
            "[CV 2/3] END learning_rate=0.1, max_depth=8, min_child_weight=1, n_estimators=1000, subsample=0.8;, score=0.916 total time=  16.2s\n",
            "[CV 3/3] END learning_rate=0.1, max_depth=8, min_child_weight=1, n_estimators=1000, subsample=0.8;, score=0.909 total time=  16.2s\n",
            "[CV 1/3] END learning_rate=0.1, max_depth=8, min_child_weight=1, n_estimators=1000, subsample=1.0;, score=0.907 total time=  14.2s\n",
            "[CV 2/3] END learning_rate=0.1, max_depth=8, min_child_weight=1, n_estimators=1000, subsample=1.0;, score=0.919 total time=  14.3s\n",
            "[CV 3/3] END learning_rate=0.1, max_depth=8, min_child_weight=1, n_estimators=1000, subsample=1.0;, score=0.911 total time=  14.4s\n",
            "[CV 1/3] END learning_rate=0.1, max_depth=8, min_child_weight=1, n_estimators=1500, subsample=0.6;, score=0.904 total time=  23.9s\n",
            "[CV 2/3] END learning_rate=0.1, max_depth=8, min_child_weight=1, n_estimators=1500, subsample=0.6;, score=0.913 total time=  24.3s\n",
            "[CV 3/3] END learning_rate=0.1, max_depth=8, min_child_weight=1, n_estimators=1500, subsample=0.6;, score=0.908 total time=  24.0s\n",
            "[CV 1/3] END learning_rate=0.1, max_depth=8, min_child_weight=1, n_estimators=1500, subsample=0.8;, score=0.905 total time=  23.0s\n",
            "[CV 2/3] END learning_rate=0.1, max_depth=8, min_child_weight=1, n_estimators=1500, subsample=0.8;, score=0.915 total time=  23.3s\n",
            "[CV 3/3] END learning_rate=0.1, max_depth=8, min_child_weight=1, n_estimators=1500, subsample=0.8;, score=0.908 total time=  23.3s\n",
            "[CV 1/3] END learning_rate=0.1, max_depth=8, min_child_weight=1, n_estimators=1500, subsample=1.0;, score=0.905 total time=  21.1s\n",
            "[CV 2/3] END learning_rate=0.1, max_depth=8, min_child_weight=1, n_estimators=1500, subsample=1.0;, score=0.917 total time=  21.3s\n",
            "[CV 3/3] END learning_rate=0.1, max_depth=8, min_child_weight=1, n_estimators=1500, subsample=1.0;, score=0.910 total time=  21.1s\n",
            "[CV 1/3] END learning_rate=0.1, max_depth=8, min_child_weight=1, n_estimators=2000, subsample=0.6;, score=0.902 total time=  30.0s\n",
            "[CV 2/3] END learning_rate=0.1, max_depth=8, min_child_weight=1, n_estimators=2000, subsample=0.6;, score=0.912 total time=  30.7s\n",
            "[CV 3/3] END learning_rate=0.1, max_depth=8, min_child_weight=1, n_estimators=2000, subsample=0.6;, score=0.908 total time=  30.4s\n",
            "[CV 1/3] END learning_rate=0.1, max_depth=8, min_child_weight=1, n_estimators=2000, subsample=0.8;, score=0.904 total time=  29.2s\n",
            "[CV 2/3] END learning_rate=0.1, max_depth=8, min_child_weight=1, n_estimators=2000, subsample=0.8;, score=0.914 total time=  29.7s\n",
            "[CV 3/3] END learning_rate=0.1, max_depth=8, min_child_weight=1, n_estimators=2000, subsample=0.8;, score=0.908 total time=  29.7s\n",
            "[CV 1/3] END learning_rate=0.1, max_depth=8, min_child_weight=1, n_estimators=2000, subsample=1.0;, score=0.904 total time=  27.6s\n",
            "[CV 2/3] END learning_rate=0.1, max_depth=8, min_child_weight=1, n_estimators=2000, subsample=1.0;, score=0.916 total time=  27.9s\n",
            "[CV 3/3] END learning_rate=0.1, max_depth=8, min_child_weight=1, n_estimators=2000, subsample=1.0;, score=0.909 total time=  27.6s\n",
            "[CV 1/3] END learning_rate=0.1, max_depth=8, min_child_weight=5, n_estimators=500, subsample=0.6;, score=0.910 total time=   8.0s\n",
            "[CV 2/3] END learning_rate=0.1, max_depth=8, min_child_weight=5, n_estimators=500, subsample=0.6;, score=0.916 total time=   8.1s\n",
            "[CV 3/3] END learning_rate=0.1, max_depth=8, min_child_weight=5, n_estimators=500, subsample=0.6;, score=0.911 total time=   8.1s\n",
            "[CV 1/3] END learning_rate=0.1, max_depth=8, min_child_weight=5, n_estimators=500, subsample=0.8;, score=0.911 total time=   7.8s\n",
            "[CV 2/3] END learning_rate=0.1, max_depth=8, min_child_weight=5, n_estimators=500, subsample=0.8;, score=0.919 total time=   7.9s\n",
            "[CV 3/3] END learning_rate=0.1, max_depth=8, min_child_weight=5, n_estimators=500, subsample=0.8;, score=0.913 total time=   7.9s\n",
            "[CV 1/3] END learning_rate=0.1, max_depth=8, min_child_weight=5, n_estimators=500, subsample=1.0;, score=0.909 total time=   6.9s\n",
            "[CV 2/3] END learning_rate=0.1, max_depth=8, min_child_weight=5, n_estimators=500, subsample=1.0;, score=0.921 total time=   6.9s\n",
            "[CV 3/3] END learning_rate=0.1, max_depth=8, min_child_weight=5, n_estimators=500, subsample=1.0;, score=0.915 total time=   7.0s\n",
            "[CV 1/3] END learning_rate=0.1, max_depth=8, min_child_weight=5, n_estimators=1000, subsample=0.6;, score=0.904 total time=  15.1s\n",
            "[CV 2/3] END learning_rate=0.1, max_depth=8, min_child_weight=5, n_estimators=1000, subsample=0.6;, score=0.912 total time=  15.3s\n",
            "[CV 3/3] END learning_rate=0.1, max_depth=8, min_child_weight=5, n_estimators=1000, subsample=0.6;, score=0.909 total time=  15.3s\n",
            "[CV 1/3] END learning_rate=0.1, max_depth=8, min_child_weight=5, n_estimators=1000, subsample=0.8;, score=0.905 total time=  15.0s\n",
            "[CV 2/3] END learning_rate=0.1, max_depth=8, min_child_weight=5, n_estimators=1000, subsample=0.8;, score=0.916 total time=  15.2s\n",
            "[CV 3/3] END learning_rate=0.1, max_depth=8, min_child_weight=5, n_estimators=1000, subsample=0.8;, score=0.908 total time=  15.1s\n",
            "[CV 1/3] END learning_rate=0.1, max_depth=8, min_child_weight=5, n_estimators=1000, subsample=1.0;, score=0.903 total time=  13.7s\n",
            "[CV 2/3] END learning_rate=0.1, max_depth=8, min_child_weight=5, n_estimators=1000, subsample=1.0;, score=0.917 total time=  13.7s\n",
            "[CV 3/3] END learning_rate=0.1, max_depth=8, min_child_weight=5, n_estimators=1000, subsample=1.0;, score=0.910 total time=  13.7s\n",
            "[CV 1/3] END learning_rate=0.1, max_depth=8, min_child_weight=5, n_estimators=1500, subsample=0.6;, score=0.902 total time=  21.5s\n",
            "[CV 2/3] END learning_rate=0.1, max_depth=8, min_child_weight=5, n_estimators=1500, subsample=0.6;, score=0.909 total time=  21.8s\n",
            "[CV 3/3] END learning_rate=0.1, max_depth=8, min_child_weight=5, n_estimators=1500, subsample=0.6;, score=0.908 total time=  21.8s\n",
            "[CV 1/3] END learning_rate=0.1, max_depth=8, min_child_weight=5, n_estimators=1500, subsample=0.8;, score=0.902 total time=  21.4s\n",
            "[CV 2/3] END learning_rate=0.1, max_depth=8, min_child_weight=5, n_estimators=1500, subsample=0.8;, score=0.913 total time=  21.8s\n",
            "[CV 3/3] END learning_rate=0.1, max_depth=8, min_child_weight=5, n_estimators=1500, subsample=0.8;, score=0.906 total time=  21.7s\n",
            "[CV 1/3] END learning_rate=0.1, max_depth=8, min_child_weight=5, n_estimators=1500, subsample=1.0;, score=0.901 total time=  20.3s\n",
            "[CV 2/3] END learning_rate=0.1, max_depth=8, min_child_weight=5, n_estimators=1500, subsample=1.0;, score=0.914 total time=  20.3s\n",
            "[CV 3/3] END learning_rate=0.1, max_depth=8, min_child_weight=5, n_estimators=1500, subsample=1.0;, score=0.907 total time=  20.2s\n",
            "[CV 1/3] END learning_rate=0.1, max_depth=8, min_child_weight=5, n_estimators=2000, subsample=0.6;, score=0.900 total time=  27.3s\n",
            "[CV 2/3] END learning_rate=0.1, max_depth=8, min_child_weight=5, n_estimators=2000, subsample=0.6;, score=0.908 total time=  27.8s\n",
            "[CV 3/3] END learning_rate=0.1, max_depth=8, min_child_weight=5, n_estimators=2000, subsample=0.6;, score=0.906 total time=  27.8s\n",
            "[CV 1/3] END learning_rate=0.1, max_depth=8, min_child_weight=5, n_estimators=2000, subsample=0.8;, score=0.900 total time=  27.1s\n",
            "[CV 2/3] END learning_rate=0.1, max_depth=8, min_child_weight=5, n_estimators=2000, subsample=0.8;, score=0.913 total time=  27.7s\n",
            "[CV 3/3] END learning_rate=0.1, max_depth=8, min_child_weight=5, n_estimators=2000, subsample=0.8;, score=0.906 total time=  27.7s\n",
            "[CV 1/3] END learning_rate=0.1, max_depth=8, min_child_weight=5, n_estimators=2000, subsample=1.0;, score=0.899 total time=  26.6s\n",
            "[CV 2/3] END learning_rate=0.1, max_depth=8, min_child_weight=5, n_estimators=2000, subsample=1.0;, score=0.913 total time=  26.7s\n",
            "[CV 3/3] END learning_rate=0.1, max_depth=8, min_child_weight=5, n_estimators=2000, subsample=1.0;, score=0.906 total time=  26.7s\n",
            "[CV 1/3] END learning_rate=0.1, max_depth=8, min_child_weight=10, n_estimators=500, subsample=0.6;, score=0.913 total time=   7.3s\n",
            "[CV 2/3] END learning_rate=0.1, max_depth=8, min_child_weight=10, n_estimators=500, subsample=0.6;, score=0.919 total time=   7.3s\n",
            "[CV 3/3] END learning_rate=0.1, max_depth=8, min_child_weight=10, n_estimators=500, subsample=0.6;, score=0.918 total time=   7.3s\n",
            "[CV 1/3] END learning_rate=0.1, max_depth=8, min_child_weight=10, n_estimators=500, subsample=0.8;, score=0.913 total time=   7.4s\n",
            "[CV 2/3] END learning_rate=0.1, max_depth=8, min_child_weight=10, n_estimators=500, subsample=0.8;, score=0.919 total time=   7.5s\n",
            "[CV 3/3] END learning_rate=0.1, max_depth=8, min_child_weight=10, n_estimators=500, subsample=0.8;, score=0.915 total time=   7.4s\n",
            "[CV 1/3] END learning_rate=0.1, max_depth=8, min_child_weight=10, n_estimators=500, subsample=1.0;, score=0.913 total time=   6.8s\n",
            "[CV 2/3] END learning_rate=0.1, max_depth=8, min_child_weight=10, n_estimators=500, subsample=1.0;, score=0.919 total time=   6.8s\n",
            "[CV 3/3] END learning_rate=0.1, max_depth=8, min_child_weight=10, n_estimators=500, subsample=1.0;, score=0.917 total time=   6.8s\n",
            "[CV 1/3] END learning_rate=0.1, max_depth=8, min_child_weight=10, n_estimators=1000, subsample=0.6;, score=0.907 total time=  13.8s\n",
            "[CV 2/3] END learning_rate=0.1, max_depth=8, min_child_weight=10, n_estimators=1000, subsample=0.6;, score=0.913 total time=  14.0s\n",
            "[CV 3/3] END learning_rate=0.1, max_depth=8, min_child_weight=10, n_estimators=1000, subsample=0.6;, score=0.913 total time=  14.0s\n",
            "[CV 1/3] END learning_rate=0.1, max_depth=8, min_child_weight=10, n_estimators=1000, subsample=0.8;, score=0.907 total time=  14.2s\n",
            "[CV 2/3] END learning_rate=0.1, max_depth=8, min_child_weight=10, n_estimators=1000, subsample=0.8;, score=0.912 total time=  14.4s\n",
            "[CV 3/3] END learning_rate=0.1, max_depth=8, min_child_weight=10, n_estimators=1000, subsample=0.8;, score=0.910 total time=  14.2s\n",
            "[CV 1/3] END learning_rate=0.1, max_depth=8, min_child_weight=10, n_estimators=1000, subsample=1.0;, score=0.906 total time=  13.4s\n",
            "[CV 2/3] END learning_rate=0.1, max_depth=8, min_child_weight=10, n_estimators=1000, subsample=1.0;, score=0.913 total time=  13.5s\n",
            "[CV 3/3] END learning_rate=0.1, max_depth=8, min_child_weight=10, n_estimators=1000, subsample=1.0;, score=0.910 total time=  13.4s\n",
            "[CV 1/3] END learning_rate=0.1, max_depth=8, min_child_weight=10, n_estimators=1500, subsample=0.6;, score=0.905 total time=  19.8s\n",
            "[CV 2/3] END learning_rate=0.1, max_depth=8, min_child_weight=10, n_estimators=1500, subsample=0.6;, score=0.911 total time=  20.1s\n",
            "[CV 3/3] END learning_rate=0.1, max_depth=8, min_child_weight=10, n_estimators=1500, subsample=0.6;, score=0.909 total time=  19.9s\n",
            "[CV 1/3] END learning_rate=0.1, max_depth=8, min_child_weight=10, n_estimators=1500, subsample=0.8;, score=0.904 total time=  20.1s\n",
            "[CV 2/3] END learning_rate=0.1, max_depth=8, min_child_weight=10, n_estimators=1500, subsample=0.8;, score=0.910 total time=  20.6s\n",
            "[CV 3/3] END learning_rate=0.1, max_depth=8, min_child_weight=10, n_estimators=1500, subsample=0.8;, score=0.907 total time=  20.4s\n",
            "[CV 1/3] END learning_rate=0.1, max_depth=8, min_child_weight=10, n_estimators=1500, subsample=1.0;, score=0.902 total time=  19.8s\n",
            "[CV 2/3] END learning_rate=0.1, max_depth=8, min_child_weight=10, n_estimators=1500, subsample=1.0;, score=0.910 total time=  20.0s\n",
            "[CV 3/3] END learning_rate=0.1, max_depth=8, min_child_weight=10, n_estimators=1500, subsample=1.0;, score=0.907 total time=  19.9s\n",
            "[CV 1/3] END learning_rate=0.1, max_depth=8, min_child_weight=10, n_estimators=2000, subsample=0.6;, score=0.903 total time=  25.3s\n",
            "[CV 2/3] END learning_rate=0.1, max_depth=8, min_child_weight=10, n_estimators=2000, subsample=0.6;, score=0.910 total time=  25.7s\n",
            "[CV 3/3] END learning_rate=0.1, max_depth=8, min_child_weight=10, n_estimators=2000, subsample=0.6;, score=0.906 total time=  25.6s\n",
            "[CV 1/3] END learning_rate=0.1, max_depth=8, min_child_weight=10, n_estimators=2000, subsample=0.8;, score=0.901 total time=  25.8s\n",
            "[CV 2/3] END learning_rate=0.1, max_depth=8, min_child_weight=10, n_estimators=2000, subsample=0.8;, score=0.909 total time=  26.4s\n",
            "[CV 3/3] END learning_rate=0.1, max_depth=8, min_child_weight=10, n_estimators=2000, subsample=0.8;, score=0.906 total time=  26.3s\n",
            "[CV 1/3] END learning_rate=0.1, max_depth=8, min_child_weight=10, n_estimators=2000, subsample=1.0;, score=0.900 total time=  26.0s\n",
            "[CV 2/3] END learning_rate=0.1, max_depth=8, min_child_weight=10, n_estimators=2000, subsample=1.0;, score=0.909 total time=  26.2s\n",
            "[CV 3/3] END learning_rate=0.1, max_depth=8, min_child_weight=10, n_estimators=2000, subsample=1.0;, score=0.906 total time=  26.0s\n",
            "[CV 1/3] END learning_rate=0.1, max_depth=12, min_child_weight=1, n_estimators=500, subsample=0.6;, score=0.910 total time=  11.0s\n",
            "[CV 2/3] END learning_rate=0.1, max_depth=12, min_child_weight=1, n_estimators=500, subsample=0.6;, score=0.918 total time=  11.0s\n",
            "[CV 3/3] END learning_rate=0.1, max_depth=12, min_child_weight=1, n_estimators=500, subsample=0.6;, score=0.912 total time=  11.0s\n",
            "[CV 1/3] END learning_rate=0.1, max_depth=12, min_child_weight=1, n_estimators=500, subsample=0.8;, score=0.910 total time=  11.0s\n",
            "[CV 2/3] END learning_rate=0.1, max_depth=12, min_child_weight=1, n_estimators=500, subsample=0.8;, score=0.921 total time=  11.2s\n",
            "[CV 3/3] END learning_rate=0.1, max_depth=12, min_child_weight=1, n_estimators=500, subsample=0.8;, score=0.912 total time=  11.1s\n",
            "[CV 1/3] END learning_rate=0.1, max_depth=12, min_child_weight=1, n_estimators=500, subsample=1.0;, score=0.912 total time=  10.7s\n",
            "[CV 2/3] END learning_rate=0.1, max_depth=12, min_child_weight=1, n_estimators=500, subsample=1.0;, score=0.922 total time=  10.9s\n",
            "[CV 3/3] END learning_rate=0.1, max_depth=12, min_child_weight=1, n_estimators=500, subsample=1.0;, score=0.914 total time=  10.8s\n",
            "[CV 1/3] END learning_rate=0.1, max_depth=12, min_child_weight=1, n_estimators=1000, subsample=0.6;, score=0.907 total time=  19.0s\n",
            "[CV 2/3] END learning_rate=0.1, max_depth=12, min_child_weight=1, n_estimators=1000, subsample=0.6;, score=0.916 total time=  19.2s\n",
            "[CV 3/3] END learning_rate=0.1, max_depth=12, min_child_weight=1, n_estimators=1000, subsample=0.6;, score=0.910 total time=  19.2s\n",
            "[CV 1/3] END learning_rate=0.1, max_depth=12, min_child_weight=1, n_estimators=1000, subsample=0.8;, score=0.907 total time=  18.9s\n",
            "[CV 2/3] END learning_rate=0.1, max_depth=12, min_child_weight=1, n_estimators=1000, subsample=0.8;, score=0.919 total time=  19.3s\n",
            "[CV 3/3] END learning_rate=0.1, max_depth=12, min_child_weight=1, n_estimators=1000, subsample=0.8;, score=0.910 total time=  19.3s\n",
            "[CV 1/3] END learning_rate=0.1, max_depth=12, min_child_weight=1, n_estimators=1000, subsample=1.0;, score=0.908 total time=  19.1s\n",
            "[CV 2/3] END learning_rate=0.1, max_depth=12, min_child_weight=1, n_estimators=1000, subsample=1.0;, score=0.919 total time=  19.7s\n",
            "[CV 3/3] END learning_rate=0.1, max_depth=12, min_child_weight=1, n_estimators=1000, subsample=1.0;, score=0.912 total time=  20.6s\n",
            "[CV 1/3] END learning_rate=0.1, max_depth=12, min_child_weight=1, n_estimators=1500, subsample=0.6;, score=0.905 total time=  25.8s\n",
            "[CV 2/3] END learning_rate=0.1, max_depth=12, min_child_weight=1, n_estimators=1500, subsample=0.6;, score=0.914 total time=  26.3s\n",
            "[CV 3/3] END learning_rate=0.1, max_depth=12, min_child_weight=1, n_estimators=1500, subsample=0.6;, score=0.909 total time=  26.2s\n",
            "[CV 1/3] END learning_rate=0.1, max_depth=12, min_child_weight=1, n_estimators=1500, subsample=0.8;, score=0.905 total time=  25.7s\n",
            "[CV 2/3] END learning_rate=0.1, max_depth=12, min_child_weight=1, n_estimators=1500, subsample=0.8;, score=0.917 total time=  26.4s\n",
            "[CV 3/3] END learning_rate=0.1, max_depth=12, min_child_weight=1, n_estimators=1500, subsample=0.8;, score=0.909 total time=  26.3s\n",
            "[CV 1/3] END learning_rate=0.1, max_depth=12, min_child_weight=1, n_estimators=1500, subsample=1.0;, score=0.907 total time=  26.5s\n",
            "[CV 2/3] END learning_rate=0.1, max_depth=12, min_child_weight=1, n_estimators=1500, subsample=1.0;, score=0.917 total time=  27.0s\n",
            "[CV 3/3] END learning_rate=0.1, max_depth=12, min_child_weight=1, n_estimators=1500, subsample=1.0;, score=0.911 total time=  26.8s\n",
            "[CV 1/3] END learning_rate=0.1, max_depth=12, min_child_weight=1, n_estimators=2000, subsample=0.6;, score=0.904 total time=  31.9s\n",
            "[CV 2/3] END learning_rate=0.1, max_depth=12, min_child_weight=1, n_estimators=2000, subsample=0.6;, score=0.913 total time=  32.7s\n",
            "[CV 3/3] END learning_rate=0.1, max_depth=12, min_child_weight=1, n_estimators=2000, subsample=0.6;, score=0.908 total time=  32.5s\n",
            "[CV 1/3] END learning_rate=0.1, max_depth=12, min_child_weight=1, n_estimators=2000, subsample=0.8;, score=0.904 total time=  31.8s\n",
            "[CV 2/3] END learning_rate=0.1, max_depth=12, min_child_weight=1, n_estimators=2000, subsample=0.8;, score=0.916 total time=  32.6s\n",
            "[CV 3/3] END learning_rate=0.1, max_depth=12, min_child_weight=1, n_estimators=2000, subsample=0.8;, score=0.909 total time=  32.5s\n",
            "[CV 1/3] END learning_rate=0.1, max_depth=12, min_child_weight=1, n_estimators=2000, subsample=1.0;, score=0.906 total time=  32.9s\n",
            "[CV 2/3] END learning_rate=0.1, max_depth=12, min_child_weight=1, n_estimators=2000, subsample=1.0;, score=0.916 total time=  33.6s\n",
            "[CV 3/3] END learning_rate=0.1, max_depth=12, min_child_weight=1, n_estimators=2000, subsample=1.0;, score=0.910 total time=  33.4s\n",
            "[CV 1/3] END learning_rate=0.1, max_depth=12, min_child_weight=5, n_estimators=500, subsample=0.6;, score=0.910 total time=   9.2s\n",
            "[CV 2/3] END learning_rate=0.1, max_depth=12, min_child_weight=5, n_estimators=500, subsample=0.6;, score=0.917 total time=   9.3s\n",
            "[CV 3/3] END learning_rate=0.1, max_depth=12, min_child_weight=5, n_estimators=500, subsample=0.6;, score=0.910 total time=   9.3s\n",
            "[CV 1/3] END learning_rate=0.1, max_depth=12, min_child_weight=5, n_estimators=500, subsample=0.8;, score=0.911 total time=   9.7s\n",
            "[CV 2/3] END learning_rate=0.1, max_depth=12, min_child_weight=5, n_estimators=500, subsample=0.8;, score=0.918 total time=  10.0s\n",
            "[CV 3/3] END learning_rate=0.1, max_depth=12, min_child_weight=5, n_estimators=500, subsample=0.8;, score=0.910 total time=   9.8s\n",
            "[CV 1/3] END learning_rate=0.1, max_depth=12, min_child_weight=5, n_estimators=500, subsample=1.0;, score=0.909 total time=   9.7s\n",
            "[CV 2/3] END learning_rate=0.1, max_depth=12, min_child_weight=5, n_estimators=500, subsample=1.0;, score=0.919 total time=  11.0s\n",
            "[CV 3/3] END learning_rate=0.1, max_depth=12, min_child_weight=5, n_estimators=500, subsample=1.0;, score=0.911 total time=   9.8s\n",
            "[CV 1/3] END learning_rate=0.1, max_depth=12, min_child_weight=5, n_estimators=1000, subsample=0.6;, score=0.906 total time=  16.4s\n",
            "[CV 2/3] END learning_rate=0.1, max_depth=12, min_child_weight=5, n_estimators=1000, subsample=0.6;, score=0.913 total time=  16.7s\n",
            "[CV 3/3] END learning_rate=0.1, max_depth=12, min_child_weight=5, n_estimators=1000, subsample=0.6;, score=0.908 total time=  16.7s\n",
            "[CV 1/3] END learning_rate=0.1, max_depth=12, min_child_weight=5, n_estimators=1000, subsample=0.8;, score=0.906 total time=  17.1s\n",
            "[CV 2/3] END learning_rate=0.1, max_depth=12, min_child_weight=5, n_estimators=1000, subsample=0.8;, score=0.915 total time=  17.9s\n",
            "[CV 3/3] END learning_rate=0.1, max_depth=12, min_child_weight=5, n_estimators=1000, subsample=0.8;, score=0.907 total time=  18.4s\n",
            "[CV 1/3] END learning_rate=0.1, max_depth=12, min_child_weight=5, n_estimators=1000, subsample=1.0;, score=0.905 total time=  20.0s\n",
            "[CV 2/3] END learning_rate=0.1, max_depth=12, min_child_weight=5, n_estimators=1000, subsample=1.0;, score=0.915 total time=  20.2s\n",
            "[CV 3/3] END learning_rate=0.1, max_depth=12, min_child_weight=5, n_estimators=1000, subsample=1.0;, score=0.908 total time=  19.5s\n",
            "[CV 1/3] END learning_rate=0.1, max_depth=12, min_child_weight=5, n_estimators=1500, subsample=0.6;, score=0.903 total time=  24.2s\n",
            "[CV 2/3] END learning_rate=0.1, max_depth=12, min_child_weight=5, n_estimators=1500, subsample=0.6;, score=0.911 total time=  24.2s\n",
            "[CV 3/3] END learning_rate=0.1, max_depth=12, min_child_weight=5, n_estimators=1500, subsample=0.6;, score=0.907 total time=  24.1s\n",
            "[CV 1/3] END learning_rate=0.1, max_depth=12, min_child_weight=5, n_estimators=1500, subsample=0.8;, score=0.904 total time=  24.1s\n",
            "[CV 2/3] END learning_rate=0.1, max_depth=12, min_child_weight=5, n_estimators=1500, subsample=0.8;, score=0.913 total time=  25.0s\n",
            "[CV 3/3] END learning_rate=0.1, max_depth=12, min_child_weight=5, n_estimators=1500, subsample=0.8;, score=0.906 total time=  24.4s\n",
            "[CV 1/3] END learning_rate=0.1, max_depth=12, min_child_weight=5, n_estimators=1500, subsample=1.0;, score=0.903 total time=  25.6s\n",
            "[CV 2/3] END learning_rate=0.1, max_depth=12, min_child_weight=5, n_estimators=1500, subsample=1.0;, score=0.913 total time=  26.9s\n",
            "[CV 3/3] END learning_rate=0.1, max_depth=12, min_child_weight=5, n_estimators=1500, subsample=1.0;, score=0.907 total time=  25.6s\n",
            "[CV 1/3] END learning_rate=0.1, max_depth=12, min_child_weight=5, n_estimators=2000, subsample=0.6;, score=0.902 total time=  29.7s\n",
            "[CV 2/3] END learning_rate=0.1, max_depth=12, min_child_weight=5, n_estimators=2000, subsample=0.6;, score=0.910 total time=  30.1s\n",
            "[CV 3/3] END learning_rate=0.1, max_depth=12, min_child_weight=5, n_estimators=2000, subsample=0.6;, score=0.905 total time=  29.9s\n",
            "[CV 1/3] END learning_rate=0.1, max_depth=12, min_child_weight=5, n_estimators=2000, subsample=0.8;, score=0.902 total time=  30.0s\n",
            "[CV 2/3] END learning_rate=0.1, max_depth=12, min_child_weight=5, n_estimators=2000, subsample=0.8;, score=0.913 total time=  30.8s\n",
            "[CV 3/3] END learning_rate=0.1, max_depth=12, min_child_weight=5, n_estimators=2000, subsample=0.8;, score=0.905 total time=  30.7s\n",
            "[CV 1/3] END learning_rate=0.1, max_depth=12, min_child_weight=5, n_estimators=2000, subsample=1.0;, score=0.901 total time=  32.0s\n",
            "[CV 2/3] END learning_rate=0.1, max_depth=12, min_child_weight=5, n_estimators=2000, subsample=1.0;, score=0.912 total time=  33.0s\n",
            "[CV 3/3] END learning_rate=0.1, max_depth=12, min_child_weight=5, n_estimators=2000, subsample=1.0;, score=0.906 total time=  32.2s\n",
            "[CV 1/3] END learning_rate=0.1, max_depth=12, min_child_weight=10, n_estimators=500, subsample=0.6;, score=0.912 total time=   7.8s\n",
            "[CV 2/3] END learning_rate=0.1, max_depth=12, min_child_weight=10, n_estimators=500, subsample=0.6;, score=0.918 total time=   7.8s\n",
            "[CV 3/3] END learning_rate=0.1, max_depth=12, min_child_weight=10, n_estimators=500, subsample=0.6;, score=0.919 total time=   7.8s\n",
            "[CV 1/3] END learning_rate=0.1, max_depth=12, min_child_weight=10, n_estimators=500, subsample=0.8;, score=0.913 total time=   8.5s\n",
            "[CV 2/3] END learning_rate=0.1, max_depth=12, min_child_weight=10, n_estimators=500, subsample=0.8;, score=0.918 total time=   8.8s\n",
            "[CV 3/3] END learning_rate=0.1, max_depth=12, min_child_weight=10, n_estimators=500, subsample=0.8;, score=0.915 total time=   8.6s\n",
            "[CV 1/3] END learning_rate=0.1, max_depth=12, min_child_weight=10, n_estimators=500, subsample=1.0;, score=0.912 total time=   9.2s\n",
            "[CV 2/3] END learning_rate=0.1, max_depth=12, min_child_weight=10, n_estimators=500, subsample=1.0;, score=0.917 total time=   9.4s\n",
            "[CV 3/3] END learning_rate=0.1, max_depth=12, min_child_weight=10, n_estimators=500, subsample=1.0;, score=0.915 total time=   9.2s\n",
            "[CV 1/3] END learning_rate=0.1, max_depth=12, min_child_weight=10, n_estimators=1000, subsample=0.6;, score=0.909 total time=  14.3s\n",
            "[CV 2/3] END learning_rate=0.1, max_depth=12, min_child_weight=10, n_estimators=1000, subsample=0.6;, score=0.914 total time=  14.6s\n",
            "[CV 3/3] END learning_rate=0.1, max_depth=12, min_child_weight=10, n_estimators=1000, subsample=0.6;, score=0.913 total time=  14.5s\n",
            "[CV 1/3] END learning_rate=0.1, max_depth=12, min_child_weight=10, n_estimators=1000, subsample=0.8;, score=0.908 total time=  15.5s\n",
            "[CV 2/3] END learning_rate=0.1, max_depth=12, min_child_weight=10, n_estimators=1000, subsample=0.8;, score=0.913 total time=  15.9s\n",
            "[CV 3/3] END learning_rate=0.1, max_depth=12, min_child_weight=10, n_estimators=1000, subsample=0.8;, score=0.910 total time=  15.7s\n",
            "[CV 1/3] END learning_rate=0.1, max_depth=12, min_child_weight=10, n_estimators=1000, subsample=1.0;, score=0.907 total time=  16.7s\n",
            "[CV 2/3] END learning_rate=0.1, max_depth=12, min_child_weight=10, n_estimators=1000, subsample=1.0;, score=0.912 total time=  17.4s\n",
            "[CV 3/3] END learning_rate=0.1, max_depth=12, min_child_weight=10, n_estimators=1000, subsample=1.0;, score=0.909 total time=  17.3s\n",
            "[CV 1/3] END learning_rate=0.1, max_depth=12, min_child_weight=10, n_estimators=1500, subsample=0.6;, score=0.906 total time=  20.9s\n",
            "[CV 2/3] END learning_rate=0.1, max_depth=12, min_child_weight=10, n_estimators=1500, subsample=0.6;, score=0.911 total time=  20.7s\n",
            "[CV 3/3] END learning_rate=0.1, max_depth=12, min_child_weight=10, n_estimators=1500, subsample=0.6;, score=0.910 total time=  20.6s\n",
            "[CV 1/3] END learning_rate=0.1, max_depth=12, min_child_weight=10, n_estimators=1500, subsample=0.8;, score=0.905 total time=  21.4s\n",
            "[CV 2/3] END learning_rate=0.1, max_depth=12, min_child_weight=10, n_estimators=1500, subsample=0.8;, score=0.911 total time=  22.2s\n",
            "[CV 3/3] END learning_rate=0.1, max_depth=12, min_child_weight=10, n_estimators=1500, subsample=0.8;, score=0.907 total time=  21.9s\n",
            "[CV 1/3] END learning_rate=0.1, max_depth=12, min_child_weight=10, n_estimators=1500, subsample=1.0;, score=0.904 total time=  23.3s\n",
            "[CV 2/3] END learning_rate=0.1, max_depth=12, min_child_weight=10, n_estimators=1500, subsample=1.0;, score=0.909 total time=  24.3s\n",
            "[CV 3/3] END learning_rate=0.1, max_depth=12, min_child_weight=10, n_estimators=1500, subsample=1.0;, score=0.907 total time=  23.8s\n",
            "[CV 1/3] END learning_rate=0.1, max_depth=12, min_child_weight=10, n_estimators=2000, subsample=0.6;, score=0.904 total time=  25.8s\n",
            "[CV 2/3] END learning_rate=0.1, max_depth=12, min_child_weight=10, n_estimators=2000, subsample=0.6;, score=0.910 total time=  26.3s\n",
            "[CV 3/3] END learning_rate=0.1, max_depth=12, min_child_weight=10, n_estimators=2000, subsample=0.6;, score=0.908 total time=  26.3s\n",
            "[CV 1/3] END learning_rate=0.1, max_depth=12, min_child_weight=10, n_estimators=2000, subsample=0.8;, score=0.902 total time=  27.0s\n",
            "[CV 2/3] END learning_rate=0.1, max_depth=12, min_child_weight=10, n_estimators=2000, subsample=0.8;, score=0.910 total time=  28.0s\n",
            "[CV 3/3] END learning_rate=0.1, max_depth=12, min_child_weight=10, n_estimators=2000, subsample=0.8;, score=0.906 total time=  27.6s\n",
            "[CV 1/3] END learning_rate=0.1, max_depth=12, min_child_weight=10, n_estimators=2000, subsample=1.0;, score=0.902 total time=  29.2s\n",
            "[CV 2/3] END learning_rate=0.1, max_depth=12, min_child_weight=10, n_estimators=2000, subsample=1.0;, score=0.908 total time=  30.3s\n",
            "[CV 3/3] END learning_rate=0.1, max_depth=12, min_child_weight=10, n_estimators=2000, subsample=1.0;, score=0.906 total time=  30.2s\n",
            "[CV 1/3] END learning_rate=0.2, max_depth=3, min_child_weight=1, n_estimators=500, subsample=0.6;, score=0.908 total time=   3.7s\n",
            "[CV 2/3] END learning_rate=0.2, max_depth=3, min_child_weight=1, n_estimators=500, subsample=0.6;, score=0.919 total time=   3.7s\n",
            "[CV 3/3] END learning_rate=0.2, max_depth=3, min_child_weight=1, n_estimators=500, subsample=0.6;, score=0.912 total time=   3.7s\n",
            "[CV 1/3] END learning_rate=0.2, max_depth=3, min_child_weight=1, n_estimators=500, subsample=0.8;, score=0.911 total time=   3.3s\n",
            "[CV 2/3] END learning_rate=0.2, max_depth=3, min_child_weight=1, n_estimators=500, subsample=0.8;, score=0.919 total time=   3.3s\n",
            "[CV 3/3] END learning_rate=0.2, max_depth=3, min_child_weight=1, n_estimators=500, subsample=0.8;, score=0.914 total time=   3.3s\n",
            "[CV 1/3] END learning_rate=0.2, max_depth=3, min_child_weight=1, n_estimators=500, subsample=1.0;, score=0.914 total time=   2.8s\n",
            "[CV 2/3] END learning_rate=0.2, max_depth=3, min_child_weight=1, n_estimators=500, subsample=1.0;, score=0.923 total time=   2.9s\n",
            "[CV 3/3] END learning_rate=0.2, max_depth=3, min_child_weight=1, n_estimators=500, subsample=1.0;, score=0.921 total time=   2.9s\n",
            "[CV 1/3] END learning_rate=0.2, max_depth=3, min_child_weight=1, n_estimators=1000, subsample=0.6;, score=0.902 total time=   7.3s\n",
            "[CV 2/3] END learning_rate=0.2, max_depth=3, min_child_weight=1, n_estimators=1000, subsample=0.6;, score=0.912 total time=   7.3s\n",
            "[CV 3/3] END learning_rate=0.2, max_depth=3, min_child_weight=1, n_estimators=1000, subsample=0.6;, score=0.908 total time=   7.3s\n",
            "[CV 1/3] END learning_rate=0.2, max_depth=3, min_child_weight=1, n_estimators=1000, subsample=0.8;, score=0.904 total time=   6.6s\n",
            "[CV 2/3] END learning_rate=0.2, max_depth=3, min_child_weight=1, n_estimators=1000, subsample=0.8;, score=0.914 total time=   6.5s\n",
            "[CV 3/3] END learning_rate=0.2, max_depth=3, min_child_weight=1, n_estimators=1000, subsample=0.8;, score=0.908 total time=   6.5s\n",
            "[CV 1/3] END learning_rate=0.2, max_depth=3, min_child_weight=1, n_estimators=1000, subsample=1.0;, score=0.905 total time=   5.6s\n",
            "[CV 2/3] END learning_rate=0.2, max_depth=3, min_child_weight=1, n_estimators=1000, subsample=1.0;, score=0.916 total time=   5.6s\n",
            "[CV 3/3] END learning_rate=0.2, max_depth=3, min_child_weight=1, n_estimators=1000, subsample=1.0;, score=0.914 total time=   5.6s\n",
            "[CV 1/3] END learning_rate=0.2, max_depth=3, min_child_weight=1, n_estimators=1500, subsample=0.6;, score=0.898 total time=  10.9s\n",
            "[CV 2/3] END learning_rate=0.2, max_depth=3, min_child_weight=1, n_estimators=1500, subsample=0.6;, score=0.909 total time=  11.0s\n",
            "[CV 3/3] END learning_rate=0.2, max_depth=3, min_child_weight=1, n_estimators=1500, subsample=0.6;, score=0.902 total time=  11.0s\n",
            "[CV 1/3] END learning_rate=0.2, max_depth=3, min_child_weight=1, n_estimators=1500, subsample=0.8;, score=0.900 total time=   9.8s\n",
            "[CV 2/3] END learning_rate=0.2, max_depth=3, min_child_weight=1, n_estimators=1500, subsample=0.8;, score=0.911 total time=   9.8s\n",
            "[CV 3/3] END learning_rate=0.2, max_depth=3, min_child_weight=1, n_estimators=1500, subsample=0.8;, score=0.905 total time=   9.8s\n",
            "[CV 1/3] END learning_rate=0.2, max_depth=3, min_child_weight=1, n_estimators=1500, subsample=1.0;, score=0.902 total time=   8.7s\n",
            "[CV 2/3] END learning_rate=0.2, max_depth=3, min_child_weight=1, n_estimators=1500, subsample=1.0;, score=0.912 total time=   9.4s\n",
            "[CV 3/3] END learning_rate=0.2, max_depth=3, min_child_weight=1, n_estimators=1500, subsample=1.0;, score=0.910 total time=   8.4s\n",
            "[CV 1/3] END learning_rate=0.2, max_depth=3, min_child_weight=1, n_estimators=2000, subsample=0.6;, score=0.896 total time=  14.6s\n",
            "[CV 2/3] END learning_rate=0.2, max_depth=3, min_child_weight=1, n_estimators=2000, subsample=0.6;, score=0.909 total time=  14.6s\n",
            "[CV 3/3] END learning_rate=0.2, max_depth=3, min_child_weight=1, n_estimators=2000, subsample=0.6;, score=0.901 total time=  14.6s\n",
            "[CV 1/3] END learning_rate=0.2, max_depth=3, min_child_weight=1, n_estimators=2000, subsample=0.8;, score=0.898 total time=  13.1s\n",
            "[CV 2/3] END learning_rate=0.2, max_depth=3, min_child_weight=1, n_estimators=2000, subsample=0.8;, score=0.909 total time=  13.1s\n",
            "[CV 3/3] END learning_rate=0.2, max_depth=3, min_child_weight=1, n_estimators=2000, subsample=0.8;, score=0.902 total time=  13.1s\n",
            "[CV 1/3] END learning_rate=0.2, max_depth=3, min_child_weight=1, n_estimators=2000, subsample=1.0;, score=0.901 total time=  11.3s\n",
            "[CV 2/3] END learning_rate=0.2, max_depth=3, min_child_weight=1, n_estimators=2000, subsample=1.0;, score=0.909 total time=  11.3s\n",
            "[CV 3/3] END learning_rate=0.2, max_depth=3, min_child_weight=1, n_estimators=2000, subsample=1.0;, score=0.908 total time=  11.2s\n",
            "[CV 1/3] END learning_rate=0.2, max_depth=3, min_child_weight=5, n_estimators=500, subsample=0.6;, score=0.911 total time=   3.6s\n",
            "[CV 2/3] END learning_rate=0.2, max_depth=3, min_child_weight=5, n_estimators=500, subsample=0.6;, score=0.917 total time=   3.6s\n",
            "[CV 3/3] END learning_rate=0.2, max_depth=3, min_child_weight=5, n_estimators=500, subsample=0.6;, score=0.915 total time=   3.6s\n",
            "[CV 1/3] END learning_rate=0.2, max_depth=3, min_child_weight=5, n_estimators=500, subsample=0.8;, score=0.914 total time=   3.2s\n",
            "[CV 2/3] END learning_rate=0.2, max_depth=3, min_child_weight=5, n_estimators=500, subsample=0.8;, score=0.919 total time=   3.3s\n",
            "[CV 3/3] END learning_rate=0.2, max_depth=3, min_child_weight=5, n_estimators=500, subsample=0.8;, score=0.917 total time=   3.3s\n",
            "[CV 1/3] END learning_rate=0.2, max_depth=3, min_child_weight=5, n_estimators=500, subsample=1.0;, score=0.915 total time=   2.8s\n",
            "[CV 2/3] END learning_rate=0.2, max_depth=3, min_child_weight=5, n_estimators=500, subsample=1.0;, score=0.924 total time=   2.8s\n",
            "[CV 3/3] END learning_rate=0.2, max_depth=3, min_child_weight=5, n_estimators=500, subsample=1.0;, score=0.916 total time=   2.8s\n",
            "[CV 1/3] END learning_rate=0.2, max_depth=3, min_child_weight=5, n_estimators=1000, subsample=0.6;, score=0.903 total time=   7.2s\n",
            "[CV 2/3] END learning_rate=0.2, max_depth=3, min_child_weight=5, n_estimators=1000, subsample=0.6;, score=0.912 total time=   7.2s\n",
            "[CV 3/3] END learning_rate=0.2, max_depth=3, min_child_weight=5, n_estimators=1000, subsample=0.6;, score=0.908 total time=   7.2s\n",
            "[CV 1/3] END learning_rate=0.2, max_depth=3, min_child_weight=5, n_estimators=1000, subsample=0.8;, score=0.905 total time=   6.4s\n",
            "[CV 2/3] END learning_rate=0.2, max_depth=3, min_child_weight=5, n_estimators=1000, subsample=0.8;, score=0.914 total time=   6.5s\n",
            "[CV 3/3] END learning_rate=0.2, max_depth=3, min_child_weight=5, n_estimators=1000, subsample=0.8;, score=0.907 total time=   6.5s\n",
            "[CV 1/3] END learning_rate=0.2, max_depth=3, min_child_weight=5, n_estimators=1000, subsample=1.0;, score=0.907 total time=   5.6s\n",
            "[CV 2/3] END learning_rate=0.2, max_depth=3, min_child_weight=5, n_estimators=1000, subsample=1.0;, score=0.918 total time=   5.5s\n",
            "[CV 3/3] END learning_rate=0.2, max_depth=3, min_child_weight=5, n_estimators=1000, subsample=1.0;, score=0.907 total time=   5.6s\n",
            "[CV 1/3] END learning_rate=0.2, max_depth=3, min_child_weight=5, n_estimators=1500, subsample=0.6;, score=0.899 total time=  10.8s\n",
            "[CV 2/3] END learning_rate=0.2, max_depth=3, min_child_weight=5, n_estimators=1500, subsample=0.6;, score=0.909 total time=  10.8s\n",
            "[CV 3/3] END learning_rate=0.2, max_depth=3, min_child_weight=5, n_estimators=1500, subsample=0.6;, score=0.903 total time=  10.8s\n",
            "[CV 1/3] END learning_rate=0.2, max_depth=3, min_child_weight=5, n_estimators=1500, subsample=0.8;, score=0.902 total time=   9.7s\n",
            "[CV 2/3] END learning_rate=0.2, max_depth=3, min_child_weight=5, n_estimators=1500, subsample=0.8;, score=0.911 total time=   9.7s\n",
            "[CV 3/3] END learning_rate=0.2, max_depth=3, min_child_weight=5, n_estimators=1500, subsample=0.8;, score=0.903 total time=   9.8s\n",
            "[CV 1/3] END learning_rate=0.2, max_depth=3, min_child_weight=5, n_estimators=1500, subsample=1.0;, score=0.903 total time=   8.4s\n",
            "[CV 2/3] END learning_rate=0.2, max_depth=3, min_child_weight=5, n_estimators=1500, subsample=1.0;, score=0.913 total time=   8.4s\n",
            "[CV 3/3] END learning_rate=0.2, max_depth=3, min_child_weight=5, n_estimators=1500, subsample=1.0;, score=0.903 total time=   8.3s\n",
            "[CV 1/3] END learning_rate=0.2, max_depth=3, min_child_weight=5, n_estimators=2000, subsample=0.6;, score=0.897 total time=  14.3s\n",
            "[CV 2/3] END learning_rate=0.2, max_depth=3, min_child_weight=5, n_estimators=2000, subsample=0.6;, score=0.907 total time=  14.4s\n",
            "[CV 3/3] END learning_rate=0.2, max_depth=3, min_child_weight=5, n_estimators=2000, subsample=0.6;, score=0.902 total time=  14.4s\n",
            "[CV 1/3] END learning_rate=0.2, max_depth=3, min_child_weight=5, n_estimators=2000, subsample=0.8;, score=0.900 total time=  13.0s\n",
            "[CV 2/3] END learning_rate=0.2, max_depth=3, min_child_weight=5, n_estimators=2000, subsample=0.8;, score=0.909 total time=  12.9s\n",
            "[CV 3/3] END learning_rate=0.2, max_depth=3, min_child_weight=5, n_estimators=2000, subsample=0.8;, score=0.901 total time=  12.9s\n",
            "[CV 1/3] END learning_rate=0.2, max_depth=3, min_child_weight=5, n_estimators=2000, subsample=1.0;, score=0.900 total time=  11.1s\n",
            "[CV 2/3] END learning_rate=0.2, max_depth=3, min_child_weight=5, n_estimators=2000, subsample=1.0;, score=0.911 total time=  11.1s\n",
            "[CV 3/3] END learning_rate=0.2, max_depth=3, min_child_weight=5, n_estimators=2000, subsample=1.0;, score=0.900 total time=  11.2s\n",
            "[CV 1/3] END learning_rate=0.2, max_depth=3, min_child_weight=10, n_estimators=500, subsample=0.6;, score=0.913 total time=   3.6s\n",
            "[CV 2/3] END learning_rate=0.2, max_depth=3, min_child_weight=10, n_estimators=500, subsample=0.6;, score=0.917 total time=   3.6s\n",
            "[CV 3/3] END learning_rate=0.2, max_depth=3, min_child_weight=10, n_estimators=500, subsample=0.6;, score=0.923 total time=   3.6s\n",
            "[CV 1/3] END learning_rate=0.2, max_depth=3, min_child_weight=10, n_estimators=500, subsample=0.8;, score=0.917 total time=   3.3s\n",
            "[CV 2/3] END learning_rate=0.2, max_depth=3, min_child_weight=10, n_estimators=500, subsample=0.8;, score=0.922 total time=   3.2s\n",
            "[CV 3/3] END learning_rate=0.2, max_depth=3, min_child_weight=10, n_estimators=500, subsample=0.8;, score=0.919 total time=   3.3s\n",
            "[CV 1/3] END learning_rate=0.2, max_depth=3, min_child_weight=10, n_estimators=500, subsample=1.0;, score=0.915 total time=   2.8s\n",
            "[CV 2/3] END learning_rate=0.2, max_depth=3, min_child_weight=10, n_estimators=500, subsample=1.0;, score=0.922 total time=   2.8s\n",
            "[CV 3/3] END learning_rate=0.2, max_depth=3, min_child_weight=10, n_estimators=500, subsample=1.0;, score=0.921 total time=   2.8s\n",
            "[CV 1/3] END learning_rate=0.2, max_depth=3, min_child_weight=10, n_estimators=1000, subsample=0.6;, score=0.906 total time=   7.2s\n",
            "[CV 2/3] END learning_rate=0.2, max_depth=3, min_child_weight=10, n_estimators=1000, subsample=0.6;, score=0.911 total time=   7.2s\n",
            "[CV 3/3] END learning_rate=0.2, max_depth=3, min_child_weight=10, n_estimators=1000, subsample=0.6;, score=0.913 total time=   7.2s\n",
            "[CV 1/3] END learning_rate=0.2, max_depth=3, min_child_weight=10, n_estimators=1000, subsample=0.8;, score=0.909 total time=   6.5s\n",
            "[CV 2/3] END learning_rate=0.2, max_depth=3, min_child_weight=10, n_estimators=1000, subsample=0.8;, score=0.913 total time=   6.5s\n",
            "[CV 3/3] END learning_rate=0.2, max_depth=3, min_child_weight=10, n_estimators=1000, subsample=0.8;, score=0.912 total time=   6.5s\n",
            "[CV 1/3] END learning_rate=0.2, max_depth=3, min_child_weight=10, n_estimators=1000, subsample=1.0;, score=0.908 total time=   5.6s\n",
            "[CV 2/3] END learning_rate=0.2, max_depth=3, min_child_weight=10, n_estimators=1000, subsample=1.0;, score=0.915 total time=   5.5s\n",
            "[CV 3/3] END learning_rate=0.2, max_depth=3, min_child_weight=10, n_estimators=1000, subsample=1.0;, score=0.913 total time=   5.5s\n",
            "[CV 1/3] END learning_rate=0.2, max_depth=3, min_child_weight=10, n_estimators=1500, subsample=0.6;, score=0.903 total time=  10.8s\n",
            "[CV 2/3] END learning_rate=0.2, max_depth=3, min_child_weight=10, n_estimators=1500, subsample=0.6;, score=0.907 total time=  10.8s\n",
            "[CV 3/3] END learning_rate=0.2, max_depth=3, min_child_weight=10, n_estimators=1500, subsample=0.6;, score=0.908 total time=  10.8s\n",
            "[CV 1/3] END learning_rate=0.2, max_depth=3, min_child_weight=10, n_estimators=1500, subsample=0.8;, score=0.906 total time=   9.7s\n",
            "[CV 2/3] END learning_rate=0.2, max_depth=3, min_child_weight=10, n_estimators=1500, subsample=0.8;, score=0.910 total time=   9.7s\n",
            "[CV 3/3] END learning_rate=0.2, max_depth=3, min_child_weight=10, n_estimators=1500, subsample=0.8;, score=0.908 total time=   9.7s\n",
            "[CV 1/3] END learning_rate=0.2, max_depth=3, min_child_weight=10, n_estimators=1500, subsample=1.0;, score=0.905 total time=   8.3s\n",
            "[CV 2/3] END learning_rate=0.2, max_depth=3, min_child_weight=10, n_estimators=1500, subsample=1.0;, score=0.912 total time=   8.3s\n",
            "[CV 3/3] END learning_rate=0.2, max_depth=3, min_child_weight=10, n_estimators=1500, subsample=1.0;, score=0.909 total time=   8.3s\n",
            "[CV 1/3] END learning_rate=0.2, max_depth=3, min_child_weight=10, n_estimators=2000, subsample=0.6;, score=0.902 total time=  14.3s\n",
            "[CV 2/3] END learning_rate=0.2, max_depth=3, min_child_weight=10, n_estimators=2000, subsample=0.6;, score=0.905 total time=  14.3s\n",
            "[CV 3/3] END learning_rate=0.2, max_depth=3, min_child_weight=10, n_estimators=2000, subsample=0.6;, score=0.907 total time=  14.3s\n",
            "[CV 1/3] END learning_rate=0.2, max_depth=3, min_child_weight=10, n_estimators=2000, subsample=0.8;, score=0.903 total time=  12.9s\n",
            "[CV 2/3] END learning_rate=0.2, max_depth=3, min_child_weight=10, n_estimators=2000, subsample=0.8;, score=0.907 total time=  12.9s\n",
            "[CV 3/3] END learning_rate=0.2, max_depth=3, min_child_weight=10, n_estimators=2000, subsample=0.8;, score=0.906 total time=  12.9s\n",
            "[CV 1/3] END learning_rate=0.2, max_depth=3, min_child_weight=10, n_estimators=2000, subsample=1.0;, score=0.902 total time=  11.0s\n",
            "[CV 2/3] END learning_rate=0.2, max_depth=3, min_child_weight=10, n_estimators=2000, subsample=1.0;, score=0.909 total time=  11.0s\n",
            "[CV 3/3] END learning_rate=0.2, max_depth=3, min_child_weight=10, n_estimators=2000, subsample=1.0;, score=0.906 total time=  11.0s\n",
            "[CV 1/3] END learning_rate=0.2, max_depth=8, min_child_weight=1, n_estimators=500, subsample=0.6;, score=0.900 total time=   8.4s\n",
            "[CV 2/3] END learning_rate=0.2, max_depth=8, min_child_weight=1, n_estimators=500, subsample=0.6;, score=0.916 total time=   8.5s\n",
            "[CV 3/3] END learning_rate=0.2, max_depth=8, min_child_weight=1, n_estimators=500, subsample=0.6;, score=0.906 total time=   8.4s\n",
            "[CV 1/3] END learning_rate=0.2, max_depth=8, min_child_weight=1, n_estimators=500, subsample=0.8;, score=0.905 total time=   8.0s\n",
            "[CV 2/3] END learning_rate=0.2, max_depth=8, min_child_weight=1, n_estimators=500, subsample=0.8;, score=0.917 total time=   8.1s\n",
            "[CV 3/3] END learning_rate=0.2, max_depth=8, min_child_weight=1, n_estimators=500, subsample=0.8;, score=0.909 total time=   8.1s\n",
            "[CV 1/3] END learning_rate=0.2, max_depth=8, min_child_weight=1, n_estimators=500, subsample=1.0;, score=0.906 total time=   7.1s\n",
            "[CV 2/3] END learning_rate=0.2, max_depth=8, min_child_weight=1, n_estimators=500, subsample=1.0;, score=0.918 total time=   7.2s\n",
            "[CV 3/3] END learning_rate=0.2, max_depth=8, min_child_weight=1, n_estimators=500, subsample=1.0;, score=0.910 total time=   7.2s\n",
            "[CV 1/3] END learning_rate=0.2, max_depth=8, min_child_weight=1, n_estimators=1000, subsample=0.6;, score=0.899 total time=  14.9s\n",
            "[CV 2/3] END learning_rate=0.2, max_depth=8, min_child_weight=1, n_estimators=1000, subsample=0.6;, score=0.914 total time=  15.2s\n",
            "[CV 3/3] END learning_rate=0.2, max_depth=8, min_child_weight=1, n_estimators=1000, subsample=0.6;, score=0.905 total time=  15.1s\n",
            "[CV 1/3] END learning_rate=0.2, max_depth=8, min_child_weight=1, n_estimators=1000, subsample=0.8;, score=0.902 total time=  14.5s\n",
            "[CV 2/3] END learning_rate=0.2, max_depth=8, min_child_weight=1, n_estimators=1000, subsample=0.8;, score=0.914 total time=  14.8s\n",
            "[CV 3/3] END learning_rate=0.2, max_depth=8, min_child_weight=1, n_estimators=1000, subsample=0.8;, score=0.906 total time=  14.7s\n",
            "[CV 1/3] END learning_rate=0.2, max_depth=8, min_child_weight=1, n_estimators=1000, subsample=1.0;, score=0.902 total time=  13.6s\n",
            "[CV 2/3] END learning_rate=0.2, max_depth=8, min_child_weight=1, n_estimators=1000, subsample=1.0;, score=0.915 total time=  13.8s\n",
            "[CV 3/3] END learning_rate=0.2, max_depth=8, min_child_weight=1, n_estimators=1000, subsample=1.0;, score=0.908 total time=  13.7s\n",
            "[CV 1/3] END learning_rate=0.2, max_depth=8, min_child_weight=1, n_estimators=1500, subsample=0.6;, score=0.898 total time=  20.6s\n",
            "[CV 2/3] END learning_rate=0.2, max_depth=8, min_child_weight=1, n_estimators=1500, subsample=0.6;, score=0.913 total time=  21.2s\n",
            "[CV 3/3] END learning_rate=0.2, max_depth=8, min_child_weight=1, n_estimators=1500, subsample=0.6;, score=0.904 total time=  20.9s\n",
            "[CV 1/3] END learning_rate=0.2, max_depth=8, min_child_weight=1, n_estimators=1500, subsample=0.8;, score=0.900 total time=  20.0s\n",
            "[CV 2/3] END learning_rate=0.2, max_depth=8, min_child_weight=1, n_estimators=1500, subsample=0.8;, score=0.913 total time=  20.6s\n",
            "[CV 3/3] END learning_rate=0.2, max_depth=8, min_child_weight=1, n_estimators=1500, subsample=0.8;, score=0.905 total time=  20.5s\n",
            "[CV 1/3] END learning_rate=0.2, max_depth=8, min_child_weight=1, n_estimators=1500, subsample=1.0;, score=0.901 total time=  19.4s\n",
            "[CV 2/3] END learning_rate=0.2, max_depth=8, min_child_weight=1, n_estimators=1500, subsample=1.0;, score=0.913 total time=  19.8s\n",
            "[CV 3/3] END learning_rate=0.2, max_depth=8, min_child_weight=1, n_estimators=1500, subsample=1.0;, score=0.906 total time=  19.7s\n",
            "[CV 1/3] END learning_rate=0.2, max_depth=8, min_child_weight=1, n_estimators=2000, subsample=0.6;, score=0.897 total time=  25.7s\n",
            "[CV 2/3] END learning_rate=0.2, max_depth=8, min_child_weight=1, n_estimators=2000, subsample=0.6;, score=0.911 total time=  26.5s\n",
            "[CV 3/3] END learning_rate=0.2, max_depth=8, min_child_weight=1, n_estimators=2000, subsample=0.6;, score=0.905 total time=  26.2s\n",
            "[CV 1/3] END learning_rate=0.2, max_depth=8, min_child_weight=1, n_estimators=2000, subsample=0.8;, score=0.899 total time=  24.9s\n",
            "[CV 2/3] END learning_rate=0.2, max_depth=8, min_child_weight=1, n_estimators=2000, subsample=0.8;, score=0.912 total time=  26.0s\n",
            "[CV 3/3] END learning_rate=0.2, max_depth=8, min_child_weight=1, n_estimators=2000, subsample=0.8;, score=0.905 total time=  25.8s\n",
            "[CV 1/3] END learning_rate=0.2, max_depth=8, min_child_weight=1, n_estimators=2000, subsample=1.0;, score=0.900 total time=  24.6s\n",
            "[CV 2/3] END learning_rate=0.2, max_depth=8, min_child_weight=1, n_estimators=2000, subsample=1.0;, score=0.912 total time=  25.2s\n",
            "[CV 3/3] END learning_rate=0.2, max_depth=8, min_child_weight=1, n_estimators=2000, subsample=1.0;, score=0.906 total time=  25.2s\n",
            "[CV 1/3] END learning_rate=0.2, max_depth=8, min_child_weight=5, n_estimators=500, subsample=0.6;, score=0.902 total time=   7.5s\n",
            "[CV 2/3] END learning_rate=0.2, max_depth=8, min_child_weight=5, n_estimators=500, subsample=0.6;, score=0.910 total time=   7.6s\n",
            "[CV 3/3] END learning_rate=0.2, max_depth=8, min_child_weight=5, n_estimators=500, subsample=0.6;, score=0.904 total time=   7.6s\n",
            "[CV 1/3] END learning_rate=0.2, max_depth=8, min_child_weight=5, n_estimators=500, subsample=0.8;, score=0.904 total time=   7.5s\n",
            "[CV 2/3] END learning_rate=0.2, max_depth=8, min_child_weight=5, n_estimators=500, subsample=0.8;, score=0.914 total time=   7.6s\n",
            "[CV 3/3] END learning_rate=0.2, max_depth=8, min_child_weight=5, n_estimators=500, subsample=0.8;, score=0.907 total time=   7.6s\n",
            "[CV 1/3] END learning_rate=0.2, max_depth=8, min_child_weight=5, n_estimators=500, subsample=1.0;, score=0.904 total time=   6.8s\n",
            "[CV 2/3] END learning_rate=0.2, max_depth=8, min_child_weight=5, n_estimators=500, subsample=1.0;, score=0.914 total time=   6.8s\n",
            "[CV 3/3] END learning_rate=0.2, max_depth=8, min_child_weight=5, n_estimators=500, subsample=1.0;, score=0.908 total time=   6.8s\n",
            "[CV 1/3] END learning_rate=0.2, max_depth=8, min_child_weight=5, n_estimators=1000, subsample=0.6;, score=0.897 total time=  13.6s\n",
            "[CV 2/3] END learning_rate=0.2, max_depth=8, min_child_weight=5, n_estimators=1000, subsample=0.6;, score=0.908 total time=  13.7s\n",
            "[CV 3/3] END learning_rate=0.2, max_depth=8, min_child_weight=5, n_estimators=1000, subsample=0.6;, score=0.902 total time=  13.8s\n",
            "[CV 1/3] END learning_rate=0.2, max_depth=8, min_child_weight=5, n_estimators=1000, subsample=0.8;, score=0.900 total time=  13.5s\n",
            "[CV 2/3] END learning_rate=0.2, max_depth=8, min_child_weight=5, n_estimators=1000, subsample=0.8;, score=0.910 total time=  13.9s\n",
            "[CV 3/3] END learning_rate=0.2, max_depth=8, min_child_weight=5, n_estimators=1000, subsample=0.8;, score=0.905 total time=  13.8s\n",
            "[CV 1/3] END learning_rate=0.2, max_depth=8, min_child_weight=5, n_estimators=1000, subsample=1.0;, score=0.900 total time=  13.1s\n",
            "[CV 2/3] END learning_rate=0.2, max_depth=8, min_child_weight=5, n_estimators=1000, subsample=1.0;, score=0.910 total time=  13.2s\n",
            "[CV 3/3] END learning_rate=0.2, max_depth=8, min_child_weight=5, n_estimators=1000, subsample=1.0;, score=0.905 total time=  13.2s\n",
            "[CV 1/3] END learning_rate=0.2, max_depth=8, min_child_weight=5, n_estimators=1500, subsample=0.6;, score=0.895 total time=  18.7s\n",
            "[CV 2/3] END learning_rate=0.2, max_depth=8, min_child_weight=5, n_estimators=1500, subsample=0.6;, score=0.906 total time=  19.2s\n",
            "[CV 3/3] END learning_rate=0.2, max_depth=8, min_child_weight=5, n_estimators=1500, subsample=0.6;, score=0.901 total time=  19.3s\n",
            "[CV 1/3] END learning_rate=0.2, max_depth=8, min_child_weight=5, n_estimators=1500, subsample=0.8;, score=0.898 total time=  18.6s\n",
            "[CV 2/3] END learning_rate=0.2, max_depth=8, min_child_weight=5, n_estimators=1500, subsample=0.8;, score=0.908 total time=  19.2s\n",
            "[CV 3/3] END learning_rate=0.2, max_depth=8, min_child_weight=5, n_estimators=1500, subsample=0.8;, score=0.904 total time=  19.2s\n",
            "[CV 1/3] END learning_rate=0.2, max_depth=8, min_child_weight=5, n_estimators=1500, subsample=1.0;, score=0.898 total time=  18.6s\n",
            "[CV 2/3] END learning_rate=0.2, max_depth=8, min_child_weight=5, n_estimators=1500, subsample=1.0;, score=0.908 total time=  18.9s\n",
            "[CV 3/3] END learning_rate=0.2, max_depth=8, min_child_weight=5, n_estimators=1500, subsample=1.0;, score=0.904 total time=  18.8s\n",
            "[CV 1/3] END learning_rate=0.2, max_depth=8, min_child_weight=5, n_estimators=2000, subsample=0.6;, score=0.893 total time=  23.5s\n",
            "[CV 2/3] END learning_rate=0.2, max_depth=8, min_child_weight=5, n_estimators=2000, subsample=0.6;, score=0.906 total time=  24.2s\n",
            "[CV 3/3] END learning_rate=0.2, max_depth=8, min_child_weight=5, n_estimators=2000, subsample=0.6;, score=0.901 total time=  24.2s\n",
            "[CV 1/3] END learning_rate=0.2, max_depth=8, min_child_weight=5, n_estimators=2000, subsample=0.8;, score=0.897 total time=  23.3s\n",
            "[CV 2/3] END learning_rate=0.2, max_depth=8, min_child_weight=5, n_estimators=2000, subsample=0.8;, score=0.908 total time=  24.2s\n",
            "[CV 3/3] END learning_rate=0.2, max_depth=8, min_child_weight=5, n_estimators=2000, subsample=0.8;, score=0.903 total time=  24.1s\n",
            "[CV 1/3] END learning_rate=0.2, max_depth=8, min_child_weight=5, n_estimators=2000, subsample=1.0;, score=0.896 total time=  23.3s\n",
            "[CV 2/3] END learning_rate=0.2, max_depth=8, min_child_weight=5, n_estimators=2000, subsample=1.0;, score=0.908 total time=  23.9s\n",
            "[CV 3/3] END learning_rate=0.2, max_depth=8, min_child_weight=5, n_estimators=2000, subsample=1.0;, score=0.903 total time=  23.7s\n",
            "[CV 1/3] END learning_rate=0.2, max_depth=8, min_child_weight=10, n_estimators=500, subsample=0.6;, score=0.905 total time=   6.9s\n",
            "[CV 2/3] END learning_rate=0.2, max_depth=8, min_child_weight=10, n_estimators=500, subsample=0.6;, score=0.907 total time=   7.0s\n",
            "[CV 3/3] END learning_rate=0.2, max_depth=8, min_child_weight=10, n_estimators=500, subsample=0.6;, score=0.909 total time=   7.0s\n",
            "[CV 1/3] END learning_rate=0.2, max_depth=8, min_child_weight=10, n_estimators=500, subsample=0.8;, score=0.909 total time=   7.1s\n",
            "[CV 2/3] END learning_rate=0.2, max_depth=8, min_child_weight=10, n_estimators=500, subsample=0.8;, score=0.910 total time=   7.2s\n",
            "[CV 3/3] END learning_rate=0.2, max_depth=8, min_child_weight=10, n_estimators=500, subsample=0.8;, score=0.907 total time=   7.1s\n",
            "[CV 1/3] END learning_rate=0.2, max_depth=8, min_child_weight=10, n_estimators=500, subsample=1.0;, score=0.907 total time=   6.7s\n",
            "[CV 2/3] END learning_rate=0.2, max_depth=8, min_child_weight=10, n_estimators=500, subsample=1.0;, score=0.912 total time=   6.8s\n",
            "[CV 3/3] END learning_rate=0.2, max_depth=8, min_child_weight=10, n_estimators=500, subsample=1.0;, score=0.908 total time=   6.7s\n",
            "[CV 1/3] END learning_rate=0.2, max_depth=8, min_child_weight=10, n_estimators=1000, subsample=0.6;, score=0.900 total time=  12.6s\n",
            "[CV 2/3] END learning_rate=0.2, max_depth=8, min_child_weight=10, n_estimators=1000, subsample=0.6;, score=0.905 total time=  12.8s\n",
            "[CV 3/3] END learning_rate=0.2, max_depth=8, min_child_weight=10, n_estimators=1000, subsample=0.6;, score=0.903 total time=  12.8s\n",
            "[CV 1/3] END learning_rate=0.2, max_depth=8, min_child_weight=10, n_estimators=1000, subsample=0.8;, score=0.903 total time=  12.8s\n",
            "[CV 2/3] END learning_rate=0.2, max_depth=8, min_child_weight=10, n_estimators=1000, subsample=0.8;, score=0.907 total time=  13.1s\n",
            "[CV 3/3] END learning_rate=0.2, max_depth=8, min_child_weight=10, n_estimators=1000, subsample=0.8;, score=0.903 total time=  13.0s\n",
            "[CV 1/3] END learning_rate=0.2, max_depth=8, min_child_weight=10, n_estimators=1000, subsample=1.0;, score=0.901 total time=  12.8s\n",
            "[CV 2/3] END learning_rate=0.2, max_depth=8, min_child_weight=10, n_estimators=1000, subsample=1.0;, score=0.907 total time=  13.0s\n",
            "[CV 3/3] END learning_rate=0.2, max_depth=8, min_child_weight=10, n_estimators=1000, subsample=1.0;, score=0.904 total time=  12.9s\n",
            "[CV 1/3] END learning_rate=0.2, max_depth=8, min_child_weight=10, n_estimators=1500, subsample=0.6;, score=0.898 total time=  17.7s\n",
            "[CV 2/3] END learning_rate=0.2, max_depth=8, min_child_weight=10, n_estimators=1500, subsample=0.6;, score=0.902 total time=  18.0s\n",
            "[CV 3/3] END learning_rate=0.2, max_depth=8, min_child_weight=10, n_estimators=1500, subsample=0.6;, score=0.902 total time=  17.9s\n",
            "[CV 1/3] END learning_rate=0.2, max_depth=8, min_child_weight=10, n_estimators=1500, subsample=0.8;, score=0.901 total time=  17.8s\n",
            "[CV 2/3] END learning_rate=0.2, max_depth=8, min_child_weight=10, n_estimators=1500, subsample=0.8;, score=0.903 total time=  18.3s\n",
            "[CV 3/3] END learning_rate=0.2, max_depth=8, min_child_weight=10, n_estimators=1500, subsample=0.8;, score=0.900 total time=  18.2s\n",
            "[CV 1/3] END learning_rate=0.2, max_depth=8, min_child_weight=10, n_estimators=1500, subsample=1.0;, score=0.899 total time=  18.0s\n",
            "[CV 2/3] END learning_rate=0.2, max_depth=8, min_child_weight=10, n_estimators=1500, subsample=1.0;, score=0.906 total time=  18.4s\n",
            "[CV 3/3] END learning_rate=0.2, max_depth=8, min_child_weight=10, n_estimators=1500, subsample=1.0;, score=0.902 total time=  18.5s\n",
            "[CV 1/3] END learning_rate=0.2, max_depth=8, min_child_weight=10, n_estimators=2000, subsample=0.6;, score=0.896 total time=  22.3s\n",
            "[CV 2/3] END learning_rate=0.2, max_depth=8, min_child_weight=10, n_estimators=2000, subsample=0.6;, score=0.903 total time=  22.8s\n",
            "[CV 3/3] END learning_rate=0.2, max_depth=8, min_child_weight=10, n_estimators=2000, subsample=0.6;, score=0.901 total time=  22.8s\n",
            "[CV 1/3] END learning_rate=0.2, max_depth=8, min_child_weight=10, n_estimators=2000, subsample=0.8;, score=0.899 total time=  22.4s\n",
            "[CV 2/3] END learning_rate=0.2, max_depth=8, min_child_weight=10, n_estimators=2000, subsample=0.8;, score=0.903 total time=  23.0s\n",
            "[CV 3/3] END learning_rate=0.2, max_depth=8, min_child_weight=10, n_estimators=2000, subsample=0.8;, score=0.900 total time=  22.9s\n",
            "[CV 1/3] END learning_rate=0.2, max_depth=8, min_child_weight=10, n_estimators=2000, subsample=1.0;, score=0.896 total time=  22.5s\n",
            "[CV 2/3] END learning_rate=0.2, max_depth=8, min_child_weight=10, n_estimators=2000, subsample=1.0;, score=0.904 total time=  23.2s\n",
            "[CV 3/3] END learning_rate=0.2, max_depth=8, min_child_weight=10, n_estimators=2000, subsample=1.0;, score=0.901 total time=  23.3s\n",
            "[CV 1/3] END learning_rate=0.2, max_depth=12, min_child_weight=1, n_estimators=500, subsample=0.6;, score=0.904 total time=   9.4s\n",
            "[CV 2/3] END learning_rate=0.2, max_depth=12, min_child_weight=1, n_estimators=500, subsample=0.6;, score=0.914 total time=   9.5s\n",
            "[CV 3/3] END learning_rate=0.2, max_depth=12, min_child_weight=1, n_estimators=500, subsample=0.6;, score=0.906 total time=   9.5s\n",
            "[CV 1/3] END learning_rate=0.2, max_depth=12, min_child_weight=1, n_estimators=500, subsample=0.8;, score=0.907 total time=   9.4s\n",
            "[CV 2/3] END learning_rate=0.2, max_depth=12, min_child_weight=1, n_estimators=500, subsample=0.8;, score=0.916 total time=   9.7s\n",
            "[CV 3/3] END learning_rate=0.2, max_depth=12, min_child_weight=1, n_estimators=500, subsample=0.8;, score=0.910 total time=   9.6s\n",
            "[CV 1/3] END learning_rate=0.2, max_depth=12, min_child_weight=1, n_estimators=500, subsample=1.0;, score=0.907 total time=   9.6s\n",
            "[CV 2/3] END learning_rate=0.2, max_depth=12, min_child_weight=1, n_estimators=500, subsample=1.0;, score=0.920 total time=   9.8s\n",
            "[CV 3/3] END learning_rate=0.2, max_depth=12, min_child_weight=1, n_estimators=500, subsample=1.0;, score=0.911 total time=   9.6s\n",
            "[CV 1/3] END learning_rate=0.2, max_depth=12, min_child_weight=1, n_estimators=1000, subsample=0.6;, score=0.902 total time=  15.8s\n",
            "[CV 2/3] END learning_rate=0.2, max_depth=12, min_child_weight=1, n_estimators=1000, subsample=0.6;, score=0.913 total time=  16.2s\n",
            "[CV 3/3] END learning_rate=0.2, max_depth=12, min_child_weight=1, n_estimators=1000, subsample=0.6;, score=0.905 total time=  16.0s\n",
            "[CV 1/3] END learning_rate=0.2, max_depth=12, min_child_weight=1, n_estimators=1000, subsample=0.8;, score=0.904 total time=  15.7s\n",
            "[CV 2/3] END learning_rate=0.2, max_depth=12, min_child_weight=1, n_estimators=1000, subsample=0.8;, score=0.914 total time=  16.2s\n",
            "[CV 3/3] END learning_rate=0.2, max_depth=12, min_child_weight=1, n_estimators=1000, subsample=0.8;, score=0.909 total time=  16.0s\n",
            "[CV 1/3] END learning_rate=0.2, max_depth=12, min_child_weight=1, n_estimators=1000, subsample=1.0;, score=0.905 total time=  16.1s\n",
            "[CV 2/3] END learning_rate=0.2, max_depth=12, min_child_weight=1, n_estimators=1000, subsample=1.0;, score=0.918 total time=  16.6s\n",
            "[CV 3/3] END learning_rate=0.2, max_depth=12, min_child_weight=1, n_estimators=1000, subsample=1.0;, score=0.910 total time=  16.3s\n",
            "[CV 1/3] END learning_rate=0.2, max_depth=12, min_child_weight=1, n_estimators=1500, subsample=0.6;, score=0.901 total time=  21.3s\n",
            "[CV 2/3] END learning_rate=0.2, max_depth=12, min_child_weight=1, n_estimators=1500, subsample=0.6;, score=0.911 total time=  21.9s\n",
            "[CV 3/3] END learning_rate=0.2, max_depth=12, min_child_weight=1, n_estimators=1500, subsample=0.6;, score=0.905 total time=  21.8s\n",
            "[CV 1/3] END learning_rate=0.2, max_depth=12, min_child_weight=1, n_estimators=1500, subsample=0.8;, score=0.903 total time=  21.1s\n",
            "[CV 2/3] END learning_rate=0.2, max_depth=12, min_child_weight=1, n_estimators=1500, subsample=0.8;, score=0.913 total time=  21.8s\n",
            "[CV 3/3] END learning_rate=0.2, max_depth=12, min_child_weight=1, n_estimators=1500, subsample=0.8;, score=0.908 total time=  21.7s\n",
            "[CV 1/3] END learning_rate=0.2, max_depth=12, min_child_weight=1, n_estimators=1500, subsample=1.0;, score=0.904 total time=  21.5s\n",
            "[CV 2/3] END learning_rate=0.2, max_depth=12, min_child_weight=1, n_estimators=1500, subsample=1.0;, score=0.917 total time=  22.4s\n",
            "[CV 3/3] END learning_rate=0.2, max_depth=12, min_child_weight=1, n_estimators=1500, subsample=1.0;, score=0.909 total time=  22.0s\n",
            "[CV 1/3] END learning_rate=0.2, max_depth=12, min_child_weight=1, n_estimators=2000, subsample=0.6;, score=0.900 total time=  26.4s\n",
            "[CV 2/3] END learning_rate=0.2, max_depth=12, min_child_weight=1, n_estimators=2000, subsample=0.6;, score=0.910 total time=  27.2s\n",
            "[CV 3/3] END learning_rate=0.2, max_depth=12, min_child_weight=1, n_estimators=2000, subsample=0.6;, score=0.903 total time=  26.9s\n",
            "[CV 1/3] END learning_rate=0.2, max_depth=12, min_child_weight=1, n_estimators=2000, subsample=0.8;, score=0.902 total time=  25.9s\n",
            "[CV 2/3] END learning_rate=0.2, max_depth=12, min_child_weight=1, n_estimators=2000, subsample=0.8;, score=0.912 total time=  27.0s\n",
            "[CV 3/3] END learning_rate=0.2, max_depth=12, min_child_weight=1, n_estimators=2000, subsample=0.8;, score=0.908 total time=  26.8s\n",
            "[CV 1/3] END learning_rate=0.2, max_depth=12, min_child_weight=1, n_estimators=2000, subsample=1.0;, score=0.903 total time=  26.6s\n",
            "[CV 2/3] END learning_rate=0.2, max_depth=12, min_child_weight=1, n_estimators=2000, subsample=1.0;, score=0.916 total time=  27.6s\n",
            "[CV 3/3] END learning_rate=0.2, max_depth=12, min_child_weight=1, n_estimators=2000, subsample=1.0;, score=0.908 total time=  27.3s\n",
            "[CV 1/3] END learning_rate=0.2, max_depth=12, min_child_weight=5, n_estimators=500, subsample=0.6;, score=0.903 total time=   8.2s\n",
            "[CV 2/3] END learning_rate=0.2, max_depth=12, min_child_weight=5, n_estimators=500, subsample=0.6;, score=0.912 total time=   8.4s\n",
            "[CV 3/3] END learning_rate=0.2, max_depth=12, min_child_weight=5, n_estimators=500, subsample=0.6;, score=0.906 total time=   8.3s\n",
            "[CV 1/3] END learning_rate=0.2, max_depth=12, min_child_weight=5, n_estimators=500, subsample=0.8;, score=0.902 total time=   8.5s\n",
            "[CV 2/3] END learning_rate=0.2, max_depth=12, min_child_weight=5, n_estimators=500, subsample=0.8;, score=0.912 total time=   8.7s\n",
            "[CV 3/3] END learning_rate=0.2, max_depth=12, min_child_weight=5, n_estimators=500, subsample=0.8;, score=0.906 total time=   8.7s\n",
            "[CV 1/3] END learning_rate=0.2, max_depth=12, min_child_weight=5, n_estimators=500, subsample=1.0;, score=0.905 total time=   8.9s\n",
            "[CV 2/3] END learning_rate=0.2, max_depth=12, min_child_weight=5, n_estimators=500, subsample=1.0;, score=0.915 total time=   9.1s\n",
            "[CV 3/3] END learning_rate=0.2, max_depth=12, min_child_weight=5, n_estimators=500, subsample=1.0;, score=0.907 total time=   9.0s\n",
            "[CV 1/3] END learning_rate=0.2, max_depth=12, min_child_weight=5, n_estimators=1000, subsample=0.6;, score=0.897 total time=  14.2s\n",
            "[CV 2/3] END learning_rate=0.2, max_depth=12, min_child_weight=5, n_estimators=1000, subsample=0.6;, score=0.911 total time=  14.4s\n",
            "[CV 3/3] END learning_rate=0.2, max_depth=12, min_child_weight=5, n_estimators=1000, subsample=0.6;, score=0.903 total time=  14.4s\n",
            "[CV 1/3] END learning_rate=0.2, max_depth=12, min_child_weight=5, n_estimators=1000, subsample=0.8;, score=0.898 total time=  14.4s\n",
            "[CV 2/3] END learning_rate=0.2, max_depth=12, min_child_weight=5, n_estimators=1000, subsample=0.8;, score=0.909 total time=  14.8s\n",
            "[CV 3/3] END learning_rate=0.2, max_depth=12, min_child_weight=5, n_estimators=1000, subsample=0.8;, score=0.903 total time=  14.8s\n",
            "[CV 1/3] END learning_rate=0.2, max_depth=12, min_child_weight=5, n_estimators=1000, subsample=1.0;, score=0.901 total time=  15.1s\n",
            "[CV 2/3] END learning_rate=0.2, max_depth=12, min_child_weight=5, n_estimators=1000, subsample=1.0;, score=0.913 total time=  15.6s\n",
            "[CV 3/3] END learning_rate=0.2, max_depth=12, min_child_weight=5, n_estimators=1000, subsample=1.0;, score=0.905 total time=  15.2s\n",
            "[CV 1/3] END learning_rate=0.2, max_depth=12, min_child_weight=5, n_estimators=1500, subsample=0.6;, score=0.895 total time=  19.3s\n",
            "[CV 2/3] END learning_rate=0.2, max_depth=12, min_child_weight=5, n_estimators=1500, subsample=0.6;, score=0.909 total time=  19.8s\n",
            "[CV 3/3] END learning_rate=0.2, max_depth=12, min_child_weight=5, n_estimators=1500, subsample=0.6;, score=0.902 total time=  19.8s\n",
            "[CV 1/3] END learning_rate=0.2, max_depth=12, min_child_weight=5, n_estimators=1500, subsample=0.8;, score=0.897 total time=  19.5s\n",
            "[CV 2/3] END learning_rate=0.2, max_depth=12, min_child_weight=5, n_estimators=1500, subsample=0.8;, score=0.907 total time=  20.1s\n",
            "[CV 3/3] END learning_rate=0.2, max_depth=12, min_child_weight=5, n_estimators=1500, subsample=0.8;, score=0.902 total time=  20.1s\n",
            "[CV 1/3] END learning_rate=0.2, max_depth=12, min_child_weight=5, n_estimators=1500, subsample=1.0;, score=0.899 total time=  20.2s\n",
            "[CV 2/3] END learning_rate=0.2, max_depth=12, min_child_weight=5, n_estimators=1500, subsample=1.0;, score=0.911 total time=  21.0s\n",
            "[CV 3/3] END learning_rate=0.2, max_depth=12, min_child_weight=5, n_estimators=1500, subsample=1.0;, score=0.903 total time=  20.6s\n",
            "[CV 1/3] END learning_rate=0.2, max_depth=12, min_child_weight=5, n_estimators=2000, subsample=0.6;, score=0.893 total time=  24.1s\n",
            "[CV 2/3] END learning_rate=0.2, max_depth=12, min_child_weight=5, n_estimators=2000, subsample=0.6;, score=0.909 total time=  24.6s\n",
            "[CV 3/3] END learning_rate=0.2, max_depth=12, min_child_weight=5, n_estimators=2000, subsample=0.6;, score=0.901 total time=  24.6s\n",
            "[CV 1/3] END learning_rate=0.2, max_depth=12, min_child_weight=5, n_estimators=2000, subsample=0.8;, score=0.895 total time=  24.0s\n",
            "[CV 2/3] END learning_rate=0.2, max_depth=12, min_child_weight=5, n_estimators=2000, subsample=0.8;, score=0.907 total time=  24.9s\n",
            "[CV 3/3] END learning_rate=0.2, max_depth=12, min_child_weight=5, n_estimators=2000, subsample=0.8;, score=0.901 total time=  24.9s\n",
            "[CV 1/3] END learning_rate=0.2, max_depth=12, min_child_weight=5, n_estimators=2000, subsample=1.0;, score=0.898 total time=  24.7s\n",
            "[CV 2/3] END learning_rate=0.2, max_depth=12, min_child_weight=5, n_estimators=2000, subsample=1.0;, score=0.910 total time=  25.6s\n",
            "[CV 3/3] END learning_rate=0.2, max_depth=12, min_child_weight=5, n_estimators=2000, subsample=1.0;, score=0.902 total time=  25.4s\n",
            "[CV 1/3] END learning_rate=0.2, max_depth=12, min_child_weight=10, n_estimators=500, subsample=0.6;, score=0.904 total time=   7.1s\n",
            "[CV 2/3] END learning_rate=0.2, max_depth=12, min_child_weight=10, n_estimators=500, subsample=0.6;, score=0.913 total time=   7.2s\n",
            "[CV 3/3] END learning_rate=0.2, max_depth=12, min_child_weight=10, n_estimators=500, subsample=0.6;, score=0.903 total time=   7.2s\n",
            "[CV 1/3] END learning_rate=0.2, max_depth=12, min_child_weight=10, n_estimators=500, subsample=0.8;, score=0.911 total time=   7.6s\n",
            "[CV 2/3] END learning_rate=0.2, max_depth=12, min_child_weight=10, n_estimators=500, subsample=0.8;, score=0.914 total time=   7.9s\n",
            "[CV 3/3] END learning_rate=0.2, max_depth=12, min_child_weight=10, n_estimators=500, subsample=0.8;, score=0.907 total time=   7.7s\n",
            "[CV 1/3] END learning_rate=0.2, max_depth=12, min_child_weight=10, n_estimators=500, subsample=1.0;, score=0.906 total time=   8.3s\n",
            "[CV 2/3] END learning_rate=0.2, max_depth=12, min_child_weight=10, n_estimators=500, subsample=1.0;, score=0.912 total time=   8.6s\n",
            "[CV 3/3] END learning_rate=0.2, max_depth=12, min_child_weight=10, n_estimators=500, subsample=1.0;, score=0.908 total time=   8.3s\n",
            "[CV 1/3] END learning_rate=0.2, max_depth=12, min_child_weight=10, n_estimators=1000, subsample=0.6;, score=0.900 total time=  12.8s\n",
            "[CV 2/3] END learning_rate=0.2, max_depth=12, min_child_weight=10, n_estimators=1000, subsample=0.6;, score=0.909 total time=  13.1s\n",
            "[CV 3/3] END learning_rate=0.2, max_depth=12, min_child_weight=10, n_estimators=1000, subsample=0.6;, score=0.901 total time=  13.0s\n",
            "[CV 1/3] END learning_rate=0.2, max_depth=12, min_child_weight=10, n_estimators=1000, subsample=0.8;, score=0.906 total time=  13.4s\n",
            "[CV 2/3] END learning_rate=0.2, max_depth=12, min_child_weight=10, n_estimators=1000, subsample=0.8;, score=0.910 total time=  13.7s\n",
            "[CV 3/3] END learning_rate=0.2, max_depth=12, min_child_weight=10, n_estimators=1000, subsample=0.8;, score=0.904 total time=  13.5s\n",
            "[CV 1/3] END learning_rate=0.2, max_depth=12, min_child_weight=10, n_estimators=1000, subsample=1.0;, score=0.901 total time=  14.1s\n",
            "[CV 2/3] END learning_rate=0.2, max_depth=12, min_child_weight=10, n_estimators=1000, subsample=1.0;, score=0.909 total time=  14.7s\n",
            "[CV 3/3] END learning_rate=0.2, max_depth=12, min_child_weight=10, n_estimators=1000, subsample=1.0;, score=0.905 total time=  14.6s\n",
            "[CV 1/3] END learning_rate=0.2, max_depth=12, min_child_weight=10, n_estimators=1500, subsample=0.6;, score=0.896 total time=  17.8s\n",
            "[CV 2/3] END learning_rate=0.2, max_depth=12, min_child_weight=10, n_estimators=1500, subsample=0.6;, score=0.907 total time=  18.3s\n",
            "[CV 3/3] END learning_rate=0.2, max_depth=12, min_child_weight=10, n_estimators=1500, subsample=0.6;, score=0.898 total time=  18.1s\n",
            "[CV 1/3] END learning_rate=0.2, max_depth=12, min_child_weight=10, n_estimators=1500, subsample=0.8;, score=0.903 total time=  18.3s\n",
            "[CV 2/3] END learning_rate=0.2, max_depth=12, min_child_weight=10, n_estimators=1500, subsample=0.8;, score=0.908 total time=  18.9s\n",
            "[CV 3/3] END learning_rate=0.2, max_depth=12, min_child_weight=10, n_estimators=1500, subsample=0.8;, score=0.901 total time=  18.7s\n",
            "[CV 1/3] END learning_rate=0.2, max_depth=12, min_child_weight=10, n_estimators=1500, subsample=1.0;, score=0.899 total time=  19.0s\n",
            "[CV 2/3] END learning_rate=0.2, max_depth=12, min_child_weight=10, n_estimators=1500, subsample=1.0;, score=0.907 total time=  20.0s\n",
            "[CV 3/3] END learning_rate=0.2, max_depth=12, min_child_weight=10, n_estimators=1500, subsample=1.0;, score=0.905 total time=  19.8s\n",
            "[CV 1/3] END learning_rate=0.2, max_depth=12, min_child_weight=10, n_estimators=2000, subsample=0.6;, score=0.895 total time=  22.5s\n",
            "[CV 2/3] END learning_rate=0.2, max_depth=12, min_child_weight=10, n_estimators=2000, subsample=0.6;, score=0.906 total time=  23.0s\n",
            "[CV 3/3] END learning_rate=0.2, max_depth=12, min_child_weight=10, n_estimators=2000, subsample=0.6;, score=0.897 total time=  23.0s\n",
            "[CV 1/3] END learning_rate=0.2, max_depth=12, min_child_weight=10, n_estimators=2000, subsample=0.8;, score=0.900 total time=  22.9s\n",
            "[CV 2/3] END learning_rate=0.2, max_depth=12, min_child_weight=10, n_estimators=2000, subsample=0.8;, score=0.907 total time=  23.5s\n",
            "[CV 3/3] END learning_rate=0.2, max_depth=12, min_child_weight=10, n_estimators=2000, subsample=0.8;, score=0.901 total time=  23.3s\n",
            "[CV 1/3] END learning_rate=0.2, max_depth=12, min_child_weight=10, n_estimators=2000, subsample=1.0;, score=0.897 total time=  23.5s\n",
            "[CV 2/3] END learning_rate=0.2, max_depth=12, min_child_weight=10, n_estimators=2000, subsample=1.0;, score=0.906 total time=  24.7s\n",
            "[CV 3/3] END learning_rate=0.2, max_depth=12, min_child_weight=10, n_estimators=2000, subsample=1.0;, score=0.903 total time=  24.4s\n",
            "\n",
            "Time taken: 4 hours 14 minutes and 17.82 seconds.\n",
            "Best parameters: {'learning_rate': 0.02, 'max_depth': 3, 'min_child_weight': 1, 'n_estimators': 500, 'subsample': 0.8}\n",
            "Best score: 0.9318682876038572\n"
          ]
        }
      ],
      "source": [
        "from datetime import datetime\n",
        "def timer(start_time=None):\n",
        "    if not start_time:\n",
        "        start_time = datetime.now()\n",
        "        return start_time\n",
        "    elif start_time:\n",
        "        thour, temp_sec = divmod((datetime.now() - start_time).total_seconds(), 3600)\n",
        "        tmin, tsec = divmod(temp_sec, 60)\n",
        "        print('\\nTime taken: %i hours %i minutes and %s seconds.' % (thour, tmin, round(tsec, 2)))\n",
        "\n",
        "\n",
        "params = {\n",
        "        'min_child_weight': [1, 5, 10],\n",
        "        # 'gamma': [0.5, 1, 1.5, 2, 5],\n",
        "        'subsample': [0.6, 0.8, 1.0],\n",
        "        # 'colsample_bytree': [0.6, 0.8, 1.0],\n",
        "        'max_depth': [3, 8, 12],\n",
        "        'n_estimators': [500, 1000, 1500, 2000],\n",
        "        'learning_rate': [0.02, 0.1, 0.2]\n",
        "        }\n",
        "xgb = XGBClassifier()\n",
        "\n",
        "skf = StratifiedKFold(n_splits=3, shuffle = True, random_state = 0)\n",
        "\n",
        "search = GridSearchCV(xgb, param_grid=params, scoring='roc_auc', \n",
        "                      cv=skf.split(X_train,y_train), verbose=3, refit=True)\n",
        "\n",
        "start_time = timer(None)\n",
        "search.fit(X_train, y_train)\n",
        "timer(start_time)\n",
        "print(\"Best parameters:\", search.best_params_)\n",
        "print(\"Best score:\", search.best_score_)\n"
      ]
    },
    {
      "cell_type": "markdown",
      "source": [
        "### XGBClassification with K-Fold CV"
      ],
      "metadata": {
        "id": "9-ZkD7NcacXw"
      }
    },
    {
      "cell_type": "code",
      "source": [
        "accuracy_xgb_kfold = []\n",
        "precision_xgb_kfold = []\n",
        "f1score_xgb_kfold = []\n",
        "\n",
        "X, y = make_classification(n_samples=12330, n_classes=2, weights=[0.50, 0.50], flip_y=0, random_state=0)\n",
        "kfold = StratifiedKFold(n_splits=5, shuffle=True, random_state=0)\n",
        "\n",
        "for train_x, test_x in kfold.split(X, y):\n",
        "  train_X, test_X = X[train_x], X[test_x]\n",
        "  train_y, test_y = y[train_x], y[test_x]\n",
        "  xgb = XGBClassifier(n_estimators=500, random_state=0, max_depth=3, learning_rate=0.02, min_child_weight=1, subsample=0.8)\n",
        "  xgb.fit(train_X, train_y)\n",
        "  y_pred = xgb.predict(test_X)\n",
        "  accuracy_xgb_kfold.append(metrics.accuracy_score(test_y, y_pred))\n",
        "  precision_xgb_kfold.append(metrics.precision_score(test_y, y_pred))\n",
        "  f1score_xgb_kfold.append(metrics.f1_score(test_y, y_pred))\n",
        "\n",
        "accuracy_xgb_kfoldmean = np.mean(accuracy_xgb_kfold) * 100\n",
        "print(\"Accuracy for XGBClassifier with K-fold CV: %.3f\" % (accuracy_xgb_kfoldmean))\n",
        "precision_xgb_kfoldmean = np.mean(precision_xgb_kfold) * 100\n",
        "print(\"Precision for XGBClassifier with K-fold CV: %.3f\" % (precision_xgb_kfoldmean))\n",
        "f1score_xgb_kfoldmean = np.mean(f1score_xgb_kfold) * 100\n",
        "print(\"F1-score for XGBClassifier with K-fold CV: %.3f\" % (f1score_xgb_kfoldmean))\n",
        "\n"
      ],
      "metadata": {
        "colab": {
          "base_uri": "https://localhost:8080/"
        },
        "id": "D-DA4Yq4adTg",
        "outputId": "c8039da2-1470-4a8a-96fa-1abfabb97f61"
      },
      "execution_count": 49,
      "outputs": [
        {
          "output_type": "stream",
          "name": "stdout",
          "text": [
            "Accuracy for XGBClassifier with K-fold CV: 91.103\n",
            "Precision for XGBClassifier with K-fold CV: 90.093\n",
            "F1-score for XGBClassifier with K-fold CV: 91.216\n"
          ]
        }
      ]
    },
    {
      "cell_type": "markdown",
      "source": [
        "Single XGBClassification"
      ],
      "metadata": {
        "id": "rc1mhHXycK4G"
      }
    },
    {
      "cell_type": "code",
      "execution_count": 32,
      "metadata": {
        "colab": {
          "base_uri": "https://localhost:8080/"
        },
        "id": "23TTYDTyLVuC",
        "outputId": "965630ba-4328-4303-e7c1-6904d37e255d"
      },
      "outputs": [
        {
          "output_type": "stream",
          "name": "stdout",
          "text": [
            "Accuracy for XGBClassifier: 92.348\n",
            "Precision for XGBClassifier: 91.958\n",
            "F1-score for XGBClassifier: 92.334\n"
          ]
        }
      ],
      "source": [
        "\n",
        "xgb = XGBClassifier(n_estimators=500, random_state=0, max_depth=3, learning_rate=0.02, min_child_weight=1, subsample=0.8)\n",
        "xgb.fit(X_train_res, y_train_res)\n",
        "y_pred_res = xgb.predict(X_test_res)\n",
        "xgb_train = xgb.score(X_train_res, y_train_res)\n",
        "xgb_test = xgb.score(X_test_res, y_test_res)\n",
        "\n",
        "accuracy_xgbc = 100 * metrics.accuracy_score(y_test_res, y_pred_res)\n",
        "print(\"Accuracy for XGBClassifier: %.3f\" % (accuracy_xgbc))\n",
        "precision_xgbc = 100 * metrics.precision_score(y_test_res, y_pred_res)\n",
        "print(\"Precision for XGBClassifier: %.3f\" % (precision_xgbc))\n",
        "f1score_xgbc = 100 * metrics.f1_score(y_test_res, y_pred_res)\n",
        "print(\"F1-score for XGBClassifier: %.3f\" % (f1score_xgbc))\n",
        "\n"
      ]
    },
    {
      "cell_type": "code",
      "execution_count": 33,
      "metadata": {
        "id": "91BtB9ZoK4Xu",
        "colab": {
          "base_uri": "https://localhost:8080/",
          "height": 343
        },
        "outputId": "4b95ca9b-ffe6-4864-f4bb-719e06f7da08"
      },
      "outputs": [
        {
          "output_type": "execute_result",
          "data": {
            "text/plain": [
              "Text(0.5, 257.44, 'Predicted label')"
            ]
          },
          "metadata": {},
          "execution_count": 33
        },
        {
          "output_type": "display_data",
          "data": {
            "text/plain": [
              "<Figure size 432x288 with 2 Axes>"
            ],
            "image/png": "[encoded data removed]"
          },
          "metadata": {
            "needs_background": "light"
          }
        }
      ],
      "source": [
        "cnf_matrix = metrics.confusion_matrix(y_test_res, y_pred_res)\n",
        "class_names=[0,1] # name  of classes\n",
        "fig, ax = plt.subplots()\n",
        "tick_marks = np.arange(len(class_names))\n",
        "plt.xticks(tick_marks, class_names)\n",
        "plt.yticks(tick_marks, class_names)\n",
        "# create heatmap\n",
        "sns.heatmap(pd.DataFrame(cnf_matrix), annot=True, cmap=\"YlGnBu\" ,fmt='g')\n",
        "ax.xaxis.set_label_position(\"top\")\n",
        "plt.tight_layout()\n",
        "plt.title('Confusion matrix Using XGB Model', y=1.1, fontweight='bold')\n",
        "plt.ylabel('Actual label')\n",
        "plt.xlabel('Predicted label')\n"
      ]
    },
    {
      "cell_type": "markdown",
      "metadata": {
        "id": "V1A5NBu1KxFB"
      },
      "source": [
        "# Model Comparison"
      ]
    },
    {
      "cell_type": "code",
      "execution_count": 50,
      "metadata": {
        "id": "c6HkMldEKv82",
        "colab": {
          "base_uri": "https://localhost:8080/",
          "height": 237
        },
        "outputId": "d1c98a44-fc4b-40cb-8bc2-20edc1ba3571"
      },
      "outputs": [
        {
          "output_type": "execute_result",
          "data": {
            "text/plain": [
              "               Algorithms   Accuracy  Precision   F1 Score\n",
              "0                    K-NN  90.189494  88.423423  90.565167\n",
              "1           K-NN + k-fold  88.872668  89.168954  88.830736\n",
              "2                     SVC  72.871192  72.099577  73.077839\n",
              "3            SVC + k-fold  90.072993  90.575714  90.010689\n",
              "4           XGBClassifier  92.348285  91.957875  92.333574\n",
              "5  XGBClassifier + k-fold  91.103001  90.092995  91.215533"
            ],
            "text/html": [
              "\n",
              "  <div id=\"df-00146d3e-5699-4475-bdf1-21b2bae3fbc3\">\n",
              "    <div class=\"colab-df-container\">\n",
              "      <div>\n",
              "<style scoped>\n",
              "    .dataframe tbody tr th:only-of-type {\n",
              "        vertical-align: middle;\n",
              "    }\n",
              "\n",
              "    .dataframe tbody tr th {\n",
              "        vertical-align: top;\n",
              "    }\n",
              "\n",
              "    .dataframe thead th {\n",
              "        text-align: right;\n",
              "    }\n",
              "</style>\n",
              "<table border=\"1\" class=\"dataframe\">\n",
              "  <thead>\n",
              "    <tr style=\"text-align: right;\">\n",
              "      <th></th>\n",
              "      <th>Algorithms</th>\n",
              "      <th>Accuracy</th>\n",
              "      <th>Precision</th>\n",
              "      <th>F1 Score</th>\n",
              "    </tr>\n",
              "  </thead>\n",
              "  <tbody>\n",
              "    <tr>\n",
              "      <th>0</th>\n",
              "      <td>K-NN</td>\n",
              "      <td>90.189494</td>\n",
              "      <td>88.423423</td>\n",
              "      <td>90.565167</td>\n",
              "    </tr>\n",
              "    <tr>\n",
              "      <th>1</th>\n",
              "      <td>K-NN + k-fold</td>\n",
              "      <td>88.872668</td>\n",
              "      <td>89.168954</td>\n",
              "      <td>88.830736</td>\n",
              "    </tr>\n",
              "    <tr>\n",
              "      <th>2</th>\n",
              "      <td>SVC</td>\n",
              "      <td>72.871192</td>\n",
              "      <td>72.099577</td>\n",
              "      <td>73.077839</td>\n",
              "    </tr>\n",
              "    <tr>\n",
              "      <th>3</th>\n",
              "      <td>SVC + k-fold</td>\n",
              "      <td>90.072993</td>\n",
              "      <td>90.575714</td>\n",
              "      <td>90.010689</td>\n",
              "    </tr>\n",
              "    <tr>\n",
              "      <th>4</th>\n",
              "      <td>XGBClassifier</td>\n",
              "      <td>92.348285</td>\n",
              "      <td>91.957875</td>\n",
              "      <td>92.333574</td>\n",
              "    </tr>\n",
              "    <tr>\n",
              "      <th>5</th>\n",
              "      <td>XGBClassifier + k-fold</td>\n",
              "      <td>91.103001</td>\n",
              "      <td>90.092995</td>\n",
              "      <td>91.215533</td>\n",
              "    </tr>\n",
              "  </tbody>\n",
              "</table>\n",
              "</div>\n",
              "      <button class=\"colab-df-convert\" onclick=\"convertToInteractive('df-00146d3e-5699-4475-bdf1-21b2bae3fbc3')\"\n",
              "              title=\"Convert this dataframe to an interactive table.\"\n",
              "              style=\"display:none;\">\n",
              "        \n",
              "  <svg xmlns=\"http://www.w3.org/2000/svg\" height=\"24px\"viewBox=\"0 0 24 24\"\n",
              "       width=\"24px\">\n",
              "    <path d=\"M0 0h24v24H0V0z\" fill=\"none\"/>\n",
              "    <path d=\"M18.56 5.44l.94 2.06.94-2.06 2.06-.94-2.06-.94-.94-2.06-.94 2.06-2.06.94zm-11 1L8.5 8.5l.94-2.06 2.06-.94-2.06-.94L8.5 2.5l-.94 2.06-2.06.94zm10 10l.94 2.06.94-2.06 2.06-.94-2.06-.94-.94-2.06-.94 2.06-2.06.94z\"/><path d=\"M17.41 7.96l-1.37-1.37c-.4-.4-.92-.59-1.43-.59-.52 0-1.04.2-1.43.59L10.3 9.45l-7.72 7.72c-.78.78-.78 2.05 0 2.83L4 21.41c.39.39.9.59 1.41.59.51 0 1.02-.2 1.41-.59l7.78-7.78 2.81-2.81c.8-.78.8-2.07 0-2.86zM5.41 20L4 18.59l7.72-7.72 1.47 1.35L5.41 20z\"/>\n",
              "  </svg>\n",
              "      </button>\n",
              "      \n",
              "  <style>\n",
              "    .colab-df-container {\n",
              "      display:flex;\n",
              "      flex-wrap:wrap;\n",
              "      gap: 12px;\n",
              "    }\n",
              "\n",
              "    .colab-df-convert {\n",
              "      background-color: #E8F0FE;\n",
              "      border: none;\n",
              "      border-radius: 50%;\n",
              "      cursor: pointer;\n",
              "      display: none;\n",
              "      fill: #1967D2;\n",
              "      height: 32px;\n",
              "      padding: 0 0 0 0;\n",
              "      width: 32px;\n",
              "    }\n",
              "\n",
              "    .colab-df-convert:hover {\n",
              "      background-color: #E2EBFA;\n",
              "      box-shadow: 0px 1px 2px rgba(60, 64, 67, 0.3), 0px 1px 3px 1px rgba(60, 64, 67, 0.15);\n",
              "      fill: #174EA6;\n",
              "    }\n",
              "\n",
              "    [theme=dark] .colab-df-convert {\n",
              "      background-color: #3B4455;\n",
              "      fill: #D2E3FC;\n",
              "    }\n",
              "\n",
              "    [theme=dark] .colab-df-convert:hover {\n",
              "      background-color: #434B5C;\n",
              "      box-shadow: 0px 1px 3px 1px rgba(0, 0, 0, 0.15);\n",
              "      filter: drop-shadow(0px 1px 2px rgba(0, 0, 0, 0.3));\n",
              "      fill: #FFFFFF;\n",
              "    }\n",
              "  </style>\n",
              "\n",
              "      <script>\n",
              "        const buttonEl =\n",
              "          document.querySelector('#df-00146d3e-5699-4475-bdf1-21b2bae3fbc3 button.colab-df-convert');\n",
              "        buttonEl.style.display =\n",
              "          google.colab.kernel.accessAllowed ? 'block' : 'none';\n",
              "\n",
              "        async function convertToInteractive(key) {\n",
              "          const element = document.querySelector('#df-00146d3e-5699-4475-bdf1-21b2bae3fbc3');\n",
              "          const dataTable =\n",
              "            await google.colab.kernel.invokeFunction('convertToInteractive',\n",
              "                                                     [key], {});\n",
              "          if (!dataTable) return;\n",
              "\n",
              "          const docLinkHtml = 'Like what you see? Visit the ' +\n",
              "            '<a target=\"_blank\" href=https://colab.research.google.com/notebooks/data_table.ipynb>data table notebook</a>'\n",
              "            + ' to learn more about interactive tables.';\n",
              "          element.innerHTML = '';\n",
              "          dataTable['output_type'] = 'display_data';\n",
              "          await google.colab.output.renderOutput(dataTable, element);\n",
              "          const docLink = document.createElement('div');\n",
              "          docLink.innerHTML = docLinkHtml;\n",
              "          element.appendChild(docLink);\n",
              "        }\n",
              "      </script>\n",
              "    </div>\n",
              "  </div>\n",
              "  "
            ]
          },
          "metadata": {},
          "execution_count": 50
        }
      ],
      "source": [
        "data = {'Algorithms':['K-NN', 'K-NN + k-fold', 'SVC', 'SVC + k-fold', 'XGBClassifier', 'XGBClassifier + k-fold'], \n",
        "        'Accuracy':[accuracy_knn, accuracy_knn_kfoldmean, accuracy_svc, accuracy_svc_kfoldmean, accuracy_xgbc, accuracy_xgb_kfoldmean],\n",
        "        'Precision':[precision_knn, precision_knn_kfoldmean, precision_svc, precision_svc_kfoldmean, precision_xgbc, precision_xgb_kfoldmean],\n",
        "        'F1 Score':[f1score_knn, f1score_knn_kfoldmean, f1score_svc, f1score_svc_kfoldmean, f1score_xgbc, f1score_xgb_kfoldmean]}\n",
        " \n",
        "# Calling DataFrame constructor\n",
        "models = pd.DataFrame(data)\n",
        " \n",
        "models"
      ]
    },
    {
      "cell_type": "code",
      "source": [
        ""
      ],
      "metadata": {
        "id": "rcI_saActBf7"
      },
      "execution_count": null,
      "outputs": []
    }
  ],
  "metadata": {
    "colab": {
      "collapsed_sections": [],
      "name": "INF2190.ipynb",
      "provenance": [],
      "include_colab_link": true
    },
    "kernelspec": {
      "display_name": "Python 3",
      "name": "python3"
    },
    "language_info": {
      "name": "python"
    }
  },
  "nbformat": 4,
  "nbformat_minor": 0
}